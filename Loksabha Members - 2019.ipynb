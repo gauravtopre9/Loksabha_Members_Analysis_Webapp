{
 "cells": [
  {
   "cell_type": "markdown",
   "id": "4f436a2f",
   "metadata": {},
   "source": [
    "# Loksabha Members 2019\n"
   ]
  },
  {
   "cell_type": "code",
   "execution_count": 93,
   "id": "713ebf1c",
   "metadata": {},
   "outputs": [],
   "source": [
    "import pandas as pd\n",
    "import numpy as np\n",
    "import matplotlib.pyplot as plt\n",
    "import seaborn as sns\n",
    "import plotly.express as px\n",
    "\n",
    "%matplotlib inline"
   ]
  },
  {
   "cell_type": "code",
   "execution_count": 11,
   "id": "e79e576e",
   "metadata": {},
   "outputs": [
    {
     "data": {
      "text/plain": [
       "(540, 10)"
      ]
     },
     "execution_count": 11,
     "metadata": {},
     "output_type": "execute_result"
    }
   ],
   "source": [
    "df = pd.read_csv('loksabha_seats_statewise.csv')\n",
    "df.shape"
   ]
  },
  {
   "cell_type": "code",
   "execution_count": 12,
   "id": "6ea3e633",
   "metadata": {},
   "outputs": [
    {
     "data": {
      "text/html": [
       "<div>\n",
       "<style scoped>\n",
       "    .dataframe tbody tr th:only-of-type {\n",
       "        vertical-align: middle;\n",
       "    }\n",
       "\n",
       "    .dataframe tbody tr th {\n",
       "        vertical-align: top;\n",
       "    }\n",
       "\n",
       "    .dataframe thead th {\n",
       "        text-align: right;\n",
       "    }\n",
       "</style>\n",
       "<table border=\"1\" class=\"dataframe\">\n",
       "  <thead>\n",
       "    <tr style=\"text-align: right;\">\n",
       "      <th></th>\n",
       "      <th>Name of Member</th>\n",
       "      <th>Party Name</th>\n",
       "      <th>Constituency</th>\n",
       "      <th>State</th>\n",
       "      <th>UT</th>\n",
       "      <th>Category</th>\n",
       "      <th>Woman</th>\n",
       "      <th>First time</th>\n",
       "      <th>Age</th>\n",
       "      <th>DOB</th>\n",
       "    </tr>\n",
       "  </thead>\n",
       "  <tbody>\n",
       "    <tr>\n",
       "      <th>0</th>\n",
       "      <td>Sharma, Shri Kuldeep Rai</td>\n",
       "      <td>Indian National Congress</td>\n",
       "      <td>Andaman and Nicobar Islands</td>\n",
       "      <td>Andaman and Nicobar Islands</td>\n",
       "      <td>1</td>\n",
       "      <td>General</td>\n",
       "      <td>0</td>\n",
       "      <td>1</td>\n",
       "      <td>53.0</td>\n",
       "      <td>10/9/1967</td>\n",
       "    </tr>\n",
       "    <tr>\n",
       "      <th>1</th>\n",
       "      <td>Beesetti , Dr. Venkata Satyavathi</td>\n",
       "      <td>Yuvajana Sramika Rythu Congress Party</td>\n",
       "      <td>Anakapalle</td>\n",
       "      <td>Andhra Pradesh</td>\n",
       "      <td>0</td>\n",
       "      <td>General</td>\n",
       "      <td>1</td>\n",
       "      <td>1</td>\n",
       "      <td>55.0</td>\n",
       "      <td>4/28/1966</td>\n",
       "    </tr>\n",
       "    <tr>\n",
       "      <th>2</th>\n",
       "      <td>Bellana, Shri Chandra Sekhar</td>\n",
       "      <td>Yuvajana Sramika Rythu Congress Party</td>\n",
       "      <td>Vizianagaram</td>\n",
       "      <td>Andhra Pradesh</td>\n",
       "      <td>0</td>\n",
       "      <td>General</td>\n",
       "      <td>0</td>\n",
       "      <td>1</td>\n",
       "      <td>59.0</td>\n",
       "      <td>11/8/1961</td>\n",
       "    </tr>\n",
       "    <tr>\n",
       "      <th>3</th>\n",
       "      <td>Chinta Anuradha, Smt.</td>\n",
       "      <td>Yuvajana Sramika Rythu Congress Party</td>\n",
       "      <td>Amalapuram</td>\n",
       "      <td>Andhra Pradesh</td>\n",
       "      <td>0</td>\n",
       "      <td>SC</td>\n",
       "      <td>1</td>\n",
       "      <td>1</td>\n",
       "      <td>48.0</td>\n",
       "      <td>10/18/1972</td>\n",
       "    </tr>\n",
       "    <tr>\n",
       "      <th>4</th>\n",
       "      <td>Galla, Shri Jayadev</td>\n",
       "      <td>Telugu Desam Party</td>\n",
       "      <td>Guntur</td>\n",
       "      <td>Andhra Pradesh</td>\n",
       "      <td>0</td>\n",
       "      <td>General</td>\n",
       "      <td>0</td>\n",
       "      <td>0</td>\n",
       "      <td>55.0</td>\n",
       "      <td>3/24/1966</td>\n",
       "    </tr>\n",
       "  </tbody>\n",
       "</table>\n",
       "</div>"
      ],
      "text/plain": [
       "                      Name of Member                             Party Name  \\\n",
       "0           Sharma, Shri Kuldeep Rai               Indian National Congress   \n",
       "1  Beesetti , Dr. Venkata Satyavathi  Yuvajana Sramika Rythu Congress Party   \n",
       "2       Bellana, Shri Chandra Sekhar  Yuvajana Sramika Rythu Congress Party   \n",
       "3              Chinta Anuradha, Smt.  Yuvajana Sramika Rythu Congress Party   \n",
       "4                Galla, Shri Jayadev                     Telugu Desam Party   \n",
       "\n",
       "                  Constituency                        State  UT Category  \\\n",
       "0  Andaman and Nicobar Islands  Andaman and Nicobar Islands   1  General   \n",
       "1                   Anakapalle               Andhra Pradesh   0  General   \n",
       "2                 Vizianagaram               Andhra Pradesh   0  General   \n",
       "3                   Amalapuram               Andhra Pradesh   0       SC   \n",
       "4                       Guntur               Andhra Pradesh   0  General   \n",
       "\n",
       "   Woman  First time   Age         DOB  \n",
       "0      0           1  53.0   10/9/1967  \n",
       "1      1           1  55.0   4/28/1966  \n",
       "2      0           1  59.0   11/8/1961  \n",
       "3      1           1  48.0  10/18/1972  \n",
       "4      0           0  55.0   3/24/1966  "
      ]
     },
     "execution_count": 12,
     "metadata": {},
     "output_type": "execute_result"
    }
   ],
   "source": [
    "df.head()"
   ]
  },
  {
   "cell_type": "code",
   "execution_count": 4,
   "id": "1469980f",
   "metadata": {},
   "outputs": [
    {
     "data": {
      "text/plain": [
       "Name of Member    0\n",
       "Party Name        0\n",
       "Constituency      0\n",
       "State             0\n",
       "UT                0\n",
       "Category          0\n",
       "Woman             0\n",
       "First time        0\n",
       "Age               5\n",
       "DOB               5\n",
       "dtype: int64"
      ]
     },
     "execution_count": 4,
     "metadata": {},
     "output_type": "execute_result"
    }
   ],
   "source": [
    "df.isnull().sum()"
   ]
  },
  {
   "cell_type": "code",
   "execution_count": 5,
   "id": "f752bc3b",
   "metadata": {},
   "outputs": [
    {
     "data": {
      "text/html": [
       "<div>\n",
       "<style scoped>\n",
       "    .dataframe tbody tr th:only-of-type {\n",
       "        vertical-align: middle;\n",
       "    }\n",
       "\n",
       "    .dataframe tbody tr th {\n",
       "        vertical-align: top;\n",
       "    }\n",
       "\n",
       "    .dataframe thead th {\n",
       "        text-align: right;\n",
       "    }\n",
       "</style>\n",
       "<table border=\"1\" class=\"dataframe\">\n",
       "  <thead>\n",
       "    <tr style=\"text-align: right;\">\n",
       "      <th></th>\n",
       "      <th>Name of Member</th>\n",
       "      <th>Party Name</th>\n",
       "      <th>Constituency</th>\n",
       "      <th>State</th>\n",
       "      <th>UT</th>\n",
       "      <th>Category</th>\n",
       "      <th>Woman</th>\n",
       "      <th>First time</th>\n",
       "      <th>Age</th>\n",
       "      <th>DOB</th>\n",
       "    </tr>\n",
       "  </thead>\n",
       "  <tbody>\n",
       "    <tr>\n",
       "      <th>158</th>\n",
       "      <td>Angadi, Smt. Mangal Suresh</td>\n",
       "      <td>Bharatiya Janata Party</td>\n",
       "      <td>Belgaum</td>\n",
       "      <td>Karnataka</td>\n",
       "      <td>0</td>\n",
       "      <td>General</td>\n",
       "      <td>1</td>\n",
       "      <td>1</td>\n",
       "      <td>NaN</td>\n",
       "      <td>NaN</td>\n",
       "    </tr>\n",
       "    <tr>\n",
       "      <th>199</th>\n",
       "      <td>Samadani, Shri Abdussamad</td>\n",
       "      <td>Indian Union Muslim League</td>\n",
       "      <td>Malappuram</td>\n",
       "      <td>Kerala</td>\n",
       "      <td>0</td>\n",
       "      <td>General</td>\n",
       "      <td>0</td>\n",
       "      <td>1</td>\n",
       "      <td>NaN</td>\n",
       "      <td>NaN</td>\n",
       "    </tr>\n",
       "    <tr>\n",
       "      <th>321</th>\n",
       "      <td>Gill, Shri Jasbir Singh</td>\n",
       "      <td>Indian National Congress</td>\n",
       "      <td>Khadoor Sahib</td>\n",
       "      <td>Punjab</td>\n",
       "      <td>0</td>\n",
       "      <td>General</td>\n",
       "      <td>0</td>\n",
       "      <td>1</td>\n",
       "      <td>NaN</td>\n",
       "      <td>NaN</td>\n",
       "    </tr>\n",
       "    <tr>\n",
       "      <th>390</th>\n",
       "      <td>Vasanth, Shri vijayakumar (Alias) Vijay</td>\n",
       "      <td>Indian National Congress</td>\n",
       "      <td>Kanniyakumari</td>\n",
       "      <td>Tamil Nadu</td>\n",
       "      <td>0</td>\n",
       "      <td>General</td>\n",
       "      <td>0</td>\n",
       "      <td>1</td>\n",
       "      <td>NaN</td>\n",
       "      <td>NaN</td>\n",
       "    </tr>\n",
       "    <tr>\n",
       "      <th>510</th>\n",
       "      <td>Chakraborty, Ms. Mimi</td>\n",
       "      <td>All India Trinamool Congress</td>\n",
       "      <td>Jadavpur</td>\n",
       "      <td>West Bengal</td>\n",
       "      <td>0</td>\n",
       "      <td>General</td>\n",
       "      <td>1</td>\n",
       "      <td>1</td>\n",
       "      <td>NaN</td>\n",
       "      <td>NaN</td>\n",
       "    </tr>\n",
       "  </tbody>\n",
       "</table>\n",
       "</div>"
      ],
      "text/plain": [
       "                              Name of Member                    Party Name  \\\n",
       "158               Angadi, Smt. Mangal Suresh        Bharatiya Janata Party   \n",
       "199                Samadani, Shri Abdussamad    Indian Union Muslim League   \n",
       "321                  Gill, Shri Jasbir Singh      Indian National Congress   \n",
       "390  Vasanth, Shri vijayakumar (Alias) Vijay      Indian National Congress   \n",
       "510                    Chakraborty, Ms. Mimi  All India Trinamool Congress   \n",
       "\n",
       "      Constituency        State  UT Category  Woman  First time  Age  DOB  \n",
       "158        Belgaum    Karnataka   0  General      1           1  NaN  NaN  \n",
       "199     Malappuram       Kerala   0  General      0           1  NaN  NaN  \n",
       "321  Khadoor Sahib       Punjab   0  General      0           1  NaN  NaN  \n",
       "390  Kanniyakumari   Tamil Nadu   0  General      0           1  NaN  NaN  \n",
       "510       Jadavpur  West Bengal   0  General      1           1  NaN  NaN  "
      ]
     },
     "execution_count": 5,
     "metadata": {},
     "output_type": "execute_result"
    }
   ],
   "source": [
    "df[df['Age'].isnull()]"
   ]
  },
  {
   "cell_type": "markdown",
   "id": "832116c8",
   "metadata": {},
   "source": [
    "**We will fill the birth dates of above MPs from Wikipedia**"
   ]
  },
  {
   "cell_type": "code",
   "execution_count": 15,
   "id": "c567bb14",
   "metadata": {},
   "outputs": [],
   "source": [
    "df[df['Name of Member']=='Angadi, Smt. Mangal Suresh'] = df[df['Name of Member']=='Angadi, Smt. Mangal Suresh'].fillna('26/10/1963')\n",
    "df[df['Name of Member']=='Samadani, Shri Abdussamad'] = df[df['Name of Member']=='Samadani, Shri Abdussamad'].fillna('01/01/1959')\n",
    "df[df['Name of Member']=='Gill, Shri Jasbir Singh'] = df[df['Name of Member']=='Gill, Shri Jasbir Singh'].fillna('08/11/1968')\n",
    "df[df['Name of Member']=='Vasanth, Shri vijayakumar (Alias) Vijay'] = df[df['Name of Member']=='Vasanth, Shri vijayakumar (Alias) Vijay'].fillna('20/05/1983')\n",
    "df[df['Name of Member']=='Chakraborty, Ms. Mimi'] = df[df['Name of Member']=='Chakraborty, Ms. Mimi'].fillna('11/02/1989')\n"
   ]
  },
  {
   "cell_type": "code",
   "execution_count": 16,
   "id": "ce2c1c65",
   "metadata": {},
   "outputs": [
    {
     "data": {
      "text/html": [
       "<div>\n",
       "<style scoped>\n",
       "    .dataframe tbody tr th:only-of-type {\n",
       "        vertical-align: middle;\n",
       "    }\n",
       "\n",
       "    .dataframe tbody tr th {\n",
       "        vertical-align: top;\n",
       "    }\n",
       "\n",
       "    .dataframe thead th {\n",
       "        text-align: right;\n",
       "    }\n",
       "</style>\n",
       "<table border=\"1\" class=\"dataframe\">\n",
       "  <thead>\n",
       "    <tr style=\"text-align: right;\">\n",
       "      <th></th>\n",
       "      <th>Name of Member</th>\n",
       "      <th>Party Name</th>\n",
       "      <th>Constituency</th>\n",
       "      <th>State</th>\n",
       "      <th>UT</th>\n",
       "      <th>Category</th>\n",
       "      <th>Woman</th>\n",
       "      <th>First time</th>\n",
       "      <th>Age</th>\n",
       "      <th>DOB</th>\n",
       "    </tr>\n",
       "  </thead>\n",
       "  <tbody>\n",
       "  </tbody>\n",
       "</table>\n",
       "</div>"
      ],
      "text/plain": [
       "Empty DataFrame\n",
       "Columns: [Name of Member, Party Name, Constituency, State, UT, Category, Woman, First time, Age, DOB]\n",
       "Index: []"
      ]
     },
     "execution_count": 16,
     "metadata": {},
     "output_type": "execute_result"
    }
   ],
   "source": [
    "df[df['Age'].isnull()]"
   ]
  },
  {
   "cell_type": "code",
   "execution_count": 17,
   "id": "43aeac7f",
   "metadata": {},
   "outputs": [
    {
     "data": {
      "text/html": [
       "<div>\n",
       "<style scoped>\n",
       "    .dataframe tbody tr th:only-of-type {\n",
       "        vertical-align: middle;\n",
       "    }\n",
       "\n",
       "    .dataframe tbody tr th {\n",
       "        vertical-align: top;\n",
       "    }\n",
       "\n",
       "    .dataframe thead th {\n",
       "        text-align: right;\n",
       "    }\n",
       "</style>\n",
       "<table border=\"1\" class=\"dataframe\">\n",
       "  <thead>\n",
       "    <tr style=\"text-align: right;\">\n",
       "      <th></th>\n",
       "      <th>Name of Member</th>\n",
       "      <th>Party Name</th>\n",
       "      <th>Constituency</th>\n",
       "      <th>State</th>\n",
       "      <th>UT</th>\n",
       "      <th>Category</th>\n",
       "      <th>Woman</th>\n",
       "      <th>First time</th>\n",
       "      <th>Age</th>\n",
       "      <th>DOB</th>\n",
       "    </tr>\n",
       "  </thead>\n",
       "  <tbody>\n",
       "    <tr>\n",
       "      <th>510</th>\n",
       "      <td>Chakraborty, Ms. Mimi</td>\n",
       "      <td>All India Trinamool Congress</td>\n",
       "      <td>Jadavpur</td>\n",
       "      <td>West Bengal</td>\n",
       "      <td>0</td>\n",
       "      <td>General</td>\n",
       "      <td>1</td>\n",
       "      <td>1</td>\n",
       "      <td>11/02/1989</td>\n",
       "      <td>11/02/1989</td>\n",
       "    </tr>\n",
       "  </tbody>\n",
       "</table>\n",
       "</div>"
      ],
      "text/plain": [
       "            Name of Member                    Party Name Constituency  \\\n",
       "510  Chakraborty, Ms. Mimi  All India Trinamool Congress     Jadavpur   \n",
       "\n",
       "           State  UT Category  Woman  First time         Age         DOB  \n",
       "510  West Bengal   0  General      1           1  11/02/1989  11/02/1989  "
      ]
     },
     "execution_count": 17,
     "metadata": {},
     "output_type": "execute_result"
    }
   ],
   "source": [
    "df[df['Name of Member']=='Chakraborty, Ms. Mimi']"
   ]
  },
  {
   "cell_type": "markdown",
   "id": "9fd207f4",
   "metadata": {},
   "source": [
    "**Our dataset is created after 2019 Loksabha elections but exact year of creation is not known so we can not consider the age column given as valid one so we will create an another updated age column by decarding the present one**"
   ]
  },
  {
   "cell_type": "code",
   "execution_count": 22,
   "id": "573c10eb",
   "metadata": {},
   "outputs": [
    {
     "name": "stdout",
     "output_type": "stream",
     "text": [
      "<class 'pandas.core.frame.DataFrame'>\n",
      "RangeIndex: 540 entries, 0 to 539\n",
      "Data columns (total 10 columns):\n",
      " #   Column          Non-Null Count  Dtype \n",
      "---  ------          --------------  ----- \n",
      " 0   Name of Member  540 non-null    object\n",
      " 1   Party Name      540 non-null    object\n",
      " 2   Constituency    540 non-null    object\n",
      " 3   State           540 non-null    object\n",
      " 4   UT              540 non-null    int64 \n",
      " 5   Category        540 non-null    object\n",
      " 6   Woman           540 non-null    int64 \n",
      " 7   First time      540 non-null    int64 \n",
      " 8   Age             540 non-null    object\n",
      " 9   DOB             540 non-null    object\n",
      "dtypes: int64(3), object(7)\n",
      "memory usage: 42.3+ KB\n"
     ]
    }
   ],
   "source": [
    "df.info()"
   ]
  },
  {
   "cell_type": "code",
   "execution_count": 23,
   "id": "a0febbc2",
   "metadata": {},
   "outputs": [],
   "source": [
    "df['Age of Member'] = df['DOB']"
   ]
  },
  {
   "cell_type": "code",
   "execution_count": 33,
   "id": "6f8383bb",
   "metadata": {},
   "outputs": [],
   "source": [
    "df['Age of Member'] = 2022 - df['Age of Member'].str.split('/',expand = True)[2].astype(int)"
   ]
  },
  {
   "cell_type": "code",
   "execution_count": 34,
   "id": "a61fd4fa",
   "metadata": {},
   "outputs": [
    {
     "data": {
      "text/html": [
       "<div>\n",
       "<style scoped>\n",
       "    .dataframe tbody tr th:only-of-type {\n",
       "        vertical-align: middle;\n",
       "    }\n",
       "\n",
       "    .dataframe tbody tr th {\n",
       "        vertical-align: top;\n",
       "    }\n",
       "\n",
       "    .dataframe thead th {\n",
       "        text-align: right;\n",
       "    }\n",
       "</style>\n",
       "<table border=\"1\" class=\"dataframe\">\n",
       "  <thead>\n",
       "    <tr style=\"text-align: right;\">\n",
       "      <th></th>\n",
       "      <th>Name of Member</th>\n",
       "      <th>Party Name</th>\n",
       "      <th>Constituency</th>\n",
       "      <th>State</th>\n",
       "      <th>UT</th>\n",
       "      <th>Category</th>\n",
       "      <th>Woman</th>\n",
       "      <th>First time</th>\n",
       "      <th>Age</th>\n",
       "      <th>DOB</th>\n",
       "      <th>Age of Member</th>\n",
       "    </tr>\n",
       "  </thead>\n",
       "  <tbody>\n",
       "    <tr>\n",
       "      <th>0</th>\n",
       "      <td>Sharma, Shri Kuldeep Rai</td>\n",
       "      <td>Indian National Congress</td>\n",
       "      <td>Andaman and Nicobar Islands</td>\n",
       "      <td>Andaman and Nicobar Islands</td>\n",
       "      <td>1</td>\n",
       "      <td>General</td>\n",
       "      <td>0</td>\n",
       "      <td>1</td>\n",
       "      <td>53</td>\n",
       "      <td>10/9/1967</td>\n",
       "      <td>55</td>\n",
       "    </tr>\n",
       "    <tr>\n",
       "      <th>1</th>\n",
       "      <td>Beesetti , Dr. Venkata Satyavathi</td>\n",
       "      <td>Yuvajana Sramika Rythu Congress Party</td>\n",
       "      <td>Anakapalle</td>\n",
       "      <td>Andhra Pradesh</td>\n",
       "      <td>0</td>\n",
       "      <td>General</td>\n",
       "      <td>1</td>\n",
       "      <td>1</td>\n",
       "      <td>55</td>\n",
       "      <td>4/28/1966</td>\n",
       "      <td>56</td>\n",
       "    </tr>\n",
       "    <tr>\n",
       "      <th>2</th>\n",
       "      <td>Bellana, Shri Chandra Sekhar</td>\n",
       "      <td>Yuvajana Sramika Rythu Congress Party</td>\n",
       "      <td>Vizianagaram</td>\n",
       "      <td>Andhra Pradesh</td>\n",
       "      <td>0</td>\n",
       "      <td>General</td>\n",
       "      <td>0</td>\n",
       "      <td>1</td>\n",
       "      <td>59</td>\n",
       "      <td>11/8/1961</td>\n",
       "      <td>61</td>\n",
       "    </tr>\n",
       "    <tr>\n",
       "      <th>3</th>\n",
       "      <td>Chinta Anuradha, Smt.</td>\n",
       "      <td>Yuvajana Sramika Rythu Congress Party</td>\n",
       "      <td>Amalapuram</td>\n",
       "      <td>Andhra Pradesh</td>\n",
       "      <td>0</td>\n",
       "      <td>SC</td>\n",
       "      <td>1</td>\n",
       "      <td>1</td>\n",
       "      <td>48</td>\n",
       "      <td>10/18/1972</td>\n",
       "      <td>50</td>\n",
       "    </tr>\n",
       "    <tr>\n",
       "      <th>4</th>\n",
       "      <td>Galla, Shri Jayadev</td>\n",
       "      <td>Telugu Desam Party</td>\n",
       "      <td>Guntur</td>\n",
       "      <td>Andhra Pradesh</td>\n",
       "      <td>0</td>\n",
       "      <td>General</td>\n",
       "      <td>0</td>\n",
       "      <td>0</td>\n",
       "      <td>55</td>\n",
       "      <td>3/24/1966</td>\n",
       "      <td>56</td>\n",
       "    </tr>\n",
       "  </tbody>\n",
       "</table>\n",
       "</div>"
      ],
      "text/plain": [
       "                      Name of Member                             Party Name  \\\n",
       "0           Sharma, Shri Kuldeep Rai               Indian National Congress   \n",
       "1  Beesetti , Dr. Venkata Satyavathi  Yuvajana Sramika Rythu Congress Party   \n",
       "2       Bellana, Shri Chandra Sekhar  Yuvajana Sramika Rythu Congress Party   \n",
       "3              Chinta Anuradha, Smt.  Yuvajana Sramika Rythu Congress Party   \n",
       "4                Galla, Shri Jayadev                     Telugu Desam Party   \n",
       "\n",
       "                  Constituency                        State  UT Category  \\\n",
       "0  Andaman and Nicobar Islands  Andaman and Nicobar Islands   1  General   \n",
       "1                   Anakapalle               Andhra Pradesh   0  General   \n",
       "2                 Vizianagaram               Andhra Pradesh   0  General   \n",
       "3                   Amalapuram               Andhra Pradesh   0       SC   \n",
       "4                       Guntur               Andhra Pradesh   0  General   \n",
       "\n",
       "   Woman  First time Age         DOB  Age of Member  \n",
       "0      0           1  53   10/9/1967             55  \n",
       "1      1           1  55   4/28/1966             56  \n",
       "2      0           1  59   11/8/1961             61  \n",
       "3      1           1  48  10/18/1972             50  \n",
       "4      0           0  55   3/24/1966             56  "
      ]
     },
     "execution_count": 34,
     "metadata": {},
     "output_type": "execute_result"
    }
   ],
   "source": [
    "df.head()"
   ]
  },
  {
   "cell_type": "code",
   "execution_count": 40,
   "id": "da159a6c",
   "metadata": {},
   "outputs": [],
   "source": [
    "df.drop(['Age'],axis=1,inplace = True)\n",
    "#df.columns"
   ]
  },
  {
   "cell_type": "code",
   "execution_count": 41,
   "id": "bc064ecf",
   "metadata": {},
   "outputs": [
    {
     "data": {
      "text/html": [
       "<div>\n",
       "<style scoped>\n",
       "    .dataframe tbody tr th:only-of-type {\n",
       "        vertical-align: middle;\n",
       "    }\n",
       "\n",
       "    .dataframe tbody tr th {\n",
       "        vertical-align: top;\n",
       "    }\n",
       "\n",
       "    .dataframe thead th {\n",
       "        text-align: right;\n",
       "    }\n",
       "</style>\n",
       "<table border=\"1\" class=\"dataframe\">\n",
       "  <thead>\n",
       "    <tr style=\"text-align: right;\">\n",
       "      <th></th>\n",
       "      <th>Name of Member</th>\n",
       "      <th>Party Name</th>\n",
       "      <th>Constituency</th>\n",
       "      <th>State</th>\n",
       "      <th>UT</th>\n",
       "      <th>Category</th>\n",
       "      <th>Woman</th>\n",
       "      <th>First time</th>\n",
       "      <th>DOB</th>\n",
       "      <th>Age of Member</th>\n",
       "    </tr>\n",
       "  </thead>\n",
       "  <tbody>\n",
       "    <tr>\n",
       "      <th>0</th>\n",
       "      <td>Sharma, Shri Kuldeep Rai</td>\n",
       "      <td>Indian National Congress</td>\n",
       "      <td>Andaman and Nicobar Islands</td>\n",
       "      <td>Andaman and Nicobar Islands</td>\n",
       "      <td>1</td>\n",
       "      <td>General</td>\n",
       "      <td>0</td>\n",
       "      <td>1</td>\n",
       "      <td>10/9/1967</td>\n",
       "      <td>55</td>\n",
       "    </tr>\n",
       "    <tr>\n",
       "      <th>1</th>\n",
       "      <td>Beesetti , Dr. Venkata Satyavathi</td>\n",
       "      <td>Yuvajana Sramika Rythu Congress Party</td>\n",
       "      <td>Anakapalle</td>\n",
       "      <td>Andhra Pradesh</td>\n",
       "      <td>0</td>\n",
       "      <td>General</td>\n",
       "      <td>1</td>\n",
       "      <td>1</td>\n",
       "      <td>4/28/1966</td>\n",
       "      <td>56</td>\n",
       "    </tr>\n",
       "    <tr>\n",
       "      <th>2</th>\n",
       "      <td>Bellana, Shri Chandra Sekhar</td>\n",
       "      <td>Yuvajana Sramika Rythu Congress Party</td>\n",
       "      <td>Vizianagaram</td>\n",
       "      <td>Andhra Pradesh</td>\n",
       "      <td>0</td>\n",
       "      <td>General</td>\n",
       "      <td>0</td>\n",
       "      <td>1</td>\n",
       "      <td>11/8/1961</td>\n",
       "      <td>61</td>\n",
       "    </tr>\n",
       "    <tr>\n",
       "      <th>3</th>\n",
       "      <td>Chinta Anuradha, Smt.</td>\n",
       "      <td>Yuvajana Sramika Rythu Congress Party</td>\n",
       "      <td>Amalapuram</td>\n",
       "      <td>Andhra Pradesh</td>\n",
       "      <td>0</td>\n",
       "      <td>SC</td>\n",
       "      <td>1</td>\n",
       "      <td>1</td>\n",
       "      <td>10/18/1972</td>\n",
       "      <td>50</td>\n",
       "    </tr>\n",
       "    <tr>\n",
       "      <th>4</th>\n",
       "      <td>Galla, Shri Jayadev</td>\n",
       "      <td>Telugu Desam Party</td>\n",
       "      <td>Guntur</td>\n",
       "      <td>Andhra Pradesh</td>\n",
       "      <td>0</td>\n",
       "      <td>General</td>\n",
       "      <td>0</td>\n",
       "      <td>0</td>\n",
       "      <td>3/24/1966</td>\n",
       "      <td>56</td>\n",
       "    </tr>\n",
       "  </tbody>\n",
       "</table>\n",
       "</div>"
      ],
      "text/plain": [
       "                      Name of Member                             Party Name  \\\n",
       "0           Sharma, Shri Kuldeep Rai               Indian National Congress   \n",
       "1  Beesetti , Dr. Venkata Satyavathi  Yuvajana Sramika Rythu Congress Party   \n",
       "2       Bellana, Shri Chandra Sekhar  Yuvajana Sramika Rythu Congress Party   \n",
       "3              Chinta Anuradha, Smt.  Yuvajana Sramika Rythu Congress Party   \n",
       "4                Galla, Shri Jayadev                     Telugu Desam Party   \n",
       "\n",
       "                  Constituency                        State  UT Category  \\\n",
       "0  Andaman and Nicobar Islands  Andaman and Nicobar Islands   1  General   \n",
       "1                   Anakapalle               Andhra Pradesh   0  General   \n",
       "2                 Vizianagaram               Andhra Pradesh   0  General   \n",
       "3                   Amalapuram               Andhra Pradesh   0       SC   \n",
       "4                       Guntur               Andhra Pradesh   0  General   \n",
       "\n",
       "   Woman  First time         DOB  Age of Member  \n",
       "0      0           1   10/9/1967             55  \n",
       "1      1           1   4/28/1966             56  \n",
       "2      0           1   11/8/1961             61  \n",
       "3      1           1  10/18/1972             50  \n",
       "4      0           0   3/24/1966             56  "
      ]
     },
     "execution_count": 41,
     "metadata": {},
     "output_type": "execute_result"
    }
   ],
   "source": [
    "df.head()"
   ]
  },
  {
   "cell_type": "code",
   "execution_count": 45,
   "id": "4ac5ce17",
   "metadata": {},
   "outputs": [],
   "source": [
    "df.rename(columns = {'Woman':'Gender'},inplace = True)"
   ]
  },
  {
   "cell_type": "code",
   "execution_count": 47,
   "id": "83460b70",
   "metadata": {},
   "outputs": [
    {
     "data": {
      "text/html": [
       "<div>\n",
       "<style scoped>\n",
       "    .dataframe tbody tr th:only-of-type {\n",
       "        vertical-align: middle;\n",
       "    }\n",
       "\n",
       "    .dataframe tbody tr th {\n",
       "        vertical-align: top;\n",
       "    }\n",
       "\n",
       "    .dataframe thead th {\n",
       "        text-align: right;\n",
       "    }\n",
       "</style>\n",
       "<table border=\"1\" class=\"dataframe\">\n",
       "  <thead>\n",
       "    <tr style=\"text-align: right;\">\n",
       "      <th></th>\n",
       "      <th>Name of Member</th>\n",
       "      <th>Party Name</th>\n",
       "      <th>Constituency</th>\n",
       "      <th>State</th>\n",
       "      <th>UT</th>\n",
       "      <th>Category</th>\n",
       "      <th>Gender</th>\n",
       "      <th>First time</th>\n",
       "      <th>DOB</th>\n",
       "      <th>Age of Member</th>\n",
       "    </tr>\n",
       "  </thead>\n",
       "  <tbody>\n",
       "    <tr>\n",
       "      <th>0</th>\n",
       "      <td>Sharma, Shri Kuldeep Rai</td>\n",
       "      <td>Indian National Congress</td>\n",
       "      <td>Andaman and Nicobar Islands</td>\n",
       "      <td>Andaman and Nicobar Islands</td>\n",
       "      <td>1</td>\n",
       "      <td>General</td>\n",
       "      <td>0</td>\n",
       "      <td>1</td>\n",
       "      <td>10/9/1967</td>\n",
       "      <td>55</td>\n",
       "    </tr>\n",
       "    <tr>\n",
       "      <th>1</th>\n",
       "      <td>Beesetti , Dr. Venkata Satyavathi</td>\n",
       "      <td>Yuvajana Sramika Rythu Congress Party</td>\n",
       "      <td>Anakapalle</td>\n",
       "      <td>Andhra Pradesh</td>\n",
       "      <td>0</td>\n",
       "      <td>General</td>\n",
       "      <td>1</td>\n",
       "      <td>1</td>\n",
       "      <td>4/28/1966</td>\n",
       "      <td>56</td>\n",
       "    </tr>\n",
       "  </tbody>\n",
       "</table>\n",
       "</div>"
      ],
      "text/plain": [
       "                      Name of Member                             Party Name  \\\n",
       "0           Sharma, Shri Kuldeep Rai               Indian National Congress   \n",
       "1  Beesetti , Dr. Venkata Satyavathi  Yuvajana Sramika Rythu Congress Party   \n",
       "\n",
       "                  Constituency                        State  UT Category  \\\n",
       "0  Andaman and Nicobar Islands  Andaman and Nicobar Islands   1  General   \n",
       "1                   Anakapalle               Andhra Pradesh   0  General   \n",
       "\n",
       "   Gender  First time        DOB  Age of Member  \n",
       "0       0           1  10/9/1967             55  \n",
       "1       1           1  4/28/1966             56  "
      ]
     },
     "execution_count": 47,
     "metadata": {},
     "output_type": "execute_result"
    }
   ],
   "source": [
    "df.head(2)"
   ]
  },
  {
   "cell_type": "code",
   "execution_count": 49,
   "id": "c9b60be4",
   "metadata": {},
   "outputs": [],
   "source": [
    "df.Gender = df.Gender.replace({0:'Male',1:'Female'})"
   ]
  },
  {
   "cell_type": "code",
   "execution_count": 50,
   "id": "655146fd",
   "metadata": {},
   "outputs": [
    {
     "data": {
      "text/html": [
       "<div>\n",
       "<style scoped>\n",
       "    .dataframe tbody tr th:only-of-type {\n",
       "        vertical-align: middle;\n",
       "    }\n",
       "\n",
       "    .dataframe tbody tr th {\n",
       "        vertical-align: top;\n",
       "    }\n",
       "\n",
       "    .dataframe thead th {\n",
       "        text-align: right;\n",
       "    }\n",
       "</style>\n",
       "<table border=\"1\" class=\"dataframe\">\n",
       "  <thead>\n",
       "    <tr style=\"text-align: right;\">\n",
       "      <th></th>\n",
       "      <th>Name of Member</th>\n",
       "      <th>Party Name</th>\n",
       "      <th>Constituency</th>\n",
       "      <th>State</th>\n",
       "      <th>UT</th>\n",
       "      <th>Category</th>\n",
       "      <th>Gender</th>\n",
       "      <th>First time</th>\n",
       "      <th>DOB</th>\n",
       "      <th>Age of Member</th>\n",
       "    </tr>\n",
       "  </thead>\n",
       "  <tbody>\n",
       "    <tr>\n",
       "      <th>0</th>\n",
       "      <td>Sharma, Shri Kuldeep Rai</td>\n",
       "      <td>Indian National Congress</td>\n",
       "      <td>Andaman and Nicobar Islands</td>\n",
       "      <td>Andaman and Nicobar Islands</td>\n",
       "      <td>1</td>\n",
       "      <td>General</td>\n",
       "      <td>Male</td>\n",
       "      <td>1</td>\n",
       "      <td>10/9/1967</td>\n",
       "      <td>55</td>\n",
       "    </tr>\n",
       "    <tr>\n",
       "      <th>1</th>\n",
       "      <td>Beesetti , Dr. Venkata Satyavathi</td>\n",
       "      <td>Yuvajana Sramika Rythu Congress Party</td>\n",
       "      <td>Anakapalle</td>\n",
       "      <td>Andhra Pradesh</td>\n",
       "      <td>0</td>\n",
       "      <td>General</td>\n",
       "      <td>Female</td>\n",
       "      <td>1</td>\n",
       "      <td>4/28/1966</td>\n",
       "      <td>56</td>\n",
       "    </tr>\n",
       "  </tbody>\n",
       "</table>\n",
       "</div>"
      ],
      "text/plain": [
       "                      Name of Member                             Party Name  \\\n",
       "0           Sharma, Shri Kuldeep Rai               Indian National Congress   \n",
       "1  Beesetti , Dr. Venkata Satyavathi  Yuvajana Sramika Rythu Congress Party   \n",
       "\n",
       "                  Constituency                        State  UT Category  \\\n",
       "0  Andaman and Nicobar Islands  Andaman and Nicobar Islands   1  General   \n",
       "1                   Anakapalle               Andhra Pradesh   0  General   \n",
       "\n",
       "   Gender  First time        DOB  Age of Member  \n",
       "0    Male           1  10/9/1967             55  \n",
       "1  Female           1  4/28/1966             56  "
      ]
     },
     "execution_count": 50,
     "metadata": {},
     "output_type": "execute_result"
    }
   ],
   "source": [
    "df.head(2)"
   ]
  },
  {
   "cell_type": "code",
   "execution_count": 52,
   "id": "c63a1063",
   "metadata": {},
   "outputs": [],
   "source": [
    "df['First time'] = df['First time'].replace({0:'No',1:'Yes'})"
   ]
  },
  {
   "cell_type": "code",
   "execution_count": 53,
   "id": "dd1fe971",
   "metadata": {},
   "outputs": [],
   "source": [
    "df.UT = df.UT.replace({1:'Yes',0:'No'})"
   ]
  },
  {
   "cell_type": "code",
   "execution_count": 54,
   "id": "430282b2",
   "metadata": {},
   "outputs": [
    {
     "data": {
      "text/html": [
       "<div>\n",
       "<style scoped>\n",
       "    .dataframe tbody tr th:only-of-type {\n",
       "        vertical-align: middle;\n",
       "    }\n",
       "\n",
       "    .dataframe tbody tr th {\n",
       "        vertical-align: top;\n",
       "    }\n",
       "\n",
       "    .dataframe thead th {\n",
       "        text-align: right;\n",
       "    }\n",
       "</style>\n",
       "<table border=\"1\" class=\"dataframe\">\n",
       "  <thead>\n",
       "    <tr style=\"text-align: right;\">\n",
       "      <th></th>\n",
       "      <th>Name of Member</th>\n",
       "      <th>Party Name</th>\n",
       "      <th>Constituency</th>\n",
       "      <th>State</th>\n",
       "      <th>UT</th>\n",
       "      <th>Category</th>\n",
       "      <th>Gender</th>\n",
       "      <th>First time</th>\n",
       "      <th>DOB</th>\n",
       "      <th>Age of Member</th>\n",
       "    </tr>\n",
       "  </thead>\n",
       "  <tbody>\n",
       "    <tr>\n",
       "      <th>0</th>\n",
       "      <td>Sharma, Shri Kuldeep Rai</td>\n",
       "      <td>Indian National Congress</td>\n",
       "      <td>Andaman and Nicobar Islands</td>\n",
       "      <td>Andaman and Nicobar Islands</td>\n",
       "      <td>Yes</td>\n",
       "      <td>General</td>\n",
       "      <td>Male</td>\n",
       "      <td>Yes</td>\n",
       "      <td>10/9/1967</td>\n",
       "      <td>55</td>\n",
       "    </tr>\n",
       "    <tr>\n",
       "      <th>1</th>\n",
       "      <td>Beesetti , Dr. Venkata Satyavathi</td>\n",
       "      <td>Yuvajana Sramika Rythu Congress Party</td>\n",
       "      <td>Anakapalle</td>\n",
       "      <td>Andhra Pradesh</td>\n",
       "      <td>No</td>\n",
       "      <td>General</td>\n",
       "      <td>Female</td>\n",
       "      <td>Yes</td>\n",
       "      <td>4/28/1966</td>\n",
       "      <td>56</td>\n",
       "    </tr>\n",
       "  </tbody>\n",
       "</table>\n",
       "</div>"
      ],
      "text/plain": [
       "                      Name of Member                             Party Name  \\\n",
       "0           Sharma, Shri Kuldeep Rai               Indian National Congress   \n",
       "1  Beesetti , Dr. Venkata Satyavathi  Yuvajana Sramika Rythu Congress Party   \n",
       "\n",
       "                  Constituency                        State   UT Category  \\\n",
       "0  Andaman and Nicobar Islands  Andaman and Nicobar Islands  Yes  General   \n",
       "1                   Anakapalle               Andhra Pradesh   No  General   \n",
       "\n",
       "   Gender First time        DOB  Age of Member  \n",
       "0    Male        Yes  10/9/1967             55  \n",
       "1  Female        Yes  4/28/1966             56  "
      ]
     },
     "execution_count": 54,
     "metadata": {},
     "output_type": "execute_result"
    }
   ],
   "source": [
    "df.head(2)"
   ]
  },
  {
   "cell_type": "code",
   "execution_count": 109,
   "id": "9338360a",
   "metadata": {},
   "outputs": [],
   "source": [
    "mps = df['Name of Member'].unique().shape[0]\n",
    "party = df['Party Name'].unique().shape[0]\n",
    "const = df['Constituency'].unique().shape[0]+3"
   ]
  },
  {
   "cell_type": "code",
   "execution_count": 107,
   "id": "836df5ce",
   "metadata": {},
   "outputs": [
    {
     "data": {
      "text/html": [
       "<div>\n",
       "<style scoped>\n",
       "    .dataframe tbody tr th:only-of-type {\n",
       "        vertical-align: middle;\n",
       "    }\n",
       "\n",
       "    .dataframe tbody tr th {\n",
       "        vertical-align: top;\n",
       "    }\n",
       "\n",
       "    .dataframe thead th {\n",
       "        text-align: right;\n",
       "    }\n",
       "</style>\n",
       "<table border=\"1\" class=\"dataframe\">\n",
       "  <thead>\n",
       "    <tr style=\"text-align: right;\">\n",
       "      <th></th>\n",
       "      <th>Name of Member</th>\n",
       "      <th>Party Name</th>\n",
       "      <th>Constituency</th>\n",
       "      <th>State</th>\n",
       "      <th>UT</th>\n",
       "      <th>Category</th>\n",
       "      <th>Gender</th>\n",
       "      <th>First time</th>\n",
       "      <th>DOB</th>\n",
       "      <th>Age of Member</th>\n",
       "    </tr>\n",
       "  </thead>\n",
       "  <tbody>\n",
       "    <tr>\n",
       "      <th>66</th>\n",
       "      <td>Sigriwal, Shri Janardan Singh</td>\n",
       "      <td>Bharatiya Janata Party</td>\n",
       "      <td>Maharajganj</td>\n",
       "      <td>Bihar</td>\n",
       "      <td>No</td>\n",
       "      <td>General</td>\n",
       "      <td>Male</td>\n",
       "      <td>No</td>\n",
       "      <td>2/1/1959</td>\n",
       "      <td>63</td>\n",
       "    </tr>\n",
       "    <tr>\n",
       "      <th>75</th>\n",
       "      <td>Singh, Shri Sushil Kumar</td>\n",
       "      <td>Bharatiya Janata Party</td>\n",
       "      <td>Aurangabad</td>\n",
       "      <td>Bihar</td>\n",
       "      <td>No</td>\n",
       "      <td>General</td>\n",
       "      <td>Male</td>\n",
       "      <td>No</td>\n",
       "      <td>6/27/1963</td>\n",
       "      <td>59</td>\n",
       "    </tr>\n",
       "    <tr>\n",
       "      <th>135</th>\n",
       "      <td>Thakur, Shri Anurag Singh</td>\n",
       "      <td>Bharatiya Janata Party</td>\n",
       "      <td>Hamirpur</td>\n",
       "      <td>Himachal Pradesh</td>\n",
       "      <td>No</td>\n",
       "      <td>General</td>\n",
       "      <td>Male</td>\n",
       "      <td>No</td>\n",
       "      <td>10/24/1974</td>\n",
       "      <td>48</td>\n",
       "    </tr>\n",
       "    <tr>\n",
       "      <th>275</th>\n",
       "      <td>Syed Imtiaz Jaleel, Shri</td>\n",
       "      <td>All India Majlis-E-Ittehadul Muslimeen</td>\n",
       "      <td>Aurangabad</td>\n",
       "      <td>Maharashtra</td>\n",
       "      <td>No</td>\n",
       "      <td>General</td>\n",
       "      <td>Male</td>\n",
       "      <td>Yes</td>\n",
       "      <td>10/8/1968</td>\n",
       "      <td>54</td>\n",
       "    </tr>\n",
       "    <tr>\n",
       "      <th>422</th>\n",
       "      <td>Chandel, Kunwar Pushpendra Singh</td>\n",
       "      <td>Bharatiya Janata Party</td>\n",
       "      <td>Hamirpur</td>\n",
       "      <td>Uttar Pradesh</td>\n",
       "      <td>No</td>\n",
       "      <td>General</td>\n",
       "      <td>Male</td>\n",
       "      <td>No</td>\n",
       "      <td>8/10/1973</td>\n",
       "      <td>49</td>\n",
       "    </tr>\n",
       "    <tr>\n",
       "      <th>424</th>\n",
       "      <td>Chaudhary, Shri Pankaj</td>\n",
       "      <td>Bharatiya Janata Party</td>\n",
       "      <td>Maharajganj</td>\n",
       "      <td>Uttar Pradesh</td>\n",
       "      <td>No</td>\n",
       "      <td>General</td>\n",
       "      <td>Male</td>\n",
       "      <td>No</td>\n",
       "      <td>11/20/1964</td>\n",
       "      <td>58</td>\n",
       "    </tr>\n",
       "  </tbody>\n",
       "</table>\n",
       "</div>"
      ],
      "text/plain": [
       "                       Name of Member                              Party Name  \\\n",
       "66      Sigriwal, Shri Janardan Singh                  Bharatiya Janata Party   \n",
       "75           Singh, Shri Sushil Kumar                  Bharatiya Janata Party   \n",
       "135         Thakur, Shri Anurag Singh                  Bharatiya Janata Party   \n",
       "275          Syed Imtiaz Jaleel, Shri  All India Majlis-E-Ittehadul Muslimeen   \n",
       "422  Chandel, Kunwar Pushpendra Singh                  Bharatiya Janata Party   \n",
       "424            Chaudhary, Shri Pankaj                  Bharatiya Janata Party   \n",
       "\n",
       "    Constituency             State  UT Category Gender First time         DOB  \\\n",
       "66   Maharajganj             Bihar  No  General   Male         No    2/1/1959   \n",
       "75    Aurangabad             Bihar  No  General   Male         No   6/27/1963   \n",
       "135     Hamirpur  Himachal Pradesh  No  General   Male         No  10/24/1974   \n",
       "275   Aurangabad       Maharashtra  No  General   Male        Yes   10/8/1968   \n",
       "422     Hamirpur     Uttar Pradesh  No  General   Male         No   8/10/1973   \n",
       "424  Maharajganj     Uttar Pradesh  No  General   Male         No  11/20/1964   \n",
       "\n",
       "     Age of Member  \n",
       "66              63  \n",
       "75              59  \n",
       "135             48  \n",
       "275             54  \n",
       "422             49  \n",
       "424             58  "
      ]
     },
     "execution_count": 107,
     "metadata": {},
     "output_type": "execute_result"
    }
   ],
   "source": [
    "df[df.duplicated('Constituency',keep =False)]"
   ]
  },
  {
   "cell_type": "code",
   "execution_count": 110,
   "id": "79d7d298",
   "metadata": {},
   "outputs": [
    {
     "data": {
      "text/html": [
       "<div>\n",
       "<style scoped>\n",
       "    .dataframe tbody tr th:only-of-type {\n",
       "        vertical-align: middle;\n",
       "    }\n",
       "\n",
       "    .dataframe tbody tr th {\n",
       "        vertical-align: top;\n",
       "    }\n",
       "\n",
       "    .dataframe thead th {\n",
       "        text-align: right;\n",
       "    }\n",
       "</style>\n",
       "<table border=\"1\" class=\"dataframe\">\n",
       "  <thead>\n",
       "    <tr style=\"text-align: right;\">\n",
       "      <th></th>\n",
       "      <th>Name of Member</th>\n",
       "      <th>Party Name</th>\n",
       "      <th>Constituency</th>\n",
       "      <th>State</th>\n",
       "      <th>UT</th>\n",
       "      <th>Category</th>\n",
       "      <th>Gender</th>\n",
       "      <th>First time</th>\n",
       "      <th>DOB</th>\n",
       "      <th>Age of Member</th>\n",
       "    </tr>\n",
       "  </thead>\n",
       "  <tbody>\n",
       "    <tr>\n",
       "      <th>0</th>\n",
       "      <td>Sharma, Shri Kuldeep Rai</td>\n",
       "      <td>Indian National Congress</td>\n",
       "      <td>Andaman and Nicobar Islands</td>\n",
       "      <td>Andaman and Nicobar Islands</td>\n",
       "      <td>Yes</td>\n",
       "      <td>General</td>\n",
       "      <td>Male</td>\n",
       "      <td>Yes</td>\n",
       "      <td>10/9/1967</td>\n",
       "      <td>55</td>\n",
       "    </tr>\n",
       "    <tr>\n",
       "      <th>1</th>\n",
       "      <td>Beesetti , Dr. Venkata Satyavathi</td>\n",
       "      <td>Yuvajana Sramika Rythu Congress Party</td>\n",
       "      <td>Anakapalle</td>\n",
       "      <td>Andhra Pradesh</td>\n",
       "      <td>No</td>\n",
       "      <td>General</td>\n",
       "      <td>Female</td>\n",
       "      <td>Yes</td>\n",
       "      <td>4/28/1966</td>\n",
       "      <td>56</td>\n",
       "    </tr>\n",
       "    <tr>\n",
       "      <th>2</th>\n",
       "      <td>Bellana, Shri Chandra Sekhar</td>\n",
       "      <td>Yuvajana Sramika Rythu Congress Party</td>\n",
       "      <td>Vizianagaram</td>\n",
       "      <td>Andhra Pradesh</td>\n",
       "      <td>No</td>\n",
       "      <td>General</td>\n",
       "      <td>Male</td>\n",
       "      <td>Yes</td>\n",
       "      <td>11/8/1961</td>\n",
       "      <td>61</td>\n",
       "    </tr>\n",
       "    <tr>\n",
       "      <th>3</th>\n",
       "      <td>Chinta Anuradha, Smt.</td>\n",
       "      <td>Yuvajana Sramika Rythu Congress Party</td>\n",
       "      <td>Amalapuram</td>\n",
       "      <td>Andhra Pradesh</td>\n",
       "      <td>No</td>\n",
       "      <td>SC</td>\n",
       "      <td>Female</td>\n",
       "      <td>Yes</td>\n",
       "      <td>10/18/1972</td>\n",
       "      <td>50</td>\n",
       "    </tr>\n",
       "    <tr>\n",
       "      <th>4</th>\n",
       "      <td>Galla, Shri Jayadev</td>\n",
       "      <td>Telugu Desam Party</td>\n",
       "      <td>Guntur</td>\n",
       "      <td>Andhra Pradesh</td>\n",
       "      <td>No</td>\n",
       "      <td>General</td>\n",
       "      <td>Male</td>\n",
       "      <td>No</td>\n",
       "      <td>3/24/1966</td>\n",
       "      <td>56</td>\n",
       "    </tr>\n",
       "  </tbody>\n",
       "</table>\n",
       "</div>"
      ],
      "text/plain": [
       "                      Name of Member                             Party Name  \\\n",
       "0           Sharma, Shri Kuldeep Rai               Indian National Congress   \n",
       "1  Beesetti , Dr. Venkata Satyavathi  Yuvajana Sramika Rythu Congress Party   \n",
       "2       Bellana, Shri Chandra Sekhar  Yuvajana Sramika Rythu Congress Party   \n",
       "3              Chinta Anuradha, Smt.  Yuvajana Sramika Rythu Congress Party   \n",
       "4                Galla, Shri Jayadev                     Telugu Desam Party   \n",
       "\n",
       "                  Constituency                        State   UT Category  \\\n",
       "0  Andaman and Nicobar Islands  Andaman and Nicobar Islands  Yes  General   \n",
       "1                   Anakapalle               Andhra Pradesh   No  General   \n",
       "2                 Vizianagaram               Andhra Pradesh   No  General   \n",
       "3                   Amalapuram               Andhra Pradesh   No       SC   \n",
       "4                       Guntur               Andhra Pradesh   No  General   \n",
       "\n",
       "   Gender First time         DOB  Age of Member  \n",
       "0    Male        Yes   10/9/1967             55  \n",
       "1  Female        Yes   4/28/1966             56  \n",
       "2    Male        Yes   11/8/1961             61  \n",
       "3  Female        Yes  10/18/1972             50  \n",
       "4    Male         No   3/24/1966             56  "
      ]
     },
     "execution_count": 110,
     "metadata": {},
     "output_type": "execute_result"
    }
   ],
   "source": [
    "df.head()"
   ]
  },
  {
   "cell_type": "code",
   "execution_count": 113,
   "id": "f0555c68",
   "metadata": {},
   "outputs": [
    {
     "data": {
      "text/html": [
       "<div>\n",
       "<style scoped>\n",
       "    .dataframe tbody tr th:only-of-type {\n",
       "        vertical-align: middle;\n",
       "    }\n",
       "\n",
       "    .dataframe tbody tr th {\n",
       "        vertical-align: top;\n",
       "    }\n",
       "\n",
       "    .dataframe thead th {\n",
       "        text-align: right;\n",
       "    }\n",
       "</style>\n",
       "<table border=\"1\" class=\"dataframe\">\n",
       "  <thead>\n",
       "    <tr style=\"text-align: right;\">\n",
       "      <th></th>\n",
       "      <th>State</th>\n",
       "      <th>No.of MPs</th>\n",
       "    </tr>\n",
       "  </thead>\n",
       "  <tbody>\n",
       "    <tr>\n",
       "      <th>32</th>\n",
       "      <td>Andaman and Nicobar Islands</td>\n",
       "      <td>1</td>\n",
       "    </tr>\n",
       "    <tr>\n",
       "      <th>9</th>\n",
       "      <td>Andhra Pradesh</td>\n",
       "      <td>25</td>\n",
       "    </tr>\n",
       "    <tr>\n",
       "      <th>24</th>\n",
       "      <td>Arunachal Pradesh</td>\n",
       "      <td>2</td>\n",
       "    </tr>\n",
       "    <tr>\n",
       "      <th>14</th>\n",
       "      <td>Assam</td>\n",
       "      <td>14</td>\n",
       "    </tr>\n",
       "    <tr>\n",
       "      <th>3</th>\n",
       "      <td>Bihar</td>\n",
       "      <td>40</td>\n",
       "    </tr>\n",
       "    <tr>\n",
       "      <th>30</th>\n",
       "      <td>Chandigarh</td>\n",
       "      <td>1</td>\n",
       "    </tr>\n",
       "    <tr>\n",
       "      <th>16</th>\n",
       "      <td>Chhattisgarh</td>\n",
       "      <td>11</td>\n",
       "    </tr>\n",
       "    <tr>\n",
       "      <th>34</th>\n",
       "      <td>Daman and Diu</td>\n",
       "      <td>1</td>\n",
       "    </tr>\n",
       "    <tr>\n",
       "      <th>25</th>\n",
       "      <td>Goa</td>\n",
       "      <td>2</td>\n",
       "    </tr>\n",
       "    <tr>\n",
       "      <th>7</th>\n",
       "      <td>Gujarat</td>\n",
       "      <td>26</td>\n",
       "    </tr>\n",
       "    <tr>\n",
       "      <th>17</th>\n",
       "      <td>Haryana</td>\n",
       "      <td>10</td>\n",
       "    </tr>\n",
       "    <tr>\n",
       "      <th>21</th>\n",
       "      <td>Himachal Pradesh</td>\n",
       "      <td>3</td>\n",
       "    </tr>\n",
       "    <tr>\n",
       "      <th>19</th>\n",
       "      <td>Jammu and Kashmir</td>\n",
       "      <td>6</td>\n",
       "    </tr>\n",
       "    <tr>\n",
       "      <th>13</th>\n",
       "      <td>Jharkhand</td>\n",
       "      <td>14</td>\n",
       "    </tr>\n",
       "    <tr>\n",
       "      <th>5</th>\n",
       "      <td>Karnataka</td>\n",
       "      <td>28</td>\n",
       "    </tr>\n",
       "    <tr>\n",
       "      <th>11</th>\n",
       "      <td>Kerala</td>\n",
       "      <td>20</td>\n",
       "    </tr>\n",
       "    <tr>\n",
       "      <th>28</th>\n",
       "      <td>Lakshadweep</td>\n",
       "      <td>1</td>\n",
       "    </tr>\n",
       "    <tr>\n",
       "      <th>6</th>\n",
       "      <td>Madhya Pradesh</td>\n",
       "      <td>28</td>\n",
       "    </tr>\n",
       "    <tr>\n",
       "      <th>1</th>\n",
       "      <td>Maharashtra</td>\n",
       "      <td>48</td>\n",
       "    </tr>\n",
       "    <tr>\n",
       "      <th>23</th>\n",
       "      <td>Manipur</td>\n",
       "      <td>2</td>\n",
       "    </tr>\n",
       "    <tr>\n",
       "      <th>26</th>\n",
       "      <td>Meghalaya</td>\n",
       "      <td>2</td>\n",
       "    </tr>\n",
       "    <tr>\n",
       "      <th>33</th>\n",
       "      <td>Mizoram</td>\n",
       "      <td>1</td>\n",
       "    </tr>\n",
       "    <tr>\n",
       "      <th>18</th>\n",
       "      <td>NCT of Delhi</td>\n",
       "      <td>7</td>\n",
       "    </tr>\n",
       "    <tr>\n",
       "      <th>27</th>\n",
       "      <td>Nagaland</td>\n",
       "      <td>1</td>\n",
       "    </tr>\n",
       "    <tr>\n",
       "      <th>10</th>\n",
       "      <td>Odisha</td>\n",
       "      <td>21</td>\n",
       "    </tr>\n",
       "    <tr>\n",
       "      <th>31</th>\n",
       "      <td>Puducherry</td>\n",
       "      <td>1</td>\n",
       "    </tr>\n",
       "    <tr>\n",
       "      <th>15</th>\n",
       "      <td>Punjab</td>\n",
       "      <td>13</td>\n",
       "    </tr>\n",
       "    <tr>\n",
       "      <th>8</th>\n",
       "      <td>Rajasthan</td>\n",
       "      <td>25</td>\n",
       "    </tr>\n",
       "    <tr>\n",
       "      <th>29</th>\n",
       "      <td>Sikkim</td>\n",
       "      <td>1</td>\n",
       "    </tr>\n",
       "    <tr>\n",
       "      <th>4</th>\n",
       "      <td>Tamil Nadu</td>\n",
       "      <td>39</td>\n",
       "    </tr>\n",
       "    <tr>\n",
       "      <th>12</th>\n",
       "      <td>Telangana</td>\n",
       "      <td>17</td>\n",
       "    </tr>\n",
       "    <tr>\n",
       "      <th>22</th>\n",
       "      <td>Tripura</td>\n",
       "      <td>2</td>\n",
       "    </tr>\n",
       "    <tr>\n",
       "      <th>0</th>\n",
       "      <td>Uttar Pradesh</td>\n",
       "      <td>80</td>\n",
       "    </tr>\n",
       "    <tr>\n",
       "      <th>20</th>\n",
       "      <td>Uttarakhand</td>\n",
       "      <td>5</td>\n",
       "    </tr>\n",
       "    <tr>\n",
       "      <th>2</th>\n",
       "      <td>West Bengal</td>\n",
       "      <td>42</td>\n",
       "    </tr>\n",
       "  </tbody>\n",
       "</table>\n",
       "</div>"
      ],
      "text/plain": [
       "                          State  No.of MPs\n",
       "32  Andaman and Nicobar Islands          1\n",
       "9                Andhra Pradesh         25\n",
       "24            Arunachal Pradesh          2\n",
       "14                        Assam         14\n",
       "3                         Bihar         40\n",
       "30                   Chandigarh          1\n",
       "16                 Chhattisgarh         11\n",
       "34                Daman and Diu          1\n",
       "25                          Goa          2\n",
       "7                       Gujarat         26\n",
       "17                      Haryana         10\n",
       "21             Himachal Pradesh          3\n",
       "19            Jammu and Kashmir          6\n",
       "13                    Jharkhand         14\n",
       "5                     Karnataka         28\n",
       "11                       Kerala         20\n",
       "28                  Lakshadweep          1\n",
       "6                Madhya Pradesh         28\n",
       "1                   Maharashtra         48\n",
       "23                      Manipur          2\n",
       "26                    Meghalaya          2\n",
       "33                      Mizoram          1\n",
       "18                 NCT of Delhi          7\n",
       "27                     Nagaland          1\n",
       "10                       Odisha         21\n",
       "31                   Puducherry          1\n",
       "15                       Punjab         13\n",
       "8                     Rajasthan         25\n",
       "29                       Sikkim          1\n",
       "4                    Tamil Nadu         39\n",
       "12                    Telangana         17\n",
       "22                      Tripura          2\n",
       "0                 Uttar Pradesh         80\n",
       "20                  Uttarakhand          5\n",
       "2                   West Bengal         42"
      ]
     },
     "execution_count": 113,
     "metadata": {},
     "output_type": "execute_result"
    }
   ],
   "source": [
    "state_mp =df['State'].value_counts().reset_index().rename(columns = {'index':'State','State':'No.of MPs'}).sort_values('State')"
   ]
  },
  {
   "cell_type": "code",
   "execution_count": 118,
   "id": "ce0c9876",
   "metadata": {},
   "outputs": [
    {
     "data": {
      "application/vnd.plotly.v1+json": {
       "config": {
        "plotlyServerURL": "https://plot.ly"
       },
       "data": [
        {
         "domain": {
          "x": [
           0,
           1
          ],
          "y": [
           0,
           1
          ]
         },
         "hovertemplate": "Gender=%{label}<br>No.of MPs=%{value}<extra></extra>",
         "labels": [
          "Male",
          "Female"
         ],
         "legendgroup": "",
         "name": "",
         "showlegend": true,
         "type": "pie",
         "values": [
          461,
          79
         ]
        }
       ],
       "layout": {
        "legend": {
         "tracegroupgap": 0
        },
        "margin": {
         "t": 60
        },
        "template": {
         "data": {
          "bar": [
           {
            "error_x": {
             "color": "#2a3f5f"
            },
            "error_y": {
             "color": "#2a3f5f"
            },
            "marker": {
             "line": {
              "color": "#E5ECF6",
              "width": 0.5
             },
             "pattern": {
              "fillmode": "overlay",
              "size": 10,
              "solidity": 0.2
             }
            },
            "type": "bar"
           }
          ],
          "barpolar": [
           {
            "marker": {
             "line": {
              "color": "#E5ECF6",
              "width": 0.5
             },
             "pattern": {
              "fillmode": "overlay",
              "size": 10,
              "solidity": 0.2
             }
            },
            "type": "barpolar"
           }
          ],
          "carpet": [
           {
            "aaxis": {
             "endlinecolor": "#2a3f5f",
             "gridcolor": "white",
             "linecolor": "white",
             "minorgridcolor": "white",
             "startlinecolor": "#2a3f5f"
            },
            "baxis": {
             "endlinecolor": "#2a3f5f",
             "gridcolor": "white",
             "linecolor": "white",
             "minorgridcolor": "white",
             "startlinecolor": "#2a3f5f"
            },
            "type": "carpet"
           }
          ],
          "choropleth": [
           {
            "colorbar": {
             "outlinewidth": 0,
             "ticks": ""
            },
            "type": "choropleth"
           }
          ],
          "contour": [
           {
            "colorbar": {
             "outlinewidth": 0,
             "ticks": ""
            },
            "colorscale": [
             [
              0,
              "#0d0887"
             ],
             [
              0.1111111111111111,
              "#46039f"
             ],
             [
              0.2222222222222222,
              "#7201a8"
             ],
             [
              0.3333333333333333,
              "#9c179e"
             ],
             [
              0.4444444444444444,
              "#bd3786"
             ],
             [
              0.5555555555555556,
              "#d8576b"
             ],
             [
              0.6666666666666666,
              "#ed7953"
             ],
             [
              0.7777777777777778,
              "#fb9f3a"
             ],
             [
              0.8888888888888888,
              "#fdca26"
             ],
             [
              1,
              "#f0f921"
             ]
            ],
            "type": "contour"
           }
          ],
          "contourcarpet": [
           {
            "colorbar": {
             "outlinewidth": 0,
             "ticks": ""
            },
            "type": "contourcarpet"
           }
          ],
          "heatmap": [
           {
            "colorbar": {
             "outlinewidth": 0,
             "ticks": ""
            },
            "colorscale": [
             [
              0,
              "#0d0887"
             ],
             [
              0.1111111111111111,
              "#46039f"
             ],
             [
              0.2222222222222222,
              "#7201a8"
             ],
             [
              0.3333333333333333,
              "#9c179e"
             ],
             [
              0.4444444444444444,
              "#bd3786"
             ],
             [
              0.5555555555555556,
              "#d8576b"
             ],
             [
              0.6666666666666666,
              "#ed7953"
             ],
             [
              0.7777777777777778,
              "#fb9f3a"
             ],
             [
              0.8888888888888888,
              "#fdca26"
             ],
             [
              1,
              "#f0f921"
             ]
            ],
            "type": "heatmap"
           }
          ],
          "heatmapgl": [
           {
            "colorbar": {
             "outlinewidth": 0,
             "ticks": ""
            },
            "colorscale": [
             [
              0,
              "#0d0887"
             ],
             [
              0.1111111111111111,
              "#46039f"
             ],
             [
              0.2222222222222222,
              "#7201a8"
             ],
             [
              0.3333333333333333,
              "#9c179e"
             ],
             [
              0.4444444444444444,
              "#bd3786"
             ],
             [
              0.5555555555555556,
              "#d8576b"
             ],
             [
              0.6666666666666666,
              "#ed7953"
             ],
             [
              0.7777777777777778,
              "#fb9f3a"
             ],
             [
              0.8888888888888888,
              "#fdca26"
             ],
             [
              1,
              "#f0f921"
             ]
            ],
            "type": "heatmapgl"
           }
          ],
          "histogram": [
           {
            "marker": {
             "pattern": {
              "fillmode": "overlay",
              "size": 10,
              "solidity": 0.2
             }
            },
            "type": "histogram"
           }
          ],
          "histogram2d": [
           {
            "colorbar": {
             "outlinewidth": 0,
             "ticks": ""
            },
            "colorscale": [
             [
              0,
              "#0d0887"
             ],
             [
              0.1111111111111111,
              "#46039f"
             ],
             [
              0.2222222222222222,
              "#7201a8"
             ],
             [
              0.3333333333333333,
              "#9c179e"
             ],
             [
              0.4444444444444444,
              "#bd3786"
             ],
             [
              0.5555555555555556,
              "#d8576b"
             ],
             [
              0.6666666666666666,
              "#ed7953"
             ],
             [
              0.7777777777777778,
              "#fb9f3a"
             ],
             [
              0.8888888888888888,
              "#fdca26"
             ],
             [
              1,
              "#f0f921"
             ]
            ],
            "type": "histogram2d"
           }
          ],
          "histogram2dcontour": [
           {
            "colorbar": {
             "outlinewidth": 0,
             "ticks": ""
            },
            "colorscale": [
             [
              0,
              "#0d0887"
             ],
             [
              0.1111111111111111,
              "#46039f"
             ],
             [
              0.2222222222222222,
              "#7201a8"
             ],
             [
              0.3333333333333333,
              "#9c179e"
             ],
             [
              0.4444444444444444,
              "#bd3786"
             ],
             [
              0.5555555555555556,
              "#d8576b"
             ],
             [
              0.6666666666666666,
              "#ed7953"
             ],
             [
              0.7777777777777778,
              "#fb9f3a"
             ],
             [
              0.8888888888888888,
              "#fdca26"
             ],
             [
              1,
              "#f0f921"
             ]
            ],
            "type": "histogram2dcontour"
           }
          ],
          "mesh3d": [
           {
            "colorbar": {
             "outlinewidth": 0,
             "ticks": ""
            },
            "type": "mesh3d"
           }
          ],
          "parcoords": [
           {
            "line": {
             "colorbar": {
              "outlinewidth": 0,
              "ticks": ""
             }
            },
            "type": "parcoords"
           }
          ],
          "pie": [
           {
            "automargin": true,
            "type": "pie"
           }
          ],
          "scatter": [
           {
            "fillpattern": {
             "fillmode": "overlay",
             "size": 10,
             "solidity": 0.2
            },
            "type": "scatter"
           }
          ],
          "scatter3d": [
           {
            "line": {
             "colorbar": {
              "outlinewidth": 0,
              "ticks": ""
             }
            },
            "marker": {
             "colorbar": {
              "outlinewidth": 0,
              "ticks": ""
             }
            },
            "type": "scatter3d"
           }
          ],
          "scattercarpet": [
           {
            "marker": {
             "colorbar": {
              "outlinewidth": 0,
              "ticks": ""
             }
            },
            "type": "scattercarpet"
           }
          ],
          "scattergeo": [
           {
            "marker": {
             "colorbar": {
              "outlinewidth": 0,
              "ticks": ""
             }
            },
            "type": "scattergeo"
           }
          ],
          "scattergl": [
           {
            "marker": {
             "colorbar": {
              "outlinewidth": 0,
              "ticks": ""
             }
            },
            "type": "scattergl"
           }
          ],
          "scattermapbox": [
           {
            "marker": {
             "colorbar": {
              "outlinewidth": 0,
              "ticks": ""
             }
            },
            "type": "scattermapbox"
           }
          ],
          "scatterpolar": [
           {
            "marker": {
             "colorbar": {
              "outlinewidth": 0,
              "ticks": ""
             }
            },
            "type": "scatterpolar"
           }
          ],
          "scatterpolargl": [
           {
            "marker": {
             "colorbar": {
              "outlinewidth": 0,
              "ticks": ""
             }
            },
            "type": "scatterpolargl"
           }
          ],
          "scatterternary": [
           {
            "marker": {
             "colorbar": {
              "outlinewidth": 0,
              "ticks": ""
             }
            },
            "type": "scatterternary"
           }
          ],
          "surface": [
           {
            "colorbar": {
             "outlinewidth": 0,
             "ticks": ""
            },
            "colorscale": [
             [
              0,
              "#0d0887"
             ],
             [
              0.1111111111111111,
              "#46039f"
             ],
             [
              0.2222222222222222,
              "#7201a8"
             ],
             [
              0.3333333333333333,
              "#9c179e"
             ],
             [
              0.4444444444444444,
              "#bd3786"
             ],
             [
              0.5555555555555556,
              "#d8576b"
             ],
             [
              0.6666666666666666,
              "#ed7953"
             ],
             [
              0.7777777777777778,
              "#fb9f3a"
             ],
             [
              0.8888888888888888,
              "#fdca26"
             ],
             [
              1,
              "#f0f921"
             ]
            ],
            "type": "surface"
           }
          ],
          "table": [
           {
            "cells": {
             "fill": {
              "color": "#EBF0F8"
             },
             "line": {
              "color": "white"
             }
            },
            "header": {
             "fill": {
              "color": "#C8D4E3"
             },
             "line": {
              "color": "white"
             }
            },
            "type": "table"
           }
          ]
         },
         "layout": {
          "annotationdefaults": {
           "arrowcolor": "#2a3f5f",
           "arrowhead": 0,
           "arrowwidth": 1
          },
          "autotypenumbers": "strict",
          "coloraxis": {
           "colorbar": {
            "outlinewidth": 0,
            "ticks": ""
           }
          },
          "colorscale": {
           "diverging": [
            [
             0,
             "#8e0152"
            ],
            [
             0.1,
             "#c51b7d"
            ],
            [
             0.2,
             "#de77ae"
            ],
            [
             0.3,
             "#f1b6da"
            ],
            [
             0.4,
             "#fde0ef"
            ],
            [
             0.5,
             "#f7f7f7"
            ],
            [
             0.6,
             "#e6f5d0"
            ],
            [
             0.7,
             "#b8e186"
            ],
            [
             0.8,
             "#7fbc41"
            ],
            [
             0.9,
             "#4d9221"
            ],
            [
             1,
             "#276419"
            ]
           ],
           "sequential": [
            [
             0,
             "#0d0887"
            ],
            [
             0.1111111111111111,
             "#46039f"
            ],
            [
             0.2222222222222222,
             "#7201a8"
            ],
            [
             0.3333333333333333,
             "#9c179e"
            ],
            [
             0.4444444444444444,
             "#bd3786"
            ],
            [
             0.5555555555555556,
             "#d8576b"
            ],
            [
             0.6666666666666666,
             "#ed7953"
            ],
            [
             0.7777777777777778,
             "#fb9f3a"
            ],
            [
             0.8888888888888888,
             "#fdca26"
            ],
            [
             1,
             "#f0f921"
            ]
           ],
           "sequentialminus": [
            [
             0,
             "#0d0887"
            ],
            [
             0.1111111111111111,
             "#46039f"
            ],
            [
             0.2222222222222222,
             "#7201a8"
            ],
            [
             0.3333333333333333,
             "#9c179e"
            ],
            [
             0.4444444444444444,
             "#bd3786"
            ],
            [
             0.5555555555555556,
             "#d8576b"
            ],
            [
             0.6666666666666666,
             "#ed7953"
            ],
            [
             0.7777777777777778,
             "#fb9f3a"
            ],
            [
             0.8888888888888888,
             "#fdca26"
            ],
            [
             1,
             "#f0f921"
            ]
           ]
          },
          "colorway": [
           "#636efa",
           "#EF553B",
           "#00cc96",
           "#ab63fa",
           "#FFA15A",
           "#19d3f3",
           "#FF6692",
           "#B6E880",
           "#FF97FF",
           "#FECB52"
          ],
          "font": {
           "color": "#2a3f5f"
          },
          "geo": {
           "bgcolor": "white",
           "lakecolor": "white",
           "landcolor": "#E5ECF6",
           "showlakes": true,
           "showland": true,
           "subunitcolor": "white"
          },
          "hoverlabel": {
           "align": "left"
          },
          "hovermode": "closest",
          "mapbox": {
           "style": "light"
          },
          "paper_bgcolor": "white",
          "plot_bgcolor": "#E5ECF6",
          "polar": {
           "angularaxis": {
            "gridcolor": "white",
            "linecolor": "white",
            "ticks": ""
           },
           "bgcolor": "#E5ECF6",
           "radialaxis": {
            "gridcolor": "white",
            "linecolor": "white",
            "ticks": ""
           }
          },
          "scene": {
           "xaxis": {
            "backgroundcolor": "#E5ECF6",
            "gridcolor": "white",
            "gridwidth": 2,
            "linecolor": "white",
            "showbackground": true,
            "ticks": "",
            "zerolinecolor": "white"
           },
           "yaxis": {
            "backgroundcolor": "#E5ECF6",
            "gridcolor": "white",
            "gridwidth": 2,
            "linecolor": "white",
            "showbackground": true,
            "ticks": "",
            "zerolinecolor": "white"
           },
           "zaxis": {
            "backgroundcolor": "#E5ECF6",
            "gridcolor": "white",
            "gridwidth": 2,
            "linecolor": "white",
            "showbackground": true,
            "ticks": "",
            "zerolinecolor": "white"
           }
          },
          "shapedefaults": {
           "line": {
            "color": "#2a3f5f"
           }
          },
          "ternary": {
           "aaxis": {
            "gridcolor": "white",
            "linecolor": "white",
            "ticks": ""
           },
           "baxis": {
            "gridcolor": "white",
            "linecolor": "white",
            "ticks": ""
           },
           "bgcolor": "#E5ECF6",
           "caxis": {
            "gridcolor": "white",
            "linecolor": "white",
            "ticks": ""
           }
          },
          "title": {
           "x": 0.05
          },
          "xaxis": {
           "automargin": true,
           "gridcolor": "white",
           "linecolor": "white",
           "ticks": "",
           "title": {
            "standoff": 15
           },
           "zerolinecolor": "white",
           "zerolinewidth": 2
          },
          "yaxis": {
           "automargin": true,
           "gridcolor": "white",
           "linecolor": "white",
           "ticks": "",
           "title": {
            "standoff": 15
           },
           "zerolinecolor": "white",
           "zerolinewidth": 2
          }
         }
        }
       }
      },
      "text/html": [
       "<div>                            <div id=\"a77ec85d-1a82-40f3-94d9-7593d2ef81e7\" class=\"plotly-graph-div\" style=\"height:525px; width:100%;\"></div>            <script type=\"text/javascript\">                require([\"plotly\"], function(Plotly) {                    window.PLOTLYENV=window.PLOTLYENV || {};                                    if (document.getElementById(\"a77ec85d-1a82-40f3-94d9-7593d2ef81e7\")) {                    Plotly.newPlot(                        \"a77ec85d-1a82-40f3-94d9-7593d2ef81e7\",                        [{\"domain\":{\"x\":[0.0,1.0],\"y\":[0.0,1.0]},\"hovertemplate\":\"Gender=%{label}<br>No.of MPs=%{value}<extra></extra>\",\"labels\":[\"Male\",\"Female\"],\"legendgroup\":\"\",\"name\":\"\",\"showlegend\":true,\"values\":[461,79],\"type\":\"pie\"}],                        {\"template\":{\"data\":{\"histogram2dcontour\":[{\"type\":\"histogram2dcontour\",\"colorbar\":{\"outlinewidth\":0,\"ticks\":\"\"},\"colorscale\":[[0.0,\"#0d0887\"],[0.1111111111111111,\"#46039f\"],[0.2222222222222222,\"#7201a8\"],[0.3333333333333333,\"#9c179e\"],[0.4444444444444444,\"#bd3786\"],[0.5555555555555556,\"#d8576b\"],[0.6666666666666666,\"#ed7953\"],[0.7777777777777778,\"#fb9f3a\"],[0.8888888888888888,\"#fdca26\"],[1.0,\"#f0f921\"]]}],\"choropleth\":[{\"type\":\"choropleth\",\"colorbar\":{\"outlinewidth\":0,\"ticks\":\"\"}}],\"histogram2d\":[{\"type\":\"histogram2d\",\"colorbar\":{\"outlinewidth\":0,\"ticks\":\"\"},\"colorscale\":[[0.0,\"#0d0887\"],[0.1111111111111111,\"#46039f\"],[0.2222222222222222,\"#7201a8\"],[0.3333333333333333,\"#9c179e\"],[0.4444444444444444,\"#bd3786\"],[0.5555555555555556,\"#d8576b\"],[0.6666666666666666,\"#ed7953\"],[0.7777777777777778,\"#fb9f3a\"],[0.8888888888888888,\"#fdca26\"],[1.0,\"#f0f921\"]]}],\"heatmap\":[{\"type\":\"heatmap\",\"colorbar\":{\"outlinewidth\":0,\"ticks\":\"\"},\"colorscale\":[[0.0,\"#0d0887\"],[0.1111111111111111,\"#46039f\"],[0.2222222222222222,\"#7201a8\"],[0.3333333333333333,\"#9c179e\"],[0.4444444444444444,\"#bd3786\"],[0.5555555555555556,\"#d8576b\"],[0.6666666666666666,\"#ed7953\"],[0.7777777777777778,\"#fb9f3a\"],[0.8888888888888888,\"#fdca26\"],[1.0,\"#f0f921\"]]}],\"heatmapgl\":[{\"type\":\"heatmapgl\",\"colorbar\":{\"outlinewidth\":0,\"ticks\":\"\"},\"colorscale\":[[0.0,\"#0d0887\"],[0.1111111111111111,\"#46039f\"],[0.2222222222222222,\"#7201a8\"],[0.3333333333333333,\"#9c179e\"],[0.4444444444444444,\"#bd3786\"],[0.5555555555555556,\"#d8576b\"],[0.6666666666666666,\"#ed7953\"],[0.7777777777777778,\"#fb9f3a\"],[0.8888888888888888,\"#fdca26\"],[1.0,\"#f0f921\"]]}],\"contourcarpet\":[{\"type\":\"contourcarpet\",\"colorbar\":{\"outlinewidth\":0,\"ticks\":\"\"}}],\"contour\":[{\"type\":\"contour\",\"colorbar\":{\"outlinewidth\":0,\"ticks\":\"\"},\"colorscale\":[[0.0,\"#0d0887\"],[0.1111111111111111,\"#46039f\"],[0.2222222222222222,\"#7201a8\"],[0.3333333333333333,\"#9c179e\"],[0.4444444444444444,\"#bd3786\"],[0.5555555555555556,\"#d8576b\"],[0.6666666666666666,\"#ed7953\"],[0.7777777777777778,\"#fb9f3a\"],[0.8888888888888888,\"#fdca26\"],[1.0,\"#f0f921\"]]}],\"surface\":[{\"type\":\"surface\",\"colorbar\":{\"outlinewidth\":0,\"ticks\":\"\"},\"colorscale\":[[0.0,\"#0d0887\"],[0.1111111111111111,\"#46039f\"],[0.2222222222222222,\"#7201a8\"],[0.3333333333333333,\"#9c179e\"],[0.4444444444444444,\"#bd3786\"],[0.5555555555555556,\"#d8576b\"],[0.6666666666666666,\"#ed7953\"],[0.7777777777777778,\"#fb9f3a\"],[0.8888888888888888,\"#fdca26\"],[1.0,\"#f0f921\"]]}],\"mesh3d\":[{\"type\":\"mesh3d\",\"colorbar\":{\"outlinewidth\":0,\"ticks\":\"\"}}],\"scatter\":[{\"fillpattern\":{\"fillmode\":\"overlay\",\"size\":10,\"solidity\":0.2},\"type\":\"scatter\"}],\"parcoords\":[{\"type\":\"parcoords\",\"line\":{\"colorbar\":{\"outlinewidth\":0,\"ticks\":\"\"}}}],\"scatterpolargl\":[{\"type\":\"scatterpolargl\",\"marker\":{\"colorbar\":{\"outlinewidth\":0,\"ticks\":\"\"}}}],\"bar\":[{\"error_x\":{\"color\":\"#2a3f5f\"},\"error_y\":{\"color\":\"#2a3f5f\"},\"marker\":{\"line\":{\"color\":\"#E5ECF6\",\"width\":0.5},\"pattern\":{\"fillmode\":\"overlay\",\"size\":10,\"solidity\":0.2}},\"type\":\"bar\"}],\"scattergeo\":[{\"type\":\"scattergeo\",\"marker\":{\"colorbar\":{\"outlinewidth\":0,\"ticks\":\"\"}}}],\"scatterpolar\":[{\"type\":\"scatterpolar\",\"marker\":{\"colorbar\":{\"outlinewidth\":0,\"ticks\":\"\"}}}],\"histogram\":[{\"marker\":{\"pattern\":{\"fillmode\":\"overlay\",\"size\":10,\"solidity\":0.2}},\"type\":\"histogram\"}],\"scattergl\":[{\"type\":\"scattergl\",\"marker\":{\"colorbar\":{\"outlinewidth\":0,\"ticks\":\"\"}}}],\"scatter3d\":[{\"type\":\"scatter3d\",\"line\":{\"colorbar\":{\"outlinewidth\":0,\"ticks\":\"\"}},\"marker\":{\"colorbar\":{\"outlinewidth\":0,\"ticks\":\"\"}}}],\"scattermapbox\":[{\"type\":\"scattermapbox\",\"marker\":{\"colorbar\":{\"outlinewidth\":0,\"ticks\":\"\"}}}],\"scatterternary\":[{\"type\":\"scatterternary\",\"marker\":{\"colorbar\":{\"outlinewidth\":0,\"ticks\":\"\"}}}],\"scattercarpet\":[{\"type\":\"scattercarpet\",\"marker\":{\"colorbar\":{\"outlinewidth\":0,\"ticks\":\"\"}}}],\"carpet\":[{\"aaxis\":{\"endlinecolor\":\"#2a3f5f\",\"gridcolor\":\"white\",\"linecolor\":\"white\",\"minorgridcolor\":\"white\",\"startlinecolor\":\"#2a3f5f\"},\"baxis\":{\"endlinecolor\":\"#2a3f5f\",\"gridcolor\":\"white\",\"linecolor\":\"white\",\"minorgridcolor\":\"white\",\"startlinecolor\":\"#2a3f5f\"},\"type\":\"carpet\"}],\"table\":[{\"cells\":{\"fill\":{\"color\":\"#EBF0F8\"},\"line\":{\"color\":\"white\"}},\"header\":{\"fill\":{\"color\":\"#C8D4E3\"},\"line\":{\"color\":\"white\"}},\"type\":\"table\"}],\"barpolar\":[{\"marker\":{\"line\":{\"color\":\"#E5ECF6\",\"width\":0.5},\"pattern\":{\"fillmode\":\"overlay\",\"size\":10,\"solidity\":0.2}},\"type\":\"barpolar\"}],\"pie\":[{\"automargin\":true,\"type\":\"pie\"}]},\"layout\":{\"autotypenumbers\":\"strict\",\"colorway\":[\"#636efa\",\"#EF553B\",\"#00cc96\",\"#ab63fa\",\"#FFA15A\",\"#19d3f3\",\"#FF6692\",\"#B6E880\",\"#FF97FF\",\"#FECB52\"],\"font\":{\"color\":\"#2a3f5f\"},\"hovermode\":\"closest\",\"hoverlabel\":{\"align\":\"left\"},\"paper_bgcolor\":\"white\",\"plot_bgcolor\":\"#E5ECF6\",\"polar\":{\"bgcolor\":\"#E5ECF6\",\"angularaxis\":{\"gridcolor\":\"white\",\"linecolor\":\"white\",\"ticks\":\"\"},\"radialaxis\":{\"gridcolor\":\"white\",\"linecolor\":\"white\",\"ticks\":\"\"}},\"ternary\":{\"bgcolor\":\"#E5ECF6\",\"aaxis\":{\"gridcolor\":\"white\",\"linecolor\":\"white\",\"ticks\":\"\"},\"baxis\":{\"gridcolor\":\"white\",\"linecolor\":\"white\",\"ticks\":\"\"},\"caxis\":{\"gridcolor\":\"white\",\"linecolor\":\"white\",\"ticks\":\"\"}},\"coloraxis\":{\"colorbar\":{\"outlinewidth\":0,\"ticks\":\"\"}},\"colorscale\":{\"sequential\":[[0.0,\"#0d0887\"],[0.1111111111111111,\"#46039f\"],[0.2222222222222222,\"#7201a8\"],[0.3333333333333333,\"#9c179e\"],[0.4444444444444444,\"#bd3786\"],[0.5555555555555556,\"#d8576b\"],[0.6666666666666666,\"#ed7953\"],[0.7777777777777778,\"#fb9f3a\"],[0.8888888888888888,\"#fdca26\"],[1.0,\"#f0f921\"]],\"sequentialminus\":[[0.0,\"#0d0887\"],[0.1111111111111111,\"#46039f\"],[0.2222222222222222,\"#7201a8\"],[0.3333333333333333,\"#9c179e\"],[0.4444444444444444,\"#bd3786\"],[0.5555555555555556,\"#d8576b\"],[0.6666666666666666,\"#ed7953\"],[0.7777777777777778,\"#fb9f3a\"],[0.8888888888888888,\"#fdca26\"],[1.0,\"#f0f921\"]],\"diverging\":[[0,\"#8e0152\"],[0.1,\"#c51b7d\"],[0.2,\"#de77ae\"],[0.3,\"#f1b6da\"],[0.4,\"#fde0ef\"],[0.5,\"#f7f7f7\"],[0.6,\"#e6f5d0\"],[0.7,\"#b8e186\"],[0.8,\"#7fbc41\"],[0.9,\"#4d9221\"],[1,\"#276419\"]]},\"xaxis\":{\"gridcolor\":\"white\",\"linecolor\":\"white\",\"ticks\":\"\",\"title\":{\"standoff\":15},\"zerolinecolor\":\"white\",\"automargin\":true,\"zerolinewidth\":2},\"yaxis\":{\"gridcolor\":\"white\",\"linecolor\":\"white\",\"ticks\":\"\",\"title\":{\"standoff\":15},\"zerolinecolor\":\"white\",\"automargin\":true,\"zerolinewidth\":2},\"scene\":{\"xaxis\":{\"backgroundcolor\":\"#E5ECF6\",\"gridcolor\":\"white\",\"linecolor\":\"white\",\"showbackground\":true,\"ticks\":\"\",\"zerolinecolor\":\"white\",\"gridwidth\":2},\"yaxis\":{\"backgroundcolor\":\"#E5ECF6\",\"gridcolor\":\"white\",\"linecolor\":\"white\",\"showbackground\":true,\"ticks\":\"\",\"zerolinecolor\":\"white\",\"gridwidth\":2},\"zaxis\":{\"backgroundcolor\":\"#E5ECF6\",\"gridcolor\":\"white\",\"linecolor\":\"white\",\"showbackground\":true,\"ticks\":\"\",\"zerolinecolor\":\"white\",\"gridwidth\":2}},\"shapedefaults\":{\"line\":{\"color\":\"#2a3f5f\"}},\"annotationdefaults\":{\"arrowcolor\":\"#2a3f5f\",\"arrowhead\":0,\"arrowwidth\":1},\"geo\":{\"bgcolor\":\"white\",\"landcolor\":\"#E5ECF6\",\"subunitcolor\":\"white\",\"showland\":true,\"showlakes\":true,\"lakecolor\":\"white\"},\"title\":{\"x\":0.05},\"mapbox\":{\"style\":\"light\"}}},\"legend\":{\"tracegroupgap\":0},\"margin\":{\"t\":60}},                        {\"responsive\": true}                    ).then(function(){\n",
       "                            \n",
       "var gd = document.getElementById('a77ec85d-1a82-40f3-94d9-7593d2ef81e7');\n",
       "var x = new MutationObserver(function (mutations, observer) {{\n",
       "        var display = window.getComputedStyle(gd).display;\n",
       "        if (!display || display === 'none') {{\n",
       "            console.log([gd, 'removed!']);\n",
       "            Plotly.purge(gd);\n",
       "            observer.disconnect();\n",
       "        }}\n",
       "}});\n",
       "\n",
       "// Listen for the removal of the full notebook cells\n",
       "var notebookContainer = gd.closest('#notebook-container');\n",
       "if (notebookContainer) {{\n",
       "    x.observe(notebookContainer, {childList: true});\n",
       "}}\n",
       "\n",
       "// Listen for the clearing of the current output cell\n",
       "var outputEl = gd.closest('.output');\n",
       "if (outputEl) {{\n",
       "    x.observe(outputEl, {childList: true});\n",
       "}}\n",
       "\n",
       "                        })                };                });            </script>        </div>"
      ]
     },
     "metadata": {},
     "output_type": "display_data"
    }
   ],
   "source": [
    "px.pie(df['Gender'].value_counts().reset_index().rename(columns={'index':'Gender','Gender':'No.of MPs'}),values='No.of MPs', names='Gender')"
   ]
  },
  {
   "cell_type": "code",
   "execution_count": 137,
   "id": "e5f42850",
   "metadata": {},
   "outputs": [],
   "source": [
    "cat = df['Category'].value_counts().reset_index().rename(columns={'index':'Category','Category':'No.of MPs'})"
   ]
  },
  {
   "cell_type": "code",
   "execution_count": 147,
   "id": "979430cd",
   "metadata": {},
   "outputs": [
    {
     "data": {
      "text/html": [
       "<div>\n",
       "<style scoped>\n",
       "    .dataframe tbody tr th:only-of-type {\n",
       "        vertical-align: middle;\n",
       "    }\n",
       "\n",
       "    .dataframe tbody tr th {\n",
       "        vertical-align: top;\n",
       "    }\n",
       "\n",
       "    .dataframe thead th {\n",
       "        text-align: right;\n",
       "    }\n",
       "</style>\n",
       "<table border=\"1\" class=\"dataframe\">\n",
       "  <thead>\n",
       "    <tr style=\"text-align: right;\">\n",
       "      <th></th>\n",
       "      <th>Category</th>\n",
       "      <th>No.of MPs</th>\n",
       "    </tr>\n",
       "  </thead>\n",
       "  <tbody>\n",
       "    <tr>\n",
       "      <th>0</th>\n",
       "      <td>General</td>\n",
       "      <td>39</td>\n",
       "    </tr>\n",
       "    <tr>\n",
       "      <th>1</th>\n",
       "      <td>SC</td>\n",
       "      <td>5</td>\n",
       "    </tr>\n",
       "    <tr>\n",
       "      <th>2</th>\n",
       "      <td>ST</td>\n",
       "      <td>4</td>\n",
       "    </tr>\n",
       "  </tbody>\n",
       "</table>\n",
       "</div>"
      ],
      "text/plain": [
       "  Category  No.of MPs\n",
       "0  General         39\n",
       "1       SC          5\n",
       "2       ST          4"
      ]
     },
     "execution_count": 147,
     "metadata": {},
     "output_type": "execute_result"
    }
   ],
   "source": [
    "df[df['State']=='Maharashtra']['Category'].value_counts().reset_index().rename(columns={'index':'Category','Category':'No.of MPs'})"
   ]
  },
  {
   "cell_type": "code",
   "execution_count": null,
   "id": "8c801502",
   "metadata": {},
   "outputs": [],
   "source": []
  },
  {
   "cell_type": "code",
   "execution_count": 145,
   "id": "c50fc3d2",
   "metadata": {},
   "outputs": [],
   "source": [
    "states = df['State'].unique().tolist()"
   ]
  },
  {
   "cell_type": "code",
   "execution_count": 146,
   "id": "504047fd",
   "metadata": {},
   "outputs": [
    {
     "data": {
      "text/plain": [
       "['Andaman and Nicobar Islands',\n",
       " 'Andhra Pradesh',\n",
       " 'Arunachal Pradesh',\n",
       " 'Assam',\n",
       " 'Bihar',\n",
       " 'Chandigarh',\n",
       " 'Chhattisgarh',\n",
       " 'Daman and Diu',\n",
       " 'Goa',\n",
       " 'Gujarat',\n",
       " 'Haryana',\n",
       " 'Himachal Pradesh',\n",
       " 'Jammu and Kashmir',\n",
       " 'Jharkhand',\n",
       " 'Karnataka',\n",
       " 'Kerala',\n",
       " 'Lakshadweep',\n",
       " 'Madhya Pradesh',\n",
       " 'Maharashtra',\n",
       " 'Manipur',\n",
       " 'Meghalaya',\n",
       " 'Mizoram',\n",
       " 'Nagaland',\n",
       " 'NCT of Delhi',\n",
       " 'Odisha',\n",
       " 'Puducherry',\n",
       " 'Punjab',\n",
       " 'Rajasthan',\n",
       " 'Sikkim',\n",
       " 'Tamil Nadu',\n",
       " 'Telangana',\n",
       " 'Tripura',\n",
       " 'Uttar Pradesh',\n",
       " 'Uttarakhand',\n",
       " 'West Bengal']"
      ]
     },
     "execution_count": 146,
     "metadata": {},
     "output_type": "execute_result"
    }
   ],
   "source": [
    "states"
   ]
  },
  {
   "cell_type": "code",
   "execution_count": 148,
   "id": "1bd36502",
   "metadata": {},
   "outputs": [
    {
     "data": {
      "text/html": [
       "<div>\n",
       "<style scoped>\n",
       "    .dataframe tbody tr th:only-of-type {\n",
       "        vertical-align: middle;\n",
       "    }\n",
       "\n",
       "    .dataframe tbody tr th {\n",
       "        vertical-align: top;\n",
       "    }\n",
       "\n",
       "    .dataframe thead th {\n",
       "        text-align: right;\n",
       "    }\n",
       "</style>\n",
       "<table border=\"1\" class=\"dataframe\">\n",
       "  <thead>\n",
       "    <tr style=\"text-align: right;\">\n",
       "      <th></th>\n",
       "      <th>Name of Member</th>\n",
       "      <th>Party Name</th>\n",
       "      <th>Constituency</th>\n",
       "      <th>State</th>\n",
       "      <th>UT</th>\n",
       "      <th>Category</th>\n",
       "      <th>Gender</th>\n",
       "      <th>First time</th>\n",
       "      <th>DOB</th>\n",
       "      <th>Age of Member</th>\n",
       "    </tr>\n",
       "  </thead>\n",
       "  <tbody>\n",
       "    <tr>\n",
       "      <th>0</th>\n",
       "      <td>Sharma, Shri Kuldeep Rai</td>\n",
       "      <td>Indian National Congress</td>\n",
       "      <td>Andaman and Nicobar Islands</td>\n",
       "      <td>Andaman and Nicobar Islands</td>\n",
       "      <td>Yes</td>\n",
       "      <td>General</td>\n",
       "      <td>Male</td>\n",
       "      <td>Yes</td>\n",
       "      <td>10/9/1967</td>\n",
       "      <td>55</td>\n",
       "    </tr>\n",
       "    <tr>\n",
       "      <th>1</th>\n",
       "      <td>Beesetti , Dr. Venkata Satyavathi</td>\n",
       "      <td>Yuvajana Sramika Rythu Congress Party</td>\n",
       "      <td>Anakapalle</td>\n",
       "      <td>Andhra Pradesh</td>\n",
       "      <td>No</td>\n",
       "      <td>General</td>\n",
       "      <td>Female</td>\n",
       "      <td>Yes</td>\n",
       "      <td>4/28/1966</td>\n",
       "      <td>56</td>\n",
       "    </tr>\n",
       "    <tr>\n",
       "      <th>2</th>\n",
       "      <td>Bellana, Shri Chandra Sekhar</td>\n",
       "      <td>Yuvajana Sramika Rythu Congress Party</td>\n",
       "      <td>Vizianagaram</td>\n",
       "      <td>Andhra Pradesh</td>\n",
       "      <td>No</td>\n",
       "      <td>General</td>\n",
       "      <td>Male</td>\n",
       "      <td>Yes</td>\n",
       "      <td>11/8/1961</td>\n",
       "      <td>61</td>\n",
       "    </tr>\n",
       "    <tr>\n",
       "      <th>3</th>\n",
       "      <td>Chinta Anuradha, Smt.</td>\n",
       "      <td>Yuvajana Sramika Rythu Congress Party</td>\n",
       "      <td>Amalapuram</td>\n",
       "      <td>Andhra Pradesh</td>\n",
       "      <td>No</td>\n",
       "      <td>SC</td>\n",
       "      <td>Female</td>\n",
       "      <td>Yes</td>\n",
       "      <td>10/18/1972</td>\n",
       "      <td>50</td>\n",
       "    </tr>\n",
       "    <tr>\n",
       "      <th>4</th>\n",
       "      <td>Galla, Shri Jayadev</td>\n",
       "      <td>Telugu Desam Party</td>\n",
       "      <td>Guntur</td>\n",
       "      <td>Andhra Pradesh</td>\n",
       "      <td>No</td>\n",
       "      <td>General</td>\n",
       "      <td>Male</td>\n",
       "      <td>No</td>\n",
       "      <td>3/24/1966</td>\n",
       "      <td>56</td>\n",
       "    </tr>\n",
       "  </tbody>\n",
       "</table>\n",
       "</div>"
      ],
      "text/plain": [
       "                      Name of Member                             Party Name  \\\n",
       "0           Sharma, Shri Kuldeep Rai               Indian National Congress   \n",
       "1  Beesetti , Dr. Venkata Satyavathi  Yuvajana Sramika Rythu Congress Party   \n",
       "2       Bellana, Shri Chandra Sekhar  Yuvajana Sramika Rythu Congress Party   \n",
       "3              Chinta Anuradha, Smt.  Yuvajana Sramika Rythu Congress Party   \n",
       "4                Galla, Shri Jayadev                     Telugu Desam Party   \n",
       "\n",
       "                  Constituency                        State   UT Category  \\\n",
       "0  Andaman and Nicobar Islands  Andaman and Nicobar Islands  Yes  General   \n",
       "1                   Anakapalle               Andhra Pradesh   No  General   \n",
       "2                 Vizianagaram               Andhra Pradesh   No  General   \n",
       "3                   Amalapuram               Andhra Pradesh   No       SC   \n",
       "4                       Guntur               Andhra Pradesh   No  General   \n",
       "\n",
       "   Gender First time         DOB  Age of Member  \n",
       "0    Male        Yes   10/9/1967             55  \n",
       "1  Female        Yes   4/28/1966             56  \n",
       "2    Male        Yes   11/8/1961             61  \n",
       "3  Female        Yes  10/18/1972             50  \n",
       "4    Male         No   3/24/1966             56  "
      ]
     },
     "execution_count": 148,
     "metadata": {},
     "output_type": "execute_result"
    }
   ],
   "source": [
    "df.head()"
   ]
  },
  {
   "cell_type": "code",
   "execution_count": 203,
   "id": "cb8a9107",
   "metadata": {},
   "outputs": [],
   "source": [
    "def mp(df,first,party='Overall',state='Overall'):\n",
    "    if party == 'Overall' and state == 'Overall':\n",
    "        return df[df['First time']==first][['Name of Member','Constituency','State','Party Name','Gender','Category','Age of Member']]\n",
    "    elif party == 'Overall' and state != 'Overall':\n",
    "        return df[(df['First time']==first) & (df['State']==state)][['Name of Member','Constituency','State','Party Name','Gender','Category','Age of Member']]\n",
    "    elif party != 'Overall' and state == 'Overall':\n",
    "        return df[(df['Party Name']==party) & (df['First time']==first)][['Name of Member','Constituency','State','Party Name','Gender','Category','Age of Member']]\n",
    "    else:\n",
    "        return df[(df['Party Name']==party) & (df['First time']==first) & (df['State']==state)][['Name of Member','Constituency','State','Party Name','Gender','Category','Age of Member']]"
   ]
  },
  {
   "cell_type": "code",
   "execution_count": null,
   "id": "3068aa50",
   "metadata": {},
   "outputs": [],
   "source": []
  },
  {
   "cell_type": "code",
   "execution_count": 212,
   "id": "d78f6716",
   "metadata": {},
   "outputs": [
    {
     "data": {
      "text/plain": [
       "47.75"
      ]
     },
     "execution_count": 212,
     "metadata": {},
     "output_type": "execute_result"
    }
   ],
   "source": [
    "mp(df,'Yes','Shiv Sena')['Age of Member'].mean()"
   ]
  },
  {
   "cell_type": "code",
   "execution_count": 193,
   "id": "15796d34",
   "metadata": {},
   "outputs": [
    {
     "data": {
      "text/html": [
       "<div>\n",
       "<style scoped>\n",
       "    .dataframe tbody tr th:only-of-type {\n",
       "        vertical-align: middle;\n",
       "    }\n",
       "\n",
       "    .dataframe tbody tr th {\n",
       "        vertical-align: top;\n",
       "    }\n",
       "\n",
       "    .dataframe thead th {\n",
       "        text-align: right;\n",
       "    }\n",
       "</style>\n",
       "<table border=\"1\" class=\"dataframe\">\n",
       "  <thead>\n",
       "    <tr style=\"text-align: right;\">\n",
       "      <th></th>\n",
       "      <th>Name of Member</th>\n",
       "      <th>Party Name</th>\n",
       "      <th>Constituency</th>\n",
       "      <th>State</th>\n",
       "      <th>UT</th>\n",
       "      <th>Category</th>\n",
       "      <th>Gender</th>\n",
       "      <th>First time</th>\n",
       "      <th>DOB</th>\n",
       "      <th>Age of Member</th>\n",
       "    </tr>\n",
       "  </thead>\n",
       "  <tbody>\n",
       "    <tr>\n",
       "      <th>42</th>\n",
       "      <td>Choubey, Shri Ashwini Kumar</td>\n",
       "      <td>Bharatiya Janata Party</td>\n",
       "      <td>Buxar</td>\n",
       "      <td>Bihar</td>\n",
       "      <td>No</td>\n",
       "      <td>General</td>\n",
       "      <td>Male</td>\n",
       "      <td>No</td>\n",
       "      <td>2/1/1953</td>\n",
       "      <td>69</td>\n",
       "    </tr>\n",
       "    <tr>\n",
       "      <th>43</th>\n",
       "      <td>Devi, Smt. Rama</td>\n",
       "      <td>Bharatiya Janata Party</td>\n",
       "      <td>Sheohar</td>\n",
       "      <td>Bihar</td>\n",
       "      <td>No</td>\n",
       "      <td>General</td>\n",
       "      <td>Female</td>\n",
       "      <td>No</td>\n",
       "      <td>5/5/1949</td>\n",
       "      <td>73</td>\n",
       "    </tr>\n",
       "    <tr>\n",
       "      <th>44</th>\n",
       "      <td>Devi, Smt. Veena</td>\n",
       "      <td>Lok Jan Shakti Party</td>\n",
       "      <td>Vaishali</td>\n",
       "      <td>Bihar</td>\n",
       "      <td>No</td>\n",
       "      <td>General</td>\n",
       "      <td>Female</td>\n",
       "      <td>Yes</td>\n",
       "      <td>4/22/1967</td>\n",
       "      <td>55</td>\n",
       "    </tr>\n",
       "    <tr>\n",
       "      <th>45</th>\n",
       "      <td>Gopal Jee Thakur, Shri</td>\n",
       "      <td>Bharatiya Janata Party</td>\n",
       "      <td>Darbhanga</td>\n",
       "      <td>Bihar</td>\n",
       "      <td>No</td>\n",
       "      <td>General</td>\n",
       "      <td>Male</td>\n",
       "      <td>Yes</td>\n",
       "      <td>10/15/1969</td>\n",
       "      <td>53</td>\n",
       "    </tr>\n",
       "    <tr>\n",
       "      <th>46</th>\n",
       "      <td>Goswami, Shri Dulal Chandra</td>\n",
       "      <td>Janata Dal (United)</td>\n",
       "      <td>Katihar</td>\n",
       "      <td>Bihar</td>\n",
       "      <td>No</td>\n",
       "      <td>General</td>\n",
       "      <td>Male</td>\n",
       "      <td>Yes</td>\n",
       "      <td>8/10/1967</td>\n",
       "      <td>55</td>\n",
       "    </tr>\n",
       "    <tr>\n",
       "      <th>47</th>\n",
       "      <td>Jaiswal, Dr. Sanjay</td>\n",
       "      <td>Bharatiya Janata Party</td>\n",
       "      <td>Paschim Champaran</td>\n",
       "      <td>Bihar</td>\n",
       "      <td>No</td>\n",
       "      <td>General</td>\n",
       "      <td>Male</td>\n",
       "      <td>No</td>\n",
       "      <td>11/29/1965</td>\n",
       "      <td>57</td>\n",
       "    </tr>\n",
       "    <tr>\n",
       "      <th>48</th>\n",
       "      <td>Jawed, Dr. Mohammad</td>\n",
       "      <td>Indian National Congress</td>\n",
       "      <td>Kishanganj</td>\n",
       "      <td>Bihar</td>\n",
       "      <td>No</td>\n",
       "      <td>General</td>\n",
       "      <td>Male</td>\n",
       "      <td>Yes</td>\n",
       "      <td>6/17/1963</td>\n",
       "      <td>59</td>\n",
       "    </tr>\n",
       "    <tr>\n",
       "      <th>49</th>\n",
       "      <td>Kaiser, Choudhary Mehboob Ali</td>\n",
       "      <td>Lok Jan Shakti Party</td>\n",
       "      <td>Khagaria</td>\n",
       "      <td>Bihar</td>\n",
       "      <td>No</td>\n",
       "      <td>General</td>\n",
       "      <td>Male</td>\n",
       "      <td>No</td>\n",
       "      <td>5/13/1958</td>\n",
       "      <td>64</td>\n",
       "    </tr>\n",
       "    <tr>\n",
       "      <th>50</th>\n",
       "      <td>Kamait, Shri Dileshwar</td>\n",
       "      <td>Janata Dal (United)</td>\n",
       "      <td>Supaul</td>\n",
       "      <td>Bihar</td>\n",
       "      <td>No</td>\n",
       "      <td>General</td>\n",
       "      <td>Male</td>\n",
       "      <td>Yes</td>\n",
       "      <td>2/2/1946</td>\n",
       "      <td>76</td>\n",
       "    </tr>\n",
       "    <tr>\n",
       "      <th>51</th>\n",
       "      <td>Kumar, Shri Kaushalendra</td>\n",
       "      <td>Janata Dal (United)</td>\n",
       "      <td>Nalanda</td>\n",
       "      <td>Bihar</td>\n",
       "      <td>No</td>\n",
       "      <td>General</td>\n",
       "      <td>Male</td>\n",
       "      <td>No</td>\n",
       "      <td>1/13/1959</td>\n",
       "      <td>63</td>\n",
       "    </tr>\n",
       "    <tr>\n",
       "      <th>52</th>\n",
       "      <td>Kumar, Shri Santosh</td>\n",
       "      <td>Janata Dal (United)</td>\n",
       "      <td>Purnia</td>\n",
       "      <td>Bihar</td>\n",
       "      <td>No</td>\n",
       "      <td>General</td>\n",
       "      <td>Male</td>\n",
       "      <td>No</td>\n",
       "      <td>5/2/1976</td>\n",
       "      <td>46</td>\n",
       "    </tr>\n",
       "    <tr>\n",
       "      <th>53</th>\n",
       "      <td>Kumar, Shri Sunil</td>\n",
       "      <td>Janata Dal (United)</td>\n",
       "      <td>Valmiki Nagar</td>\n",
       "      <td>Bihar</td>\n",
       "      <td>No</td>\n",
       "      <td>General</td>\n",
       "      <td>Male</td>\n",
       "      <td>Yes</td>\n",
       "      <td>7/7/1984</td>\n",
       "      <td>38</td>\n",
       "    </tr>\n",
       "    <tr>\n",
       "      <th>54</th>\n",
       "      <td>Kumar, Shri Vijay</td>\n",
       "      <td>Janata Dal (United)</td>\n",
       "      <td>Gaya</td>\n",
       "      <td>Bihar</td>\n",
       "      <td>No</td>\n",
       "      <td>SC</td>\n",
       "      <td>Male</td>\n",
       "      <td>Yes</td>\n",
       "      <td>4/1/1970</td>\n",
       "      <td>52</td>\n",
       "    </tr>\n",
       "    <tr>\n",
       "      <th>55</th>\n",
       "      <td>Mandal, Shri Ajay Kumar</td>\n",
       "      <td>Janata Dal (United)</td>\n",
       "      <td>Bhagalpur</td>\n",
       "      <td>Bihar</td>\n",
       "      <td>No</td>\n",
       "      <td>General</td>\n",
       "      <td>Male</td>\n",
       "      <td>Yes</td>\n",
       "      <td>2/2/1971</td>\n",
       "      <td>51</td>\n",
       "    </tr>\n",
       "    <tr>\n",
       "      <th>56</th>\n",
       "      <td>Mandal, Shri Ramprit</td>\n",
       "      <td>Janata Dal (United)</td>\n",
       "      <td>Jhanjharpur</td>\n",
       "      <td>Bihar</td>\n",
       "      <td>No</td>\n",
       "      <td>General</td>\n",
       "      <td>Male</td>\n",
       "      <td>Yes</td>\n",
       "      <td>1/1/1956</td>\n",
       "      <td>66</td>\n",
       "    </tr>\n",
       "    <tr>\n",
       "      <th>57</th>\n",
       "      <td>Nishad, Shri Ajay</td>\n",
       "      <td>Bharatiya Janata Party</td>\n",
       "      <td>Muzaffarpur</td>\n",
       "      <td>Bihar</td>\n",
       "      <td>No</td>\n",
       "      <td>General</td>\n",
       "      <td>Male</td>\n",
       "      <td>No</td>\n",
       "      <td>2/10/1966</td>\n",
       "      <td>56</td>\n",
       "    </tr>\n",
       "    <tr>\n",
       "      <th>58</th>\n",
       "      <td>Paras, Shri Pashupati Kumar</td>\n",
       "      <td>Lok Jan Shakti Party</td>\n",
       "      <td>Hajipur</td>\n",
       "      <td>Bihar</td>\n",
       "      <td>No</td>\n",
       "      <td>SC</td>\n",
       "      <td>Male</td>\n",
       "      <td>Yes</td>\n",
       "      <td>12/7/1952</td>\n",
       "      <td>70</td>\n",
       "    </tr>\n",
       "    <tr>\n",
       "      <th>59</th>\n",
       "      <td>Paswan, Shri Chhedi</td>\n",
       "      <td>Bharatiya Janata Party</td>\n",
       "      <td>Sasaram</td>\n",
       "      <td>Bihar</td>\n",
       "      <td>No</td>\n",
       "      <td>SC</td>\n",
       "      <td>Male</td>\n",
       "      <td>No</td>\n",
       "      <td>4/2/1956</td>\n",
       "      <td>66</td>\n",
       "    </tr>\n",
       "    <tr>\n",
       "      <th>60</th>\n",
       "      <td>Paswan, Shri Chirag</td>\n",
       "      <td>Lok Jan Shakti Party</td>\n",
       "      <td>Jamui</td>\n",
       "      <td>Bihar</td>\n",
       "      <td>No</td>\n",
       "      <td>SC</td>\n",
       "      <td>Male</td>\n",
       "      <td>No</td>\n",
       "      <td>10/31/1982</td>\n",
       "      <td>40</td>\n",
       "    </tr>\n",
       "    <tr>\n",
       "      <th>61</th>\n",
       "      <td>Prasad, Shri Chandeshwar</td>\n",
       "      <td>Janata Dal (United)</td>\n",
       "      <td>Jahanabad</td>\n",
       "      <td>Bihar</td>\n",
       "      <td>No</td>\n",
       "      <td>General</td>\n",
       "      <td>Male</td>\n",
       "      <td>Yes</td>\n",
       "      <td>7/13/1951</td>\n",
       "      <td>71</td>\n",
       "    </tr>\n",
       "    <tr>\n",
       "      <th>62</th>\n",
       "      <td>Prasad, Shri Ravi Shankar</td>\n",
       "      <td>Bharatiya Janata Party</td>\n",
       "      <td>Patna Sahib</td>\n",
       "      <td>Bihar</td>\n",
       "      <td>No</td>\n",
       "      <td>General</td>\n",
       "      <td>Male</td>\n",
       "      <td>Yes</td>\n",
       "      <td>8/30/1954</td>\n",
       "      <td>68</td>\n",
       "    </tr>\n",
       "    <tr>\n",
       "      <th>63</th>\n",
       "      <td>Prince Raj, Shri</td>\n",
       "      <td>Lok Jan Shakti Party</td>\n",
       "      <td>Samastipur</td>\n",
       "      <td>Bihar</td>\n",
       "      <td>No</td>\n",
       "      <td>SC</td>\n",
       "      <td>Male</td>\n",
       "      <td>Yes</td>\n",
       "      <td>7/7/1989</td>\n",
       "      <td>33</td>\n",
       "    </tr>\n",
       "    <tr>\n",
       "      <th>64</th>\n",
       "      <td>Rai, Shri Nityanand</td>\n",
       "      <td>Bharatiya Janata Party</td>\n",
       "      <td>Ujiarpur</td>\n",
       "      <td>Bihar</td>\n",
       "      <td>No</td>\n",
       "      <td>General</td>\n",
       "      <td>Male</td>\n",
       "      <td>No</td>\n",
       "      <td>1/1/1966</td>\n",
       "      <td>56</td>\n",
       "    </tr>\n",
       "    <tr>\n",
       "      <th>65</th>\n",
       "      <td>Rudy, Shri Rajiv Pratap</td>\n",
       "      <td>Bharatiya Janata Party</td>\n",
       "      <td>Saran</td>\n",
       "      <td>Bihar</td>\n",
       "      <td>No</td>\n",
       "      <td>General</td>\n",
       "      <td>Male</td>\n",
       "      <td>No</td>\n",
       "      <td>3/30/1962</td>\n",
       "      <td>60</td>\n",
       "    </tr>\n",
       "    <tr>\n",
       "      <th>66</th>\n",
       "      <td>Sigriwal, Shri Janardan Singh</td>\n",
       "      <td>Bharatiya Janata Party</td>\n",
       "      <td>Maharajganj</td>\n",
       "      <td>Bihar</td>\n",
       "      <td>No</td>\n",
       "      <td>General</td>\n",
       "      <td>Male</td>\n",
       "      <td>No</td>\n",
       "      <td>2/1/1959</td>\n",
       "      <td>63</td>\n",
       "    </tr>\n",
       "    <tr>\n",
       "      <th>67</th>\n",
       "      <td>Singh, Shri Chandan</td>\n",
       "      <td>Lok Jan Shakti Party</td>\n",
       "      <td>Nawada</td>\n",
       "      <td>Bihar</td>\n",
       "      <td>No</td>\n",
       "      <td>General</td>\n",
       "      <td>Male</td>\n",
       "      <td>Yes</td>\n",
       "      <td>12/2/1985</td>\n",
       "      <td>37</td>\n",
       "    </tr>\n",
       "    <tr>\n",
       "      <th>68</th>\n",
       "      <td>Singh, Shri Giriraj</td>\n",
       "      <td>Bharatiya Janata Party</td>\n",
       "      <td>Begusarai</td>\n",
       "      <td>Bihar</td>\n",
       "      <td>No</td>\n",
       "      <td>General</td>\n",
       "      <td>Male</td>\n",
       "      <td>No</td>\n",
       "      <td>8/9/1952</td>\n",
       "      <td>70</td>\n",
       "    </tr>\n",
       "    <tr>\n",
       "      <th>69</th>\n",
       "      <td>Singh, Smt. Kavita</td>\n",
       "      <td>Janata Dal (United)</td>\n",
       "      <td>Siwan</td>\n",
       "      <td>Bihar</td>\n",
       "      <td>No</td>\n",
       "      <td>General</td>\n",
       "      <td>Female</td>\n",
       "      <td>Yes</td>\n",
       "      <td>10/2/1985</td>\n",
       "      <td>37</td>\n",
       "    </tr>\n",
       "    <tr>\n",
       "      <th>70</th>\n",
       "      <td>Singh, Shri Mahabali</td>\n",
       "      <td>Janata Dal (United)</td>\n",
       "      <td>Karakat</td>\n",
       "      <td>Bihar</td>\n",
       "      <td>No</td>\n",
       "      <td>General</td>\n",
       "      <td>Male</td>\n",
       "      <td>No</td>\n",
       "      <td>4/20/1955</td>\n",
       "      <td>67</td>\n",
       "    </tr>\n",
       "    <tr>\n",
       "      <th>71</th>\n",
       "      <td>Singh, Shri Pradeep Kumar</td>\n",
       "      <td>Bharatiya Janata Party</td>\n",
       "      <td>Araria</td>\n",
       "      <td>Bihar</td>\n",
       "      <td>No</td>\n",
       "      <td>General</td>\n",
       "      <td>Male</td>\n",
       "      <td>No</td>\n",
       "      <td>12/29/1964</td>\n",
       "      <td>58</td>\n",
       "    </tr>\n",
       "    <tr>\n",
       "      <th>72</th>\n",
       "      <td>Singh, Shri Radha Mohan</td>\n",
       "      <td>Bharatiya Janata Party</td>\n",
       "      <td>Purvi Champaran</td>\n",
       "      <td>Bihar</td>\n",
       "      <td>No</td>\n",
       "      <td>General</td>\n",
       "      <td>Male</td>\n",
       "      <td>No</td>\n",
       "      <td>1/9/1949</td>\n",
       "      <td>73</td>\n",
       "    </tr>\n",
       "    <tr>\n",
       "      <th>73</th>\n",
       "      <td>Singh, Shri Raj Kumar</td>\n",
       "      <td>Bharatiya Janata Party</td>\n",
       "      <td>Arrah</td>\n",
       "      <td>Bihar</td>\n",
       "      <td>No</td>\n",
       "      <td>General</td>\n",
       "      <td>Male</td>\n",
       "      <td>No</td>\n",
       "      <td>12/20/1952</td>\n",
       "      <td>70</td>\n",
       "    </tr>\n",
       "    <tr>\n",
       "      <th>74</th>\n",
       "      <td>Singh, Shri Rajiv Ranjan (Lalan)</td>\n",
       "      <td>Janata Dal (United)</td>\n",
       "      <td>Munger</td>\n",
       "      <td>Bihar</td>\n",
       "      <td>No</td>\n",
       "      <td>General</td>\n",
       "      <td>Male</td>\n",
       "      <td>No</td>\n",
       "      <td>1/24/1955</td>\n",
       "      <td>67</td>\n",
       "    </tr>\n",
       "    <tr>\n",
       "      <th>75</th>\n",
       "      <td>Singh, Shri Sushil Kumar</td>\n",
       "      <td>Bharatiya Janata Party</td>\n",
       "      <td>Aurangabad</td>\n",
       "      <td>Bihar</td>\n",
       "      <td>No</td>\n",
       "      <td>General</td>\n",
       "      <td>Male</td>\n",
       "      <td>No</td>\n",
       "      <td>6/27/1963</td>\n",
       "      <td>59</td>\n",
       "    </tr>\n",
       "    <tr>\n",
       "      <th>76</th>\n",
       "      <td>Suman, Dr. Alok Kumar</td>\n",
       "      <td>Janata Dal (United)</td>\n",
       "      <td>Gopalganj</td>\n",
       "      <td>Bihar</td>\n",
       "      <td>No</td>\n",
       "      <td>SC</td>\n",
       "      <td>Male</td>\n",
       "      <td>Yes</td>\n",
       "      <td>4/3/1957</td>\n",
       "      <td>65</td>\n",
       "    </tr>\n",
       "    <tr>\n",
       "      <th>77</th>\n",
       "      <td>Sunil Kumar Pintu, Shri</td>\n",
       "      <td>Janata Dal (United)</td>\n",
       "      <td>Sitamarhi</td>\n",
       "      <td>Bihar</td>\n",
       "      <td>No</td>\n",
       "      <td>General</td>\n",
       "      <td>Male</td>\n",
       "      <td>Yes</td>\n",
       "      <td>8/22/1961</td>\n",
       "      <td>61</td>\n",
       "    </tr>\n",
       "    <tr>\n",
       "      <th>78</th>\n",
       "      <td>Yadav, Shri Ashok Kumar</td>\n",
       "      <td>Bharatiya Janata Party</td>\n",
       "      <td>Madhubani</td>\n",
       "      <td>Bihar</td>\n",
       "      <td>No</td>\n",
       "      <td>General</td>\n",
       "      <td>Male</td>\n",
       "      <td>Yes</td>\n",
       "      <td>6/21/1970</td>\n",
       "      <td>52</td>\n",
       "    </tr>\n",
       "    <tr>\n",
       "      <th>79</th>\n",
       "      <td>Yadav, Shri Dinesh Chandra</td>\n",
       "      <td>Janata Dal (United)</td>\n",
       "      <td>Madhepura</td>\n",
       "      <td>Bihar</td>\n",
       "      <td>No</td>\n",
       "      <td>General</td>\n",
       "      <td>Male</td>\n",
       "      <td>No</td>\n",
       "      <td>1/7/1951</td>\n",
       "      <td>71</td>\n",
       "    </tr>\n",
       "    <tr>\n",
       "      <th>80</th>\n",
       "      <td>Yadav, Shri Giridhari</td>\n",
       "      <td>Janata Dal (United)</td>\n",
       "      <td>Banka</td>\n",
       "      <td>Bihar</td>\n",
       "      <td>No</td>\n",
       "      <td>General</td>\n",
       "      <td>Male</td>\n",
       "      <td>No</td>\n",
       "      <td>4/14/1961</td>\n",
       "      <td>61</td>\n",
       "    </tr>\n",
       "    <tr>\n",
       "      <th>81</th>\n",
       "      <td>Yadav, Shri Ram Kripal</td>\n",
       "      <td>Bharatiya Janata Party</td>\n",
       "      <td>Pataliputra</td>\n",
       "      <td>Bihar</td>\n",
       "      <td>No</td>\n",
       "      <td>General</td>\n",
       "      <td>Male</td>\n",
       "      <td>No</td>\n",
       "      <td>12/11/1957</td>\n",
       "      <td>65</td>\n",
       "    </tr>\n",
       "  </tbody>\n",
       "</table>\n",
       "</div>"
      ],
      "text/plain": [
       "                      Name of Member                Party Name  \\\n",
       "42       Choubey, Shri Ashwini Kumar    Bharatiya Janata Party   \n",
       "43                   Devi, Smt. Rama    Bharatiya Janata Party   \n",
       "44                  Devi, Smt. Veena      Lok Jan Shakti Party   \n",
       "45            Gopal Jee Thakur, Shri    Bharatiya Janata Party   \n",
       "46       Goswami, Shri Dulal Chandra       Janata Dal (United)   \n",
       "47               Jaiswal, Dr. Sanjay    Bharatiya Janata Party   \n",
       "48               Jawed, Dr. Mohammad  Indian National Congress   \n",
       "49     Kaiser, Choudhary Mehboob Ali      Lok Jan Shakti Party   \n",
       "50            Kamait, Shri Dileshwar       Janata Dal (United)   \n",
       "51          Kumar, Shri Kaushalendra       Janata Dal (United)   \n",
       "52               Kumar, Shri Santosh       Janata Dal (United)   \n",
       "53                 Kumar, Shri Sunil       Janata Dal (United)   \n",
       "54                 Kumar, Shri Vijay       Janata Dal (United)   \n",
       "55           Mandal, Shri Ajay Kumar       Janata Dal (United)   \n",
       "56              Mandal, Shri Ramprit       Janata Dal (United)   \n",
       "57                 Nishad, Shri Ajay    Bharatiya Janata Party   \n",
       "58       Paras, Shri Pashupati Kumar      Lok Jan Shakti Party   \n",
       "59               Paswan, Shri Chhedi    Bharatiya Janata Party   \n",
       "60               Paswan, Shri Chirag      Lok Jan Shakti Party   \n",
       "61          Prasad, Shri Chandeshwar       Janata Dal (United)   \n",
       "62         Prasad, Shri Ravi Shankar    Bharatiya Janata Party   \n",
       "63                  Prince Raj, Shri      Lok Jan Shakti Party   \n",
       "64               Rai, Shri Nityanand    Bharatiya Janata Party   \n",
       "65           Rudy, Shri Rajiv Pratap    Bharatiya Janata Party   \n",
       "66     Sigriwal, Shri Janardan Singh    Bharatiya Janata Party   \n",
       "67               Singh, Shri Chandan      Lok Jan Shakti Party   \n",
       "68               Singh, Shri Giriraj    Bharatiya Janata Party   \n",
       "69                Singh, Smt. Kavita       Janata Dal (United)   \n",
       "70              Singh, Shri Mahabali       Janata Dal (United)   \n",
       "71         Singh, Shri Pradeep Kumar    Bharatiya Janata Party   \n",
       "72           Singh, Shri Radha Mohan    Bharatiya Janata Party   \n",
       "73             Singh, Shri Raj Kumar    Bharatiya Janata Party   \n",
       "74  Singh, Shri Rajiv Ranjan (Lalan)       Janata Dal (United)   \n",
       "75          Singh, Shri Sushil Kumar    Bharatiya Janata Party   \n",
       "76             Suman, Dr. Alok Kumar       Janata Dal (United)   \n",
       "77           Sunil Kumar Pintu, Shri       Janata Dal (United)   \n",
       "78           Yadav, Shri Ashok Kumar    Bharatiya Janata Party   \n",
       "79        Yadav, Shri Dinesh Chandra       Janata Dal (United)   \n",
       "80             Yadav, Shri Giridhari       Janata Dal (United)   \n",
       "81            Yadav, Shri Ram Kripal    Bharatiya Janata Party   \n",
       "\n",
       "         Constituency  State  UT Category  Gender First time         DOB  \\\n",
       "42              Buxar  Bihar  No  General    Male         No    2/1/1953   \n",
       "43            Sheohar  Bihar  No  General  Female         No    5/5/1949   \n",
       "44           Vaishali  Bihar  No  General  Female        Yes   4/22/1967   \n",
       "45          Darbhanga  Bihar  No  General    Male        Yes  10/15/1969   \n",
       "46            Katihar  Bihar  No  General    Male        Yes   8/10/1967   \n",
       "47  Paschim Champaran  Bihar  No  General    Male         No  11/29/1965   \n",
       "48         Kishanganj  Bihar  No  General    Male        Yes   6/17/1963   \n",
       "49           Khagaria  Bihar  No  General    Male         No   5/13/1958   \n",
       "50             Supaul  Bihar  No  General    Male        Yes    2/2/1946   \n",
       "51            Nalanda  Bihar  No  General    Male         No   1/13/1959   \n",
       "52             Purnia  Bihar  No  General    Male         No    5/2/1976   \n",
       "53      Valmiki Nagar  Bihar  No  General    Male        Yes    7/7/1984   \n",
       "54               Gaya  Bihar  No       SC    Male        Yes    4/1/1970   \n",
       "55          Bhagalpur  Bihar  No  General    Male        Yes    2/2/1971   \n",
       "56        Jhanjharpur  Bihar  No  General    Male        Yes    1/1/1956   \n",
       "57        Muzaffarpur  Bihar  No  General    Male         No   2/10/1966   \n",
       "58            Hajipur  Bihar  No       SC    Male        Yes   12/7/1952   \n",
       "59            Sasaram  Bihar  No       SC    Male         No    4/2/1956   \n",
       "60              Jamui  Bihar  No       SC    Male         No  10/31/1982   \n",
       "61          Jahanabad  Bihar  No  General    Male        Yes   7/13/1951   \n",
       "62        Patna Sahib  Bihar  No  General    Male        Yes   8/30/1954   \n",
       "63         Samastipur  Bihar  No       SC    Male        Yes    7/7/1989   \n",
       "64           Ujiarpur  Bihar  No  General    Male         No    1/1/1966   \n",
       "65              Saran  Bihar  No  General    Male         No   3/30/1962   \n",
       "66        Maharajganj  Bihar  No  General    Male         No    2/1/1959   \n",
       "67             Nawada  Bihar  No  General    Male        Yes   12/2/1985   \n",
       "68          Begusarai  Bihar  No  General    Male         No    8/9/1952   \n",
       "69              Siwan  Bihar  No  General  Female        Yes   10/2/1985   \n",
       "70            Karakat  Bihar  No  General    Male         No   4/20/1955   \n",
       "71             Araria  Bihar  No  General    Male         No  12/29/1964   \n",
       "72    Purvi Champaran  Bihar  No  General    Male         No    1/9/1949   \n",
       "73              Arrah  Bihar  No  General    Male         No  12/20/1952   \n",
       "74             Munger  Bihar  No  General    Male         No   1/24/1955   \n",
       "75         Aurangabad  Bihar  No  General    Male         No   6/27/1963   \n",
       "76          Gopalganj  Bihar  No       SC    Male        Yes    4/3/1957   \n",
       "77          Sitamarhi  Bihar  No  General    Male        Yes   8/22/1961   \n",
       "78          Madhubani  Bihar  No  General    Male        Yes   6/21/1970   \n",
       "79          Madhepura  Bihar  No  General    Male         No    1/7/1951   \n",
       "80              Banka  Bihar  No  General    Male         No   4/14/1961   \n",
       "81        Pataliputra  Bihar  No  General    Male         No  12/11/1957   \n",
       "\n",
       "    Age of Member  \n",
       "42             69  \n",
       "43             73  \n",
       "44             55  \n",
       "45             53  \n",
       "46             55  \n",
       "47             57  \n",
       "48             59  \n",
       "49             64  \n",
       "50             76  \n",
       "51             63  \n",
       "52             46  \n",
       "53             38  \n",
       "54             52  \n",
       "55             51  \n",
       "56             66  \n",
       "57             56  \n",
       "58             70  \n",
       "59             66  \n",
       "60             40  \n",
       "61             71  \n",
       "62             68  \n",
       "63             33  \n",
       "64             56  \n",
       "65             60  \n",
       "66             63  \n",
       "67             37  \n",
       "68             70  \n",
       "69             37  \n",
       "70             67  \n",
       "71             58  \n",
       "72             73  \n",
       "73             70  \n",
       "74             67  \n",
       "75             59  \n",
       "76             65  \n",
       "77             61  \n",
       "78             52  \n",
       "79             71  \n",
       "80             61  \n",
       "81             65  "
      ]
     },
     "execution_count": 193,
     "metadata": {},
     "output_type": "execute_result"
    }
   ],
   "source": [
    "df[df['State']=='Bihar']"
   ]
  },
  {
   "cell_type": "code",
   "execution_count": 213,
   "id": "67a54164",
   "metadata": {},
   "outputs": [],
   "source": [
    "df1 = df[df['UT']=='No']"
   ]
  },
  {
   "cell_type": "code",
   "execution_count": 215,
   "id": "fd1c3c63",
   "metadata": {},
   "outputs": [
    {
     "data": {
      "text/html": [
       "<div>\n",
       "<style scoped>\n",
       "    .dataframe tbody tr th:only-of-type {\n",
       "        vertical-align: middle;\n",
       "    }\n",
       "\n",
       "    .dataframe tbody tr th {\n",
       "        vertical-align: top;\n",
       "    }\n",
       "\n",
       "    .dataframe thead th {\n",
       "        text-align: right;\n",
       "    }\n",
       "</style>\n",
       "<table border=\"1\" class=\"dataframe\">\n",
       "  <thead>\n",
       "    <tr style=\"text-align: right;\">\n",
       "      <th></th>\n",
       "      <th>Name of Member</th>\n",
       "      <th>Party Name</th>\n",
       "      <th>Constituency</th>\n",
       "      <th>State</th>\n",
       "      <th>UT</th>\n",
       "      <th>Category</th>\n",
       "      <th>Gender</th>\n",
       "      <th>First time</th>\n",
       "      <th>DOB</th>\n",
       "      <th>Age of Member</th>\n",
       "    </tr>\n",
       "  </thead>\n",
       "  <tbody>\n",
       "    <tr>\n",
       "      <th>1</th>\n",
       "      <td>Beesetti , Dr. Venkata Satyavathi</td>\n",
       "      <td>Yuvajana Sramika Rythu Congress Party</td>\n",
       "      <td>Anakapalle</td>\n",
       "      <td>Andhra Pradesh</td>\n",
       "      <td>No</td>\n",
       "      <td>General</td>\n",
       "      <td>Female</td>\n",
       "      <td>Yes</td>\n",
       "      <td>4/28/1966</td>\n",
       "      <td>56</td>\n",
       "    </tr>\n",
       "    <tr>\n",
       "      <th>2</th>\n",
       "      <td>Bellana, Shri Chandra Sekhar</td>\n",
       "      <td>Yuvajana Sramika Rythu Congress Party</td>\n",
       "      <td>Vizianagaram</td>\n",
       "      <td>Andhra Pradesh</td>\n",
       "      <td>No</td>\n",
       "      <td>General</td>\n",
       "      <td>Male</td>\n",
       "      <td>Yes</td>\n",
       "      <td>11/8/1961</td>\n",
       "      <td>61</td>\n",
       "    </tr>\n",
       "  </tbody>\n",
       "</table>\n",
       "</div>"
      ],
      "text/plain": [
       "                      Name of Member                             Party Name  \\\n",
       "1  Beesetti , Dr. Venkata Satyavathi  Yuvajana Sramika Rythu Congress Party   \n",
       "2       Bellana, Shri Chandra Sekhar  Yuvajana Sramika Rythu Congress Party   \n",
       "\n",
       "   Constituency           State  UT Category  Gender First time        DOB  \\\n",
       "1    Anakapalle  Andhra Pradesh  No  General  Female        Yes  4/28/1966   \n",
       "2  Vizianagaram  Andhra Pradesh  No  General    Male        Yes  11/8/1961   \n",
       "\n",
       "   Age of Member  \n",
       "1             56  \n",
       "2             61  "
      ]
     },
     "execution_count": 215,
     "metadata": {},
     "output_type": "execute_result"
    }
   ],
   "source": [
    "df1.head(2)"
   ]
  },
  {
   "cell_type": "code",
   "execution_count": 221,
   "id": "1221fb9b",
   "metadata": {},
   "outputs": [],
   "source": [
    "def top_3(df,state='Overall'):\n",
    "    df1 = df[df['UT']=='No']\n",
    "    if state != 'Overall':\n",
    "        return df1[df1['State']==state]['Party Name'].value_counts().reset_index().rename(columns={'index':'Party Name','Party Name':'No.of MPs'}).head(3)\n",
    "    else:\n",
    "        return df1['Party Name'].value_counts().reset_index().rename(columns={'index':'Party Name','Party Name':'No.of MPs'}).head(3)\n",
    "        \n",
    "    "
   ]
  },
  {
   "cell_type": "code",
   "execution_count": 226,
   "id": "0798387c",
   "metadata": {},
   "outputs": [],
   "source": [
    "tab_1 = df1['Party Name'].value_counts().reset_index().rename(columns={'index':'Party Name','Party Name':'No.of MPs'})"
   ]
  },
  {
   "cell_type": "code",
   "execution_count": 227,
   "id": "5b443088",
   "metadata": {},
   "outputs": [
    {
     "data": {
      "text/html": [
       "<div>\n",
       "<style scoped>\n",
       "    .dataframe tbody tr th:only-of-type {\n",
       "        vertical-align: middle;\n",
       "    }\n",
       "\n",
       "    .dataframe tbody tr th {\n",
       "        vertical-align: top;\n",
       "    }\n",
       "\n",
       "    .dataframe thead th {\n",
       "        text-align: right;\n",
       "    }\n",
       "</style>\n",
       "<table border=\"1\" class=\"dataframe\">\n",
       "  <thead>\n",
       "    <tr style=\"text-align: right;\">\n",
       "      <th></th>\n",
       "      <th>Party Name</th>\n",
       "      <th>No.of MPs</th>\n",
       "    </tr>\n",
       "  </thead>\n",
       "  <tbody>\n",
       "    <tr>\n",
       "      <th>0</th>\n",
       "      <td>Bharatiya Janata Party</td>\n",
       "      <td>292</td>\n",
       "    </tr>\n",
       "    <tr>\n",
       "      <th>1</th>\n",
       "      <td>Indian National Congress</td>\n",
       "      <td>50</td>\n",
       "    </tr>\n",
       "    <tr>\n",
       "      <th>2</th>\n",
       "      <td>Dravida Munnetra Kazhagam</td>\n",
       "      <td>24</td>\n",
       "    </tr>\n",
       "    <tr>\n",
       "      <th>3</th>\n",
       "      <td>Yuvajana Sramika Rythu Congress Party</td>\n",
       "      <td>22</td>\n",
       "    </tr>\n",
       "    <tr>\n",
       "      <th>4</th>\n",
       "      <td>All India Trinamool Congress</td>\n",
       "      <td>22</td>\n",
       "    </tr>\n",
       "    <tr>\n",
       "      <th>5</th>\n",
       "      <td>Shiv Sena</td>\n",
       "      <td>18</td>\n",
       "    </tr>\n",
       "    <tr>\n",
       "      <th>6</th>\n",
       "      <td>Janata Dal (United)</td>\n",
       "      <td>16</td>\n",
       "    </tr>\n",
       "    <tr>\n",
       "      <th>7</th>\n",
       "      <td>Biju Janata Dal</td>\n",
       "      <td>12</td>\n",
       "    </tr>\n",
       "    <tr>\n",
       "      <th>8</th>\n",
       "      <td>Bahujan Samaj Party</td>\n",
       "      <td>10</td>\n",
       "    </tr>\n",
       "    <tr>\n",
       "      <th>9</th>\n",
       "      <td>Telangana Rashtra Samithi</td>\n",
       "      <td>9</td>\n",
       "    </tr>\n",
       "    <tr>\n",
       "      <th>10</th>\n",
       "      <td>Lok Jan Shakti Party</td>\n",
       "      <td>6</td>\n",
       "    </tr>\n",
       "    <tr>\n",
       "      <th>11</th>\n",
       "      <td>Samajwadi Party</td>\n",
       "      <td>5</td>\n",
       "    </tr>\n",
       "    <tr>\n",
       "      <th>12</th>\n",
       "      <td>Nationalist Congress Party</td>\n",
       "      <td>4</td>\n",
       "    </tr>\n",
       "    <tr>\n",
       "      <th>13</th>\n",
       "      <td>Jammu and Kashmir National Conference</td>\n",
       "      <td>3</td>\n",
       "    </tr>\n",
       "    <tr>\n",
       "      <th>14</th>\n",
       "      <td>Indian Union Muslim League</td>\n",
       "      <td>3</td>\n",
       "    </tr>\n",
       "    <tr>\n",
       "      <th>15</th>\n",
       "      <td>Independent</td>\n",
       "      <td>3</td>\n",
       "    </tr>\n",
       "    <tr>\n",
       "      <th>16</th>\n",
       "      <td>Telugu Desam Party</td>\n",
       "      <td>3</td>\n",
       "    </tr>\n",
       "    <tr>\n",
       "      <th>17</th>\n",
       "      <td>Communist Party of India (Marxist)</td>\n",
       "      <td>3</td>\n",
       "    </tr>\n",
       "    <tr>\n",
       "      <th>18</th>\n",
       "      <td>All India Majlis-E-Ittehadul Muslimeen</td>\n",
       "      <td>2</td>\n",
       "    </tr>\n",
       "    <tr>\n",
       "      <th>19</th>\n",
       "      <td>Apna Dal</td>\n",
       "      <td>2</td>\n",
       "    </tr>\n",
       "    <tr>\n",
       "      <th>20</th>\n",
       "      <td>Shiromani Akali Dal</td>\n",
       "      <td>2</td>\n",
       "    </tr>\n",
       "    <tr>\n",
       "      <th>21</th>\n",
       "      <td>Communist Party of India</td>\n",
       "      <td>2</td>\n",
       "    </tr>\n",
       "    <tr>\n",
       "      <th>22</th>\n",
       "      <td>Naga Peoples Front</td>\n",
       "      <td>1</td>\n",
       "    </tr>\n",
       "    <tr>\n",
       "      <th>23</th>\n",
       "      <td>Viduthalai Chiruthaigal Katchi</td>\n",
       "      <td>1</td>\n",
       "    </tr>\n",
       "    <tr>\n",
       "      <th>24</th>\n",
       "      <td>AJSU Party</td>\n",
       "      <td>1</td>\n",
       "    </tr>\n",
       "    <tr>\n",
       "      <th>25</th>\n",
       "      <td>Sikkim Krantikari Morcha</td>\n",
       "      <td>1</td>\n",
       "    </tr>\n",
       "    <tr>\n",
       "      <th>26</th>\n",
       "      <td>Janata Dal (Secular)</td>\n",
       "      <td>1</td>\n",
       "    </tr>\n",
       "    <tr>\n",
       "      <th>27</th>\n",
       "      <td>Jharkhand Mukti Morcha</td>\n",
       "      <td>1</td>\n",
       "    </tr>\n",
       "    <tr>\n",
       "      <th>28</th>\n",
       "      <td>Nationalist Democratic Progressive Party</td>\n",
       "      <td>1</td>\n",
       "    </tr>\n",
       "    <tr>\n",
       "      <th>29</th>\n",
       "      <td>All India United Democratic Front</td>\n",
       "      <td>1</td>\n",
       "    </tr>\n",
       "    <tr>\n",
       "      <th>30</th>\n",
       "      <td>Kerala Congress (M)</td>\n",
       "      <td>1</td>\n",
       "    </tr>\n",
       "    <tr>\n",
       "      <th>31</th>\n",
       "      <td>Rashtriya Loktantrik Party</td>\n",
       "      <td>1</td>\n",
       "    </tr>\n",
       "    <tr>\n",
       "      <th>32</th>\n",
       "      <td>Aam Aadmi Party</td>\n",
       "      <td>1</td>\n",
       "    </tr>\n",
       "    <tr>\n",
       "      <th>33</th>\n",
       "      <td>National People's Party</td>\n",
       "      <td>1</td>\n",
       "    </tr>\n",
       "    <tr>\n",
       "      <th>34</th>\n",
       "      <td>Revolutionary Socialist Party</td>\n",
       "      <td>1</td>\n",
       "    </tr>\n",
       "    <tr>\n",
       "      <th>35</th>\n",
       "      <td>Mizo National Front</td>\n",
       "      <td>1</td>\n",
       "    </tr>\n",
       "    <tr>\n",
       "      <th>36</th>\n",
       "      <td>All India Anna Dravida Munnetra Kazhagam</td>\n",
       "      <td>1</td>\n",
       "    </tr>\n",
       "  </tbody>\n",
       "</table>\n",
       "</div>"
      ],
      "text/plain": [
       "                                  Party Name  No.of MPs\n",
       "0                     Bharatiya Janata Party        292\n",
       "1                   Indian National Congress         50\n",
       "2                  Dravida Munnetra Kazhagam         24\n",
       "3      Yuvajana Sramika Rythu Congress Party         22\n",
       "4               All India Trinamool Congress         22\n",
       "5                                  Shiv Sena         18\n",
       "6                        Janata Dal (United)         16\n",
       "7                            Biju Janata Dal         12\n",
       "8                        Bahujan Samaj Party         10\n",
       "9                  Telangana Rashtra Samithi          9\n",
       "10                      Lok Jan Shakti Party          6\n",
       "11                           Samajwadi Party          5\n",
       "12                Nationalist Congress Party          4\n",
       "13     Jammu and Kashmir National Conference          3\n",
       "14                Indian Union Muslim League          3\n",
       "15                               Independent          3\n",
       "16                        Telugu Desam Party          3\n",
       "17        Communist Party of India (Marxist)          3\n",
       "18    All India Majlis-E-Ittehadul Muslimeen          2\n",
       "19                                  Apna Dal          2\n",
       "20                       Shiromani Akali Dal          2\n",
       "21                  Communist Party of India          2\n",
       "22                        Naga Peoples Front          1\n",
       "23            Viduthalai Chiruthaigal Katchi          1\n",
       "24                                AJSU Party          1\n",
       "25                  Sikkim Krantikari Morcha          1\n",
       "26                      Janata Dal (Secular)          1\n",
       "27                    Jharkhand Mukti Morcha          1\n",
       "28  Nationalist Democratic Progressive Party          1\n",
       "29         All India United Democratic Front          1\n",
       "30                       Kerala Congress (M)          1\n",
       "31                Rashtriya Loktantrik Party          1\n",
       "32                           Aam Aadmi Party          1\n",
       "33                   National People's Party          1\n",
       "34             Revolutionary Socialist Party          1\n",
       "35                       Mizo National Front          1\n",
       "36  All India Anna Dravida Munnetra Kazhagam          1"
      ]
     },
     "execution_count": 227,
     "metadata": {},
     "output_type": "execute_result"
    }
   ],
   "source": [
    "tab_1"
   ]
  },
  {
   "cell_type": "code",
   "execution_count": 229,
   "id": "5ba71cdf",
   "metadata": {},
   "outputs": [
    {
     "data": {
      "application/vnd.plotly.v1+json": {
       "config": {
        "plotlyServerURL": "https://plot.ly"
       },
       "data": [
        {
         "alignmentgroup": "True",
         "hovertemplate": "Party Name=%{x}<br>No.of MPs=%{y}<extra></extra>",
         "legendgroup": "",
         "marker": {
          "color": "#636efa",
          "pattern": {
           "shape": ""
          }
         },
         "name": "",
         "offsetgroup": "",
         "orientation": "v",
         "showlegend": false,
         "textposition": "auto",
         "type": "bar",
         "x": [
          "Bharatiya Janata Party",
          "Indian National Congress",
          "Dravida Munnetra Kazhagam",
          "Yuvajana Sramika Rythu Congress Party",
          "All India Trinamool Congress",
          "Shiv Sena",
          "Janata Dal (United)",
          "Biju Janata Dal",
          "Bahujan Samaj Party",
          "Telangana Rashtra Samithi",
          "Lok Jan Shakti Party",
          "Samajwadi Party",
          "Nationalist Congress Party",
          "Jammu and Kashmir National Conference",
          "Indian Union Muslim League"
         ],
         "xaxis": "x",
         "y": [
          292,
          50,
          24,
          22,
          22,
          18,
          16,
          12,
          10,
          9,
          6,
          5,
          4,
          3,
          3
         ],
         "yaxis": "y"
        }
       ],
       "layout": {
        "barmode": "relative",
        "legend": {
         "tracegroupgap": 0
        },
        "margin": {
         "t": 60
        },
        "template": {
         "data": {
          "bar": [
           {
            "error_x": {
             "color": "#2a3f5f"
            },
            "error_y": {
             "color": "#2a3f5f"
            },
            "marker": {
             "line": {
              "color": "#E5ECF6",
              "width": 0.5
             },
             "pattern": {
              "fillmode": "overlay",
              "size": 10,
              "solidity": 0.2
             }
            },
            "type": "bar"
           }
          ],
          "barpolar": [
           {
            "marker": {
             "line": {
              "color": "#E5ECF6",
              "width": 0.5
             },
             "pattern": {
              "fillmode": "overlay",
              "size": 10,
              "solidity": 0.2
             }
            },
            "type": "barpolar"
           }
          ],
          "carpet": [
           {
            "aaxis": {
             "endlinecolor": "#2a3f5f",
             "gridcolor": "white",
             "linecolor": "white",
             "minorgridcolor": "white",
             "startlinecolor": "#2a3f5f"
            },
            "baxis": {
             "endlinecolor": "#2a3f5f",
             "gridcolor": "white",
             "linecolor": "white",
             "minorgridcolor": "white",
             "startlinecolor": "#2a3f5f"
            },
            "type": "carpet"
           }
          ],
          "choropleth": [
           {
            "colorbar": {
             "outlinewidth": 0,
             "ticks": ""
            },
            "type": "choropleth"
           }
          ],
          "contour": [
           {
            "colorbar": {
             "outlinewidth": 0,
             "ticks": ""
            },
            "colorscale": [
             [
              0,
              "#0d0887"
             ],
             [
              0.1111111111111111,
              "#46039f"
             ],
             [
              0.2222222222222222,
              "#7201a8"
             ],
             [
              0.3333333333333333,
              "#9c179e"
             ],
             [
              0.4444444444444444,
              "#bd3786"
             ],
             [
              0.5555555555555556,
              "#d8576b"
             ],
             [
              0.6666666666666666,
              "#ed7953"
             ],
             [
              0.7777777777777778,
              "#fb9f3a"
             ],
             [
              0.8888888888888888,
              "#fdca26"
             ],
             [
              1,
              "#f0f921"
             ]
            ],
            "type": "contour"
           }
          ],
          "contourcarpet": [
           {
            "colorbar": {
             "outlinewidth": 0,
             "ticks": ""
            },
            "type": "contourcarpet"
           }
          ],
          "heatmap": [
           {
            "colorbar": {
             "outlinewidth": 0,
             "ticks": ""
            },
            "colorscale": [
             [
              0,
              "#0d0887"
             ],
             [
              0.1111111111111111,
              "#46039f"
             ],
             [
              0.2222222222222222,
              "#7201a8"
             ],
             [
              0.3333333333333333,
              "#9c179e"
             ],
             [
              0.4444444444444444,
              "#bd3786"
             ],
             [
              0.5555555555555556,
              "#d8576b"
             ],
             [
              0.6666666666666666,
              "#ed7953"
             ],
             [
              0.7777777777777778,
              "#fb9f3a"
             ],
             [
              0.8888888888888888,
              "#fdca26"
             ],
             [
              1,
              "#f0f921"
             ]
            ],
            "type": "heatmap"
           }
          ],
          "heatmapgl": [
           {
            "colorbar": {
             "outlinewidth": 0,
             "ticks": ""
            },
            "colorscale": [
             [
              0,
              "#0d0887"
             ],
             [
              0.1111111111111111,
              "#46039f"
             ],
             [
              0.2222222222222222,
              "#7201a8"
             ],
             [
              0.3333333333333333,
              "#9c179e"
             ],
             [
              0.4444444444444444,
              "#bd3786"
             ],
             [
              0.5555555555555556,
              "#d8576b"
             ],
             [
              0.6666666666666666,
              "#ed7953"
             ],
             [
              0.7777777777777778,
              "#fb9f3a"
             ],
             [
              0.8888888888888888,
              "#fdca26"
             ],
             [
              1,
              "#f0f921"
             ]
            ],
            "type": "heatmapgl"
           }
          ],
          "histogram": [
           {
            "marker": {
             "pattern": {
              "fillmode": "overlay",
              "size": 10,
              "solidity": 0.2
             }
            },
            "type": "histogram"
           }
          ],
          "histogram2d": [
           {
            "colorbar": {
             "outlinewidth": 0,
             "ticks": ""
            },
            "colorscale": [
             [
              0,
              "#0d0887"
             ],
             [
              0.1111111111111111,
              "#46039f"
             ],
             [
              0.2222222222222222,
              "#7201a8"
             ],
             [
              0.3333333333333333,
              "#9c179e"
             ],
             [
              0.4444444444444444,
              "#bd3786"
             ],
             [
              0.5555555555555556,
              "#d8576b"
             ],
             [
              0.6666666666666666,
              "#ed7953"
             ],
             [
              0.7777777777777778,
              "#fb9f3a"
             ],
             [
              0.8888888888888888,
              "#fdca26"
             ],
             [
              1,
              "#f0f921"
             ]
            ],
            "type": "histogram2d"
           }
          ],
          "histogram2dcontour": [
           {
            "colorbar": {
             "outlinewidth": 0,
             "ticks": ""
            },
            "colorscale": [
             [
              0,
              "#0d0887"
             ],
             [
              0.1111111111111111,
              "#46039f"
             ],
             [
              0.2222222222222222,
              "#7201a8"
             ],
             [
              0.3333333333333333,
              "#9c179e"
             ],
             [
              0.4444444444444444,
              "#bd3786"
             ],
             [
              0.5555555555555556,
              "#d8576b"
             ],
             [
              0.6666666666666666,
              "#ed7953"
             ],
             [
              0.7777777777777778,
              "#fb9f3a"
             ],
             [
              0.8888888888888888,
              "#fdca26"
             ],
             [
              1,
              "#f0f921"
             ]
            ],
            "type": "histogram2dcontour"
           }
          ],
          "mesh3d": [
           {
            "colorbar": {
             "outlinewidth": 0,
             "ticks": ""
            },
            "type": "mesh3d"
           }
          ],
          "parcoords": [
           {
            "line": {
             "colorbar": {
              "outlinewidth": 0,
              "ticks": ""
             }
            },
            "type": "parcoords"
           }
          ],
          "pie": [
           {
            "automargin": true,
            "type": "pie"
           }
          ],
          "scatter": [
           {
            "fillpattern": {
             "fillmode": "overlay",
             "size": 10,
             "solidity": 0.2
            },
            "type": "scatter"
           }
          ],
          "scatter3d": [
           {
            "line": {
             "colorbar": {
              "outlinewidth": 0,
              "ticks": ""
             }
            },
            "marker": {
             "colorbar": {
              "outlinewidth": 0,
              "ticks": ""
             }
            },
            "type": "scatter3d"
           }
          ],
          "scattercarpet": [
           {
            "marker": {
             "colorbar": {
              "outlinewidth": 0,
              "ticks": ""
             }
            },
            "type": "scattercarpet"
           }
          ],
          "scattergeo": [
           {
            "marker": {
             "colorbar": {
              "outlinewidth": 0,
              "ticks": ""
             }
            },
            "type": "scattergeo"
           }
          ],
          "scattergl": [
           {
            "marker": {
             "colorbar": {
              "outlinewidth": 0,
              "ticks": ""
             }
            },
            "type": "scattergl"
           }
          ],
          "scattermapbox": [
           {
            "marker": {
             "colorbar": {
              "outlinewidth": 0,
              "ticks": ""
             }
            },
            "type": "scattermapbox"
           }
          ],
          "scatterpolar": [
           {
            "marker": {
             "colorbar": {
              "outlinewidth": 0,
              "ticks": ""
             }
            },
            "type": "scatterpolar"
           }
          ],
          "scatterpolargl": [
           {
            "marker": {
             "colorbar": {
              "outlinewidth": 0,
              "ticks": ""
             }
            },
            "type": "scatterpolargl"
           }
          ],
          "scatterternary": [
           {
            "marker": {
             "colorbar": {
              "outlinewidth": 0,
              "ticks": ""
             }
            },
            "type": "scatterternary"
           }
          ],
          "surface": [
           {
            "colorbar": {
             "outlinewidth": 0,
             "ticks": ""
            },
            "colorscale": [
             [
              0,
              "#0d0887"
             ],
             [
              0.1111111111111111,
              "#46039f"
             ],
             [
              0.2222222222222222,
              "#7201a8"
             ],
             [
              0.3333333333333333,
              "#9c179e"
             ],
             [
              0.4444444444444444,
              "#bd3786"
             ],
             [
              0.5555555555555556,
              "#d8576b"
             ],
             [
              0.6666666666666666,
              "#ed7953"
             ],
             [
              0.7777777777777778,
              "#fb9f3a"
             ],
             [
              0.8888888888888888,
              "#fdca26"
             ],
             [
              1,
              "#f0f921"
             ]
            ],
            "type": "surface"
           }
          ],
          "table": [
           {
            "cells": {
             "fill": {
              "color": "#EBF0F8"
             },
             "line": {
              "color": "white"
             }
            },
            "header": {
             "fill": {
              "color": "#C8D4E3"
             },
             "line": {
              "color": "white"
             }
            },
            "type": "table"
           }
          ]
         },
         "layout": {
          "annotationdefaults": {
           "arrowcolor": "#2a3f5f",
           "arrowhead": 0,
           "arrowwidth": 1
          },
          "autotypenumbers": "strict",
          "coloraxis": {
           "colorbar": {
            "outlinewidth": 0,
            "ticks": ""
           }
          },
          "colorscale": {
           "diverging": [
            [
             0,
             "#8e0152"
            ],
            [
             0.1,
             "#c51b7d"
            ],
            [
             0.2,
             "#de77ae"
            ],
            [
             0.3,
             "#f1b6da"
            ],
            [
             0.4,
             "#fde0ef"
            ],
            [
             0.5,
             "#f7f7f7"
            ],
            [
             0.6,
             "#e6f5d0"
            ],
            [
             0.7,
             "#b8e186"
            ],
            [
             0.8,
             "#7fbc41"
            ],
            [
             0.9,
             "#4d9221"
            ],
            [
             1,
             "#276419"
            ]
           ],
           "sequential": [
            [
             0,
             "#0d0887"
            ],
            [
             0.1111111111111111,
             "#46039f"
            ],
            [
             0.2222222222222222,
             "#7201a8"
            ],
            [
             0.3333333333333333,
             "#9c179e"
            ],
            [
             0.4444444444444444,
             "#bd3786"
            ],
            [
             0.5555555555555556,
             "#d8576b"
            ],
            [
             0.6666666666666666,
             "#ed7953"
            ],
            [
             0.7777777777777778,
             "#fb9f3a"
            ],
            [
             0.8888888888888888,
             "#fdca26"
            ],
            [
             1,
             "#f0f921"
            ]
           ],
           "sequentialminus": [
            [
             0,
             "#0d0887"
            ],
            [
             0.1111111111111111,
             "#46039f"
            ],
            [
             0.2222222222222222,
             "#7201a8"
            ],
            [
             0.3333333333333333,
             "#9c179e"
            ],
            [
             0.4444444444444444,
             "#bd3786"
            ],
            [
             0.5555555555555556,
             "#d8576b"
            ],
            [
             0.6666666666666666,
             "#ed7953"
            ],
            [
             0.7777777777777778,
             "#fb9f3a"
            ],
            [
             0.8888888888888888,
             "#fdca26"
            ],
            [
             1,
             "#f0f921"
            ]
           ]
          },
          "colorway": [
           "#636efa",
           "#EF553B",
           "#00cc96",
           "#ab63fa",
           "#FFA15A",
           "#19d3f3",
           "#FF6692",
           "#B6E880",
           "#FF97FF",
           "#FECB52"
          ],
          "font": {
           "color": "#2a3f5f"
          },
          "geo": {
           "bgcolor": "white",
           "lakecolor": "white",
           "landcolor": "#E5ECF6",
           "showlakes": true,
           "showland": true,
           "subunitcolor": "white"
          },
          "hoverlabel": {
           "align": "left"
          },
          "hovermode": "closest",
          "mapbox": {
           "style": "light"
          },
          "paper_bgcolor": "white",
          "plot_bgcolor": "#E5ECF6",
          "polar": {
           "angularaxis": {
            "gridcolor": "white",
            "linecolor": "white",
            "ticks": ""
           },
           "bgcolor": "#E5ECF6",
           "radialaxis": {
            "gridcolor": "white",
            "linecolor": "white",
            "ticks": ""
           }
          },
          "scene": {
           "xaxis": {
            "backgroundcolor": "#E5ECF6",
            "gridcolor": "white",
            "gridwidth": 2,
            "linecolor": "white",
            "showbackground": true,
            "ticks": "",
            "zerolinecolor": "white"
           },
           "yaxis": {
            "backgroundcolor": "#E5ECF6",
            "gridcolor": "white",
            "gridwidth": 2,
            "linecolor": "white",
            "showbackground": true,
            "ticks": "",
            "zerolinecolor": "white"
           },
           "zaxis": {
            "backgroundcolor": "#E5ECF6",
            "gridcolor": "white",
            "gridwidth": 2,
            "linecolor": "white",
            "showbackground": true,
            "ticks": "",
            "zerolinecolor": "white"
           }
          },
          "shapedefaults": {
           "line": {
            "color": "#2a3f5f"
           }
          },
          "ternary": {
           "aaxis": {
            "gridcolor": "white",
            "linecolor": "white",
            "ticks": ""
           },
           "baxis": {
            "gridcolor": "white",
            "linecolor": "white",
            "ticks": ""
           },
           "bgcolor": "#E5ECF6",
           "caxis": {
            "gridcolor": "white",
            "linecolor": "white",
            "ticks": ""
           }
          },
          "title": {
           "x": 0.05
          },
          "xaxis": {
           "automargin": true,
           "gridcolor": "white",
           "linecolor": "white",
           "ticks": "",
           "title": {
            "standoff": 15
           },
           "zerolinecolor": "white",
           "zerolinewidth": 2
          },
          "yaxis": {
           "automargin": true,
           "gridcolor": "white",
           "linecolor": "white",
           "ticks": "",
           "title": {
            "standoff": 15
           },
           "zerolinecolor": "white",
           "zerolinewidth": 2
          }
         }
        },
        "xaxis": {
         "anchor": "y",
         "domain": [
          0,
          1
         ],
         "title": {
          "text": "Party Name"
         }
        },
        "yaxis": {
         "anchor": "x",
         "domain": [
          0,
          1
         ],
         "title": {
          "text": "No.of MPs"
         }
        }
       }
      },
      "text/html": [
       "<div>                            <div id=\"57a5b515-9b02-41c5-a60a-f2607ffe9488\" class=\"plotly-graph-div\" style=\"height:525px; width:100%;\"></div>            <script type=\"text/javascript\">                require([\"plotly\"], function(Plotly) {                    window.PLOTLYENV=window.PLOTLYENV || {};                                    if (document.getElementById(\"57a5b515-9b02-41c5-a60a-f2607ffe9488\")) {                    Plotly.newPlot(                        \"57a5b515-9b02-41c5-a60a-f2607ffe9488\",                        [{\"alignmentgroup\":\"True\",\"hovertemplate\":\"Party Name=%{x}<br>No.of MPs=%{y}<extra></extra>\",\"legendgroup\":\"\",\"marker\":{\"color\":\"#636efa\",\"pattern\":{\"shape\":\"\"}},\"name\":\"\",\"offsetgroup\":\"\",\"orientation\":\"v\",\"showlegend\":false,\"textposition\":\"auto\",\"x\":[\"Bharatiya Janata Party\",\"Indian National Congress\",\"Dravida Munnetra Kazhagam\",\"Yuvajana Sramika Rythu Congress Party\",\"All India Trinamool Congress\",\"Shiv Sena\",\"Janata Dal (United)\",\"Biju Janata Dal\",\"Bahujan Samaj Party\",\"Telangana Rashtra Samithi\",\"Lok Jan Shakti Party\",\"Samajwadi Party\",\"Nationalist Congress Party\",\"Jammu and Kashmir National Conference\",\"Indian Union Muslim League\"],\"xaxis\":\"x\",\"y\":[292,50,24,22,22,18,16,12,10,9,6,5,4,3,3],\"yaxis\":\"y\",\"type\":\"bar\"}],                        {\"template\":{\"data\":{\"histogram2dcontour\":[{\"type\":\"histogram2dcontour\",\"colorbar\":{\"outlinewidth\":0,\"ticks\":\"\"},\"colorscale\":[[0.0,\"#0d0887\"],[0.1111111111111111,\"#46039f\"],[0.2222222222222222,\"#7201a8\"],[0.3333333333333333,\"#9c179e\"],[0.4444444444444444,\"#bd3786\"],[0.5555555555555556,\"#d8576b\"],[0.6666666666666666,\"#ed7953\"],[0.7777777777777778,\"#fb9f3a\"],[0.8888888888888888,\"#fdca26\"],[1.0,\"#f0f921\"]]}],\"choropleth\":[{\"type\":\"choropleth\",\"colorbar\":{\"outlinewidth\":0,\"ticks\":\"\"}}],\"histogram2d\":[{\"type\":\"histogram2d\",\"colorbar\":{\"outlinewidth\":0,\"ticks\":\"\"},\"colorscale\":[[0.0,\"#0d0887\"],[0.1111111111111111,\"#46039f\"],[0.2222222222222222,\"#7201a8\"],[0.3333333333333333,\"#9c179e\"],[0.4444444444444444,\"#bd3786\"],[0.5555555555555556,\"#d8576b\"],[0.6666666666666666,\"#ed7953\"],[0.7777777777777778,\"#fb9f3a\"],[0.8888888888888888,\"#fdca26\"],[1.0,\"#f0f921\"]]}],\"heatmap\":[{\"type\":\"heatmap\",\"colorbar\":{\"outlinewidth\":0,\"ticks\":\"\"},\"colorscale\":[[0.0,\"#0d0887\"],[0.1111111111111111,\"#46039f\"],[0.2222222222222222,\"#7201a8\"],[0.3333333333333333,\"#9c179e\"],[0.4444444444444444,\"#bd3786\"],[0.5555555555555556,\"#d8576b\"],[0.6666666666666666,\"#ed7953\"],[0.7777777777777778,\"#fb9f3a\"],[0.8888888888888888,\"#fdca26\"],[1.0,\"#f0f921\"]]}],\"heatmapgl\":[{\"type\":\"heatmapgl\",\"colorbar\":{\"outlinewidth\":0,\"ticks\":\"\"},\"colorscale\":[[0.0,\"#0d0887\"],[0.1111111111111111,\"#46039f\"],[0.2222222222222222,\"#7201a8\"],[0.3333333333333333,\"#9c179e\"],[0.4444444444444444,\"#bd3786\"],[0.5555555555555556,\"#d8576b\"],[0.6666666666666666,\"#ed7953\"],[0.7777777777777778,\"#fb9f3a\"],[0.8888888888888888,\"#fdca26\"],[1.0,\"#f0f921\"]]}],\"contourcarpet\":[{\"type\":\"contourcarpet\",\"colorbar\":{\"outlinewidth\":0,\"ticks\":\"\"}}],\"contour\":[{\"type\":\"contour\",\"colorbar\":{\"outlinewidth\":0,\"ticks\":\"\"},\"colorscale\":[[0.0,\"#0d0887\"],[0.1111111111111111,\"#46039f\"],[0.2222222222222222,\"#7201a8\"],[0.3333333333333333,\"#9c179e\"],[0.4444444444444444,\"#bd3786\"],[0.5555555555555556,\"#d8576b\"],[0.6666666666666666,\"#ed7953\"],[0.7777777777777778,\"#fb9f3a\"],[0.8888888888888888,\"#fdca26\"],[1.0,\"#f0f921\"]]}],\"surface\":[{\"type\":\"surface\",\"colorbar\":{\"outlinewidth\":0,\"ticks\":\"\"},\"colorscale\":[[0.0,\"#0d0887\"],[0.1111111111111111,\"#46039f\"],[0.2222222222222222,\"#7201a8\"],[0.3333333333333333,\"#9c179e\"],[0.4444444444444444,\"#bd3786\"],[0.5555555555555556,\"#d8576b\"],[0.6666666666666666,\"#ed7953\"],[0.7777777777777778,\"#fb9f3a\"],[0.8888888888888888,\"#fdca26\"],[1.0,\"#f0f921\"]]}],\"mesh3d\":[{\"type\":\"mesh3d\",\"colorbar\":{\"outlinewidth\":0,\"ticks\":\"\"}}],\"scatter\":[{\"fillpattern\":{\"fillmode\":\"overlay\",\"size\":10,\"solidity\":0.2},\"type\":\"scatter\"}],\"parcoords\":[{\"type\":\"parcoords\",\"line\":{\"colorbar\":{\"outlinewidth\":0,\"ticks\":\"\"}}}],\"scatterpolargl\":[{\"type\":\"scatterpolargl\",\"marker\":{\"colorbar\":{\"outlinewidth\":0,\"ticks\":\"\"}}}],\"bar\":[{\"error_x\":{\"color\":\"#2a3f5f\"},\"error_y\":{\"color\":\"#2a3f5f\"},\"marker\":{\"line\":{\"color\":\"#E5ECF6\",\"width\":0.5},\"pattern\":{\"fillmode\":\"overlay\",\"size\":10,\"solidity\":0.2}},\"type\":\"bar\"}],\"scattergeo\":[{\"type\":\"scattergeo\",\"marker\":{\"colorbar\":{\"outlinewidth\":0,\"ticks\":\"\"}}}],\"scatterpolar\":[{\"type\":\"scatterpolar\",\"marker\":{\"colorbar\":{\"outlinewidth\":0,\"ticks\":\"\"}}}],\"histogram\":[{\"marker\":{\"pattern\":{\"fillmode\":\"overlay\",\"size\":10,\"solidity\":0.2}},\"type\":\"histogram\"}],\"scattergl\":[{\"type\":\"scattergl\",\"marker\":{\"colorbar\":{\"outlinewidth\":0,\"ticks\":\"\"}}}],\"scatter3d\":[{\"type\":\"scatter3d\",\"line\":{\"colorbar\":{\"outlinewidth\":0,\"ticks\":\"\"}},\"marker\":{\"colorbar\":{\"outlinewidth\":0,\"ticks\":\"\"}}}],\"scattermapbox\":[{\"type\":\"scattermapbox\",\"marker\":{\"colorbar\":{\"outlinewidth\":0,\"ticks\":\"\"}}}],\"scatterternary\":[{\"type\":\"scatterternary\",\"marker\":{\"colorbar\":{\"outlinewidth\":0,\"ticks\":\"\"}}}],\"scattercarpet\":[{\"type\":\"scattercarpet\",\"marker\":{\"colorbar\":{\"outlinewidth\":0,\"ticks\":\"\"}}}],\"carpet\":[{\"aaxis\":{\"endlinecolor\":\"#2a3f5f\",\"gridcolor\":\"white\",\"linecolor\":\"white\",\"minorgridcolor\":\"white\",\"startlinecolor\":\"#2a3f5f\"},\"baxis\":{\"endlinecolor\":\"#2a3f5f\",\"gridcolor\":\"white\",\"linecolor\":\"white\",\"minorgridcolor\":\"white\",\"startlinecolor\":\"#2a3f5f\"},\"type\":\"carpet\"}],\"table\":[{\"cells\":{\"fill\":{\"color\":\"#EBF0F8\"},\"line\":{\"color\":\"white\"}},\"header\":{\"fill\":{\"color\":\"#C8D4E3\"},\"line\":{\"color\":\"white\"}},\"type\":\"table\"}],\"barpolar\":[{\"marker\":{\"line\":{\"color\":\"#E5ECF6\",\"width\":0.5},\"pattern\":{\"fillmode\":\"overlay\",\"size\":10,\"solidity\":0.2}},\"type\":\"barpolar\"}],\"pie\":[{\"automargin\":true,\"type\":\"pie\"}]},\"layout\":{\"autotypenumbers\":\"strict\",\"colorway\":[\"#636efa\",\"#EF553B\",\"#00cc96\",\"#ab63fa\",\"#FFA15A\",\"#19d3f3\",\"#FF6692\",\"#B6E880\",\"#FF97FF\",\"#FECB52\"],\"font\":{\"color\":\"#2a3f5f\"},\"hovermode\":\"closest\",\"hoverlabel\":{\"align\":\"left\"},\"paper_bgcolor\":\"white\",\"plot_bgcolor\":\"#E5ECF6\",\"polar\":{\"bgcolor\":\"#E5ECF6\",\"angularaxis\":{\"gridcolor\":\"white\",\"linecolor\":\"white\",\"ticks\":\"\"},\"radialaxis\":{\"gridcolor\":\"white\",\"linecolor\":\"white\",\"ticks\":\"\"}},\"ternary\":{\"bgcolor\":\"#E5ECF6\",\"aaxis\":{\"gridcolor\":\"white\",\"linecolor\":\"white\",\"ticks\":\"\"},\"baxis\":{\"gridcolor\":\"white\",\"linecolor\":\"white\",\"ticks\":\"\"},\"caxis\":{\"gridcolor\":\"white\",\"linecolor\":\"white\",\"ticks\":\"\"}},\"coloraxis\":{\"colorbar\":{\"outlinewidth\":0,\"ticks\":\"\"}},\"colorscale\":{\"sequential\":[[0.0,\"#0d0887\"],[0.1111111111111111,\"#46039f\"],[0.2222222222222222,\"#7201a8\"],[0.3333333333333333,\"#9c179e\"],[0.4444444444444444,\"#bd3786\"],[0.5555555555555556,\"#d8576b\"],[0.6666666666666666,\"#ed7953\"],[0.7777777777777778,\"#fb9f3a\"],[0.8888888888888888,\"#fdca26\"],[1.0,\"#f0f921\"]],\"sequentialminus\":[[0.0,\"#0d0887\"],[0.1111111111111111,\"#46039f\"],[0.2222222222222222,\"#7201a8\"],[0.3333333333333333,\"#9c179e\"],[0.4444444444444444,\"#bd3786\"],[0.5555555555555556,\"#d8576b\"],[0.6666666666666666,\"#ed7953\"],[0.7777777777777778,\"#fb9f3a\"],[0.8888888888888888,\"#fdca26\"],[1.0,\"#f0f921\"]],\"diverging\":[[0,\"#8e0152\"],[0.1,\"#c51b7d\"],[0.2,\"#de77ae\"],[0.3,\"#f1b6da\"],[0.4,\"#fde0ef\"],[0.5,\"#f7f7f7\"],[0.6,\"#e6f5d0\"],[0.7,\"#b8e186\"],[0.8,\"#7fbc41\"],[0.9,\"#4d9221\"],[1,\"#276419\"]]},\"xaxis\":{\"gridcolor\":\"white\",\"linecolor\":\"white\",\"ticks\":\"\",\"title\":{\"standoff\":15},\"zerolinecolor\":\"white\",\"automargin\":true,\"zerolinewidth\":2},\"yaxis\":{\"gridcolor\":\"white\",\"linecolor\":\"white\",\"ticks\":\"\",\"title\":{\"standoff\":15},\"zerolinecolor\":\"white\",\"automargin\":true,\"zerolinewidth\":2},\"scene\":{\"xaxis\":{\"backgroundcolor\":\"#E5ECF6\",\"gridcolor\":\"white\",\"linecolor\":\"white\",\"showbackground\":true,\"ticks\":\"\",\"zerolinecolor\":\"white\",\"gridwidth\":2},\"yaxis\":{\"backgroundcolor\":\"#E5ECF6\",\"gridcolor\":\"white\",\"linecolor\":\"white\",\"showbackground\":true,\"ticks\":\"\",\"zerolinecolor\":\"white\",\"gridwidth\":2},\"zaxis\":{\"backgroundcolor\":\"#E5ECF6\",\"gridcolor\":\"white\",\"linecolor\":\"white\",\"showbackground\":true,\"ticks\":\"\",\"zerolinecolor\":\"white\",\"gridwidth\":2}},\"shapedefaults\":{\"line\":{\"color\":\"#2a3f5f\"}},\"annotationdefaults\":{\"arrowcolor\":\"#2a3f5f\",\"arrowhead\":0,\"arrowwidth\":1},\"geo\":{\"bgcolor\":\"white\",\"landcolor\":\"#E5ECF6\",\"subunitcolor\":\"white\",\"showland\":true,\"showlakes\":true,\"lakecolor\":\"white\"},\"title\":{\"x\":0.05},\"mapbox\":{\"style\":\"light\"}}},\"xaxis\":{\"anchor\":\"y\",\"domain\":[0.0,1.0],\"title\":{\"text\":\"Party Name\"}},\"yaxis\":{\"anchor\":\"x\",\"domain\":[0.0,1.0],\"title\":{\"text\":\"No.of MPs\"}},\"legend\":{\"tracegroupgap\":0},\"margin\":{\"t\":60},\"barmode\":\"relative\"},                        {\"responsive\": true}                    ).then(function(){\n",
       "                            \n",
       "var gd = document.getElementById('57a5b515-9b02-41c5-a60a-f2607ffe9488');\n",
       "var x = new MutationObserver(function (mutations, observer) {{\n",
       "        var display = window.getComputedStyle(gd).display;\n",
       "        if (!display || display === 'none') {{\n",
       "            console.log([gd, 'removed!']);\n",
       "            Plotly.purge(gd);\n",
       "            observer.disconnect();\n",
       "        }}\n",
       "}});\n",
       "\n",
       "// Listen for the removal of the full notebook cells\n",
       "var notebookContainer = gd.closest('#notebook-container');\n",
       "if (notebookContainer) {{\n",
       "    x.observe(notebookContainer, {childList: true});\n",
       "}}\n",
       "\n",
       "// Listen for the clearing of the current output cell\n",
       "var outputEl = gd.closest('.output');\n",
       "if (outputEl) {{\n",
       "    x.observe(outputEl, {childList: true});\n",
       "}}\n",
       "\n",
       "                        })                };                });            </script>        </div>"
      ]
     },
     "metadata": {},
     "output_type": "display_data"
    }
   ],
   "source": [
    "px.bar(tab_1.head(15),x = 'Party Name', y = 'No.of MPs')"
   ]
  },
  {
   "cell_type": "code",
   "execution_count": 236,
   "id": "acbda45b",
   "metadata": {},
   "outputs": [
    {
     "data": {
      "text/html": [
       "<div>\n",
       "<style scoped>\n",
       "    .dataframe tbody tr th:only-of-type {\n",
       "        vertical-align: middle;\n",
       "    }\n",
       "\n",
       "    .dataframe tbody tr th {\n",
       "        vertical-align: top;\n",
       "    }\n",
       "\n",
       "    .dataframe thead th {\n",
       "        text-align: right;\n",
       "    }\n",
       "</style>\n",
       "<table border=\"1\" class=\"dataframe\">\n",
       "  <thead>\n",
       "    <tr style=\"text-align: right;\">\n",
       "      <th></th>\n",
       "      <th>Name of Member</th>\n",
       "      <th>Party Name</th>\n",
       "      <th>Constituency</th>\n",
       "      <th>State</th>\n",
       "      <th>UT</th>\n",
       "      <th>Category</th>\n",
       "      <th>Gender</th>\n",
       "      <th>First time</th>\n",
       "      <th>DOB</th>\n",
       "      <th>Age of Member</th>\n",
       "    </tr>\n",
       "  </thead>\n",
       "  <tbody>\n",
       "    <tr>\n",
       "      <th>0</th>\n",
       "      <td>Sharma, Shri Kuldeep Rai</td>\n",
       "      <td>Indian National Congress</td>\n",
       "      <td>Andaman and Nicobar Islands</td>\n",
       "      <td>Andaman and Nicobar Islands</td>\n",
       "      <td>Yes</td>\n",
       "      <td>General</td>\n",
       "      <td>Male</td>\n",
       "      <td>Yes</td>\n",
       "      <td>10/9/1967</td>\n",
       "      <td>55</td>\n",
       "    </tr>\n",
       "    <tr>\n",
       "      <th>1</th>\n",
       "      <td>Beesetti , Dr. Venkata Satyavathi</td>\n",
       "      <td>Yuvajana Sramika Rythu Congress Party</td>\n",
       "      <td>Anakapalle</td>\n",
       "      <td>Andhra Pradesh</td>\n",
       "      <td>No</td>\n",
       "      <td>General</td>\n",
       "      <td>Female</td>\n",
       "      <td>Yes</td>\n",
       "      <td>4/28/1966</td>\n",
       "      <td>56</td>\n",
       "    </tr>\n",
       "    <tr>\n",
       "      <th>2</th>\n",
       "      <td>Bellana, Shri Chandra Sekhar</td>\n",
       "      <td>Yuvajana Sramika Rythu Congress Party</td>\n",
       "      <td>Vizianagaram</td>\n",
       "      <td>Andhra Pradesh</td>\n",
       "      <td>No</td>\n",
       "      <td>General</td>\n",
       "      <td>Male</td>\n",
       "      <td>Yes</td>\n",
       "      <td>11/8/1961</td>\n",
       "      <td>61</td>\n",
       "    </tr>\n",
       "    <tr>\n",
       "      <th>3</th>\n",
       "      <td>Chinta Anuradha, Smt.</td>\n",
       "      <td>Yuvajana Sramika Rythu Congress Party</td>\n",
       "      <td>Amalapuram</td>\n",
       "      <td>Andhra Pradesh</td>\n",
       "      <td>No</td>\n",
       "      <td>SC</td>\n",
       "      <td>Female</td>\n",
       "      <td>Yes</td>\n",
       "      <td>10/18/1972</td>\n",
       "      <td>50</td>\n",
       "    </tr>\n",
       "    <tr>\n",
       "      <th>4</th>\n",
       "      <td>Galla, Shri Jayadev</td>\n",
       "      <td>Telugu Desam Party</td>\n",
       "      <td>Guntur</td>\n",
       "      <td>Andhra Pradesh</td>\n",
       "      <td>No</td>\n",
       "      <td>General</td>\n",
       "      <td>Male</td>\n",
       "      <td>No</td>\n",
       "      <td>3/24/1966</td>\n",
       "      <td>56</td>\n",
       "    </tr>\n",
       "  </tbody>\n",
       "</table>\n",
       "</div>"
      ],
      "text/plain": [
       "                      Name of Member                             Party Name  \\\n",
       "0           Sharma, Shri Kuldeep Rai               Indian National Congress   \n",
       "1  Beesetti , Dr. Venkata Satyavathi  Yuvajana Sramika Rythu Congress Party   \n",
       "2       Bellana, Shri Chandra Sekhar  Yuvajana Sramika Rythu Congress Party   \n",
       "3              Chinta Anuradha, Smt.  Yuvajana Sramika Rythu Congress Party   \n",
       "4                Galla, Shri Jayadev                     Telugu Desam Party   \n",
       "\n",
       "                  Constituency                        State   UT Category  \\\n",
       "0  Andaman and Nicobar Islands  Andaman and Nicobar Islands  Yes  General   \n",
       "1                   Anakapalle               Andhra Pradesh   No  General   \n",
       "2                 Vizianagaram               Andhra Pradesh   No  General   \n",
       "3                   Amalapuram               Andhra Pradesh   No       SC   \n",
       "4                       Guntur               Andhra Pradesh   No  General   \n",
       "\n",
       "   Gender First time         DOB  Age of Member  \n",
       "0    Male        Yes   10/9/1967             55  \n",
       "1  Female        Yes   4/28/1966             56  \n",
       "2    Male        Yes   11/8/1961             61  \n",
       "3  Female        Yes  10/18/1972             50  \n",
       "4    Male         No   3/24/1966             56  "
      ]
     },
     "execution_count": 236,
     "metadata": {},
     "output_type": "execute_result"
    }
   ],
   "source": [
    "df.head()"
   ]
  },
  {
   "cell_type": "code",
   "execution_count": null,
   "id": "33fc2a68",
   "metadata": {},
   "outputs": [],
   "source": []
  }
 ],
 "metadata": {
  "kernelspec": {
   "display_name": "Python 3 (ipykernel)",
   "language": "python",
   "name": "python3"
  },
  "language_info": {
   "codemirror_mode": {
    "name": "ipython",
    "version": 3
   },
   "file_extension": ".py",
   "mimetype": "text/x-python",
   "name": "python",
   "nbconvert_exporter": "python",
   "pygments_lexer": "ipython3",
   "version": "3.8.0"
  }
 },
 "nbformat": 4,
 "nbformat_minor": 5
}
