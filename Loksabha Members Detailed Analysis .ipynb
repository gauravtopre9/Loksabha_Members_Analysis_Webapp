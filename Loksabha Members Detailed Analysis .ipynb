{
 "cells": [
  {
   "cell_type": "markdown",
   "id": "b8706278",
   "metadata": {},
   "source": [
    "# Loksabha Members Detailed Analysis (2019-2024)"
   ]
  },
  {
   "cell_type": "markdown",
   "id": "a0831bf7",
   "metadata": {},
   "source": [
    "### Importing Libraries"
   ]
  },
  {
   "cell_type": "code",
   "execution_count": 32,
   "id": "eff21711",
   "metadata": {},
   "outputs": [],
   "source": [
    "import pandas as pd\n",
    "import numpy as np\n",
    "import matplotlib.pyplot as plt\n",
    "import seaborn as sns\n",
    "import datetime\n",
    "\n",
    "%matplotlib inline"
   ]
  },
  {
   "cell_type": "markdown",
   "id": "db7291ad",
   "metadata": {},
   "source": [
    "### Loading Data"
   ]
  },
  {
   "cell_type": "code",
   "execution_count": 3,
   "id": "4dfbfa0d",
   "metadata": {},
   "outputs": [
    {
     "data": {
      "text/plain": [
       "(540, 10)"
      ]
     },
     "execution_count": 3,
     "metadata": {},
     "output_type": "execute_result"
    }
   ],
   "source": [
    "df = pd.read_csv('loksabha_seats_statewise.csv')\n",
    "df.shape"
   ]
  },
  {
   "cell_type": "markdown",
   "id": "ead74fc4",
   "metadata": {},
   "source": [
    "Our Dataset is having 540 Rows and 10 Columns those 10 columns are listed below"
   ]
  },
  {
   "cell_type": "code",
   "execution_count": 4,
   "id": "3954ce51",
   "metadata": {},
   "outputs": [
    {
     "data": {
      "text/plain": [
       "Index(['Name of Member', 'Party Name', 'Constituency', 'State', 'UT',\n",
       "       'Category', 'Woman', 'First time', 'Age', 'DOB'],\n",
       "      dtype='object')"
      ]
     },
     "execution_count": 4,
     "metadata": {},
     "output_type": "execute_result"
    }
   ],
   "source": [
    "df.columns"
   ]
  },
  {
   "cell_type": "markdown",
   "id": "1207b600",
   "metadata": {},
   "source": [
    "Okay !!! so as we are now well awared of the columns, let's have a quick glance at our dataset."
   ]
  },
  {
   "cell_type": "code",
   "execution_count": 5,
   "id": "ba794367",
   "metadata": {},
   "outputs": [
    {
     "data": {
      "text/html": [
       "<div>\n",
       "<style scoped>\n",
       "    .dataframe tbody tr th:only-of-type {\n",
       "        vertical-align: middle;\n",
       "    }\n",
       "\n",
       "    .dataframe tbody tr th {\n",
       "        vertical-align: top;\n",
       "    }\n",
       "\n",
       "    .dataframe thead th {\n",
       "        text-align: right;\n",
       "    }\n",
       "</style>\n",
       "<table border=\"1\" class=\"dataframe\">\n",
       "  <thead>\n",
       "    <tr style=\"text-align: right;\">\n",
       "      <th></th>\n",
       "      <th>Name of Member</th>\n",
       "      <th>Party Name</th>\n",
       "      <th>Constituency</th>\n",
       "      <th>State</th>\n",
       "      <th>UT</th>\n",
       "      <th>Category</th>\n",
       "      <th>Woman</th>\n",
       "      <th>First time</th>\n",
       "      <th>Age</th>\n",
       "      <th>DOB</th>\n",
       "    </tr>\n",
       "  </thead>\n",
       "  <tbody>\n",
       "    <tr>\n",
       "      <th>229</th>\n",
       "      <td>Thakur, Sadhvi Pragya Singh</td>\n",
       "      <td>Bharatiya Janata Party</td>\n",
       "      <td>Bhopal</td>\n",
       "      <td>Madhya Pradesh</td>\n",
       "      <td>0</td>\n",
       "      <td>General</td>\n",
       "      <td>1</td>\n",
       "      <td>1</td>\n",
       "      <td>51.0</td>\n",
       "      <td>2/2/1970</td>\n",
       "    </tr>\n",
       "    <tr>\n",
       "      <th>7</th>\n",
       "      <td>Kesineni, Shri Srinivas</td>\n",
       "      <td>Telugu Desam Party</td>\n",
       "      <td>Vijayawada</td>\n",
       "      <td>Andhra Pradesh</td>\n",
       "      <td>0</td>\n",
       "      <td>General</td>\n",
       "      <td>0</td>\n",
       "      <td>0</td>\n",
       "      <td>55.0</td>\n",
       "      <td>1/22/1966</td>\n",
       "    </tr>\n",
       "    <tr>\n",
       "      <th>207</th>\n",
       "      <td>Damor, Shri Guman Singh</td>\n",
       "      <td>Bharatiya Janata Party</td>\n",
       "      <td>Ratlam</td>\n",
       "      <td>Madhya Pradesh</td>\n",
       "      <td>0</td>\n",
       "      <td>ST</td>\n",
       "      <td>0</td>\n",
       "      <td>1</td>\n",
       "      <td>64.0</td>\n",
       "      <td>4/4/1957</td>\n",
       "    </tr>\n",
       "    <tr>\n",
       "      <th>418</th>\n",
       "      <td>Barq, Shri Shafiqur Rahman</td>\n",
       "      <td>Samajwadi Party</td>\n",
       "      <td>Sambhal</td>\n",
       "      <td>Uttar Pradesh</td>\n",
       "      <td>0</td>\n",
       "      <td>General</td>\n",
       "      <td>0</td>\n",
       "      <td>0</td>\n",
       "      <td>90.0</td>\n",
       "      <td>11/7/1930</td>\n",
       "    </tr>\n",
       "    <tr>\n",
       "      <th>233</th>\n",
       "      <td>Bapat, Shri Girish Bhalchandra</td>\n",
       "      <td>Bharatiya Janata Party</td>\n",
       "      <td>Pune</td>\n",
       "      <td>Maharashtra</td>\n",
       "      <td>0</td>\n",
       "      <td>General</td>\n",
       "      <td>0</td>\n",
       "      <td>1</td>\n",
       "      <td>71.0</td>\n",
       "      <td>3/9/1950</td>\n",
       "    </tr>\n",
       "  </tbody>\n",
       "</table>\n",
       "</div>"
      ],
      "text/plain": [
       "                     Name of Member              Party Name Constituency  \\\n",
       "229     Thakur, Sadhvi Pragya Singh  Bharatiya Janata Party       Bhopal   \n",
       "7           Kesineni, Shri Srinivas      Telugu Desam Party   Vijayawada   \n",
       "207         Damor, Shri Guman Singh  Bharatiya Janata Party       Ratlam   \n",
       "418      Barq, Shri Shafiqur Rahman         Samajwadi Party      Sambhal   \n",
       "233  Bapat, Shri Girish Bhalchandra  Bharatiya Janata Party         Pune   \n",
       "\n",
       "              State  UT Category  Woman  First time   Age        DOB  \n",
       "229  Madhya Pradesh   0  General      1           1  51.0   2/2/1970  \n",
       "7    Andhra Pradesh   0  General      0           0  55.0  1/22/1966  \n",
       "207  Madhya Pradesh   0       ST      0           1  64.0   4/4/1957  \n",
       "418   Uttar Pradesh   0  General      0           0  90.0  11/7/1930  \n",
       "233     Maharashtra   0  General      0           1  71.0   3/9/1950  "
      ]
     },
     "execution_count": 5,
     "metadata": {},
     "output_type": "execute_result"
    }
   ],
   "source": [
    "df.sample(5)"
   ]
  },
  {
   "cell_type": "markdown",
   "id": "20642876",
   "metadata": {},
   "source": [
    "Data many a times contains Null values which can disturb our analysis. So,we will be checking null values of our dataset."
   ]
  },
  {
   "cell_type": "code",
   "execution_count": 6,
   "id": "6a661fd0",
   "metadata": {},
   "outputs": [
    {
     "data": {
      "text/plain": [
       "Name of Member    0\n",
       "Party Name        0\n",
       "Constituency      0\n",
       "State             0\n",
       "UT                0\n",
       "Category          0\n",
       "Woman             0\n",
       "First time        0\n",
       "Age               5\n",
       "DOB               5\n",
       "dtype: int64"
      ]
     },
     "execution_count": 6,
     "metadata": {},
     "output_type": "execute_result"
    }
   ],
   "source": [
    "df.isnull().sum()"
   ]
  },
  {
   "cell_type": "markdown",
   "id": "fff1a2df",
   "metadata": {},
   "source": [
    "Yes, We are having few null values in **DoB** and **Age** Columns."
   ]
  },
  {
   "cell_type": "code",
   "execution_count": 7,
   "id": "8370f4e4",
   "metadata": {},
   "outputs": [
    {
     "name": "stdout",
     "output_type": "stream",
     "text": [
      "<class 'pandas.core.frame.DataFrame'>\n",
      "RangeIndex: 540 entries, 0 to 539\n",
      "Data columns (total 10 columns):\n",
      " #   Column          Non-Null Count  Dtype  \n",
      "---  ------          --------------  -----  \n",
      " 0   Name of Member  540 non-null    object \n",
      " 1   Party Name      540 non-null    object \n",
      " 2   Constituency    540 non-null    object \n",
      " 3   State           540 non-null    object \n",
      " 4   UT              540 non-null    int64  \n",
      " 5   Category        540 non-null    object \n",
      " 6   Woman           540 non-null    int64  \n",
      " 7   First time      540 non-null    int64  \n",
      " 8   Age             535 non-null    float64\n",
      " 9   DOB             535 non-null    object \n",
      "dtypes: float64(1), int64(3), object(6)\n",
      "memory usage: 42.3+ KB\n"
     ]
    }
   ],
   "source": [
    "df.info()"
   ]
  },
  {
   "cell_type": "markdown",
   "id": "5978338e",
   "metadata": {},
   "source": [
    "Time to check any duplicate entry "
   ]
  },
  {
   "cell_type": "code",
   "execution_count": 8,
   "id": "73dd402d",
   "metadata": {},
   "outputs": [
    {
     "data": {
      "text/plain": [
       "0"
      ]
     },
     "execution_count": 8,
     "metadata": {},
     "output_type": "execute_result"
    }
   ],
   "source": [
    "df.duplicated().sum()"
   ]
  },
  {
   "cell_type": "markdown",
   "id": "d6a5b036",
   "metadata": {},
   "source": [
    "No duplicate entry found."
   ]
  },
  {
   "cell_type": "markdown",
   "id": "96fe2b99",
   "metadata": {},
   "source": [
    "**Treating NULL values**"
   ]
  },
  {
   "cell_type": "code",
   "execution_count": 11,
   "id": "81dc7511",
   "metadata": {},
   "outputs": [
    {
     "data": {
      "text/html": [
       "<div>\n",
       "<style scoped>\n",
       "    .dataframe tbody tr th:only-of-type {\n",
       "        vertical-align: middle;\n",
       "    }\n",
       "\n",
       "    .dataframe tbody tr th {\n",
       "        vertical-align: top;\n",
       "    }\n",
       "\n",
       "    .dataframe thead th {\n",
       "        text-align: right;\n",
       "    }\n",
       "</style>\n",
       "<table border=\"1\" class=\"dataframe\">\n",
       "  <thead>\n",
       "    <tr style=\"text-align: right;\">\n",
       "      <th></th>\n",
       "      <th>Name of Member</th>\n",
       "      <th>Party Name</th>\n",
       "      <th>Constituency</th>\n",
       "      <th>State</th>\n",
       "      <th>UT</th>\n",
       "      <th>Category</th>\n",
       "      <th>Woman</th>\n",
       "      <th>First time</th>\n",
       "      <th>Age</th>\n",
       "      <th>DOB</th>\n",
       "    </tr>\n",
       "  </thead>\n",
       "  <tbody>\n",
       "    <tr>\n",
       "      <th>158</th>\n",
       "      <td>Angadi, Smt. Mangal Suresh</td>\n",
       "      <td>Bharatiya Janata Party</td>\n",
       "      <td>Belgaum</td>\n",
       "      <td>Karnataka</td>\n",
       "      <td>0</td>\n",
       "      <td>General</td>\n",
       "      <td>1</td>\n",
       "      <td>1</td>\n",
       "      <td>NaN</td>\n",
       "      <td>NaN</td>\n",
       "    </tr>\n",
       "    <tr>\n",
       "      <th>199</th>\n",
       "      <td>Samadani, Shri Abdussamad</td>\n",
       "      <td>Indian Union Muslim League</td>\n",
       "      <td>Malappuram</td>\n",
       "      <td>Kerala</td>\n",
       "      <td>0</td>\n",
       "      <td>General</td>\n",
       "      <td>0</td>\n",
       "      <td>1</td>\n",
       "      <td>NaN</td>\n",
       "      <td>NaN</td>\n",
       "    </tr>\n",
       "    <tr>\n",
       "      <th>321</th>\n",
       "      <td>Gill, Shri Jasbir Singh</td>\n",
       "      <td>Indian National Congress</td>\n",
       "      <td>Khadoor Sahib</td>\n",
       "      <td>Punjab</td>\n",
       "      <td>0</td>\n",
       "      <td>General</td>\n",
       "      <td>0</td>\n",
       "      <td>1</td>\n",
       "      <td>NaN</td>\n",
       "      <td>NaN</td>\n",
       "    </tr>\n",
       "    <tr>\n",
       "      <th>390</th>\n",
       "      <td>Vasanth, Shri vijayakumar (Alias) Vijay</td>\n",
       "      <td>Indian National Congress</td>\n",
       "      <td>Kanniyakumari</td>\n",
       "      <td>Tamil Nadu</td>\n",
       "      <td>0</td>\n",
       "      <td>General</td>\n",
       "      <td>0</td>\n",
       "      <td>1</td>\n",
       "      <td>NaN</td>\n",
       "      <td>NaN</td>\n",
       "    </tr>\n",
       "    <tr>\n",
       "      <th>510</th>\n",
       "      <td>Chakraborty, Ms. Mimi</td>\n",
       "      <td>All India Trinamool Congress</td>\n",
       "      <td>Jadavpur</td>\n",
       "      <td>West Bengal</td>\n",
       "      <td>0</td>\n",
       "      <td>General</td>\n",
       "      <td>1</td>\n",
       "      <td>1</td>\n",
       "      <td>NaN</td>\n",
       "      <td>NaN</td>\n",
       "    </tr>\n",
       "  </tbody>\n",
       "</table>\n",
       "</div>"
      ],
      "text/plain": [
       "                              Name of Member                    Party Name  \\\n",
       "158               Angadi, Smt. Mangal Suresh        Bharatiya Janata Party   \n",
       "199                Samadani, Shri Abdussamad    Indian Union Muslim League   \n",
       "321                  Gill, Shri Jasbir Singh      Indian National Congress   \n",
       "390  Vasanth, Shri vijayakumar (Alias) Vijay      Indian National Congress   \n",
       "510                    Chakraborty, Ms. Mimi  All India Trinamool Congress   \n",
       "\n",
       "      Constituency        State  UT Category  Woman  First time  Age  DOB  \n",
       "158        Belgaum    Karnataka   0  General      1           1  NaN  NaN  \n",
       "199     Malappuram       Kerala   0  General      0           1  NaN  NaN  \n",
       "321  Khadoor Sahib       Punjab   0  General      0           1  NaN  NaN  \n",
       "390  Kanniyakumari   Tamil Nadu   0  General      0           1  NaN  NaN  \n",
       "510       Jadavpur  West Bengal   0  General      1           1  NaN  NaN  "
      ]
     },
     "execution_count": 11,
     "metadata": {},
     "output_type": "execute_result"
    }
   ],
   "source": [
    "df[df['DOB'].isnull()]"
   ]
  },
  {
   "cell_type": "markdown",
   "id": "e6344758",
   "metadata": {},
   "source": [
    "Date of birth were missing and so the Age so we have inserted the correct value of Date of birth from Wikipedia."
   ]
  },
  {
   "cell_type": "code",
   "execution_count": 13,
   "id": "535980d7",
   "metadata": {},
   "outputs": [],
   "source": [
    "df[df['Name of Member']=='Angadi, Smt. Mangal Suresh'] = df[df['Name of Member']=='Angadi, Smt. Mangal Suresh'].fillna('26/10/1963')\n",
    "df[df['Name of Member']=='Samadani, Shri Abdussamad'] = df[df['Name of Member']=='Samadani, Shri Abdussamad'].fillna('01/01/1959')\n",
    "df[df['Name of Member']=='Gill, Shri Jasbir Singh'] = df[df['Name of Member']=='Gill, Shri Jasbir Singh'].fillna('08/11/1968')\n",
    "df[df['Name of Member']=='Vasanth, Shri vijayakumar (Alias) Vijay'] = df[df['Name of Member']=='Vasanth, Shri vijayakumar (Alias) Vijay'].fillna('20/05/1983')\n",
    "df[df['Name of Member']=='Chakraborty, Ms. Mimi'] = df[df['Name of Member']=='Chakraborty, Ms. Mimi'].fillna('11/02/1989')"
   ]
  },
  {
   "cell_type": "code",
   "execution_count": 15,
   "id": "a553491d",
   "metadata": {},
   "outputs": [
    {
     "data": {
      "text/plain": [
       "Name of Member           Chakraborty, Ms. Mimi\n",
       "Party Name        All India Trinamool Congress\n",
       "Constituency                          Jadavpur\n",
       "State                              West Bengal\n",
       "UT                                           0\n",
       "Category                               General\n",
       "Woman                                        1\n",
       "First time                                   1\n",
       "Age                                 11/02/1989\n",
       "DOB                                 11/02/1989\n",
       "Name: 510, dtype: object"
      ]
     },
     "execution_count": 15,
     "metadata": {},
     "output_type": "execute_result"
    }
   ],
   "source": [
    "df.loc[510]"
   ]
  },
  {
   "cell_type": "markdown",
   "id": "c161877c",
   "metadata": {},
   "source": [
    "Now there is a problem with Age column the ages that are present in this dataset are with respect to the date when dataset was created now we have to manage the ages with respect to today's date."
   ]
  },
  {
   "cell_type": "code",
   "execution_count": 21,
   "id": "8095edad",
   "metadata": {},
   "outputs": [
    {
     "data": {
      "text/plain": [
       "0     1967-10-09\n",
       "1     1966-04-28\n",
       "2     1961-11-08\n",
       "3     1972-10-18\n",
       "4     1966-03-24\n",
       "         ...    \n",
       "535   1963-02-01\n",
       "536   1953-11-25\n",
       "537   1980-08-12\n",
       "538   1962-02-04\n",
       "539   1982-03-08\n",
       "Name: DOB, Length: 540, dtype: datetime64[ns]"
      ]
     },
     "execution_count": 21,
     "metadata": {},
     "output_type": "execute_result"
    }
   ],
   "source": [
    "pd.to_datetime(df['DOB'])"
   ]
  },
  {
   "cell_type": "code",
   "execution_count": 22,
   "id": "8f3900cc",
   "metadata": {},
   "outputs": [],
   "source": [
    "df['DoB'] = pd.to_datetime(df['DOB'])"
   ]
  },
  {
   "cell_type": "code",
   "execution_count": 24,
   "id": "45fdd98f",
   "metadata": {},
   "outputs": [],
   "source": [
    "df.drop(columns =['DOB','Age'],inplace = True)"
   ]
  },
  {
   "cell_type": "code",
   "execution_count": 26,
   "id": "04abfd9c",
   "metadata": {},
   "outputs": [
    {
     "data": {
      "text/html": [
       "<div>\n",
       "<style scoped>\n",
       "    .dataframe tbody tr th:only-of-type {\n",
       "        vertical-align: middle;\n",
       "    }\n",
       "\n",
       "    .dataframe tbody tr th {\n",
       "        vertical-align: top;\n",
       "    }\n",
       "\n",
       "    .dataframe thead th {\n",
       "        text-align: right;\n",
       "    }\n",
       "</style>\n",
       "<table border=\"1\" class=\"dataframe\">\n",
       "  <thead>\n",
       "    <tr style=\"text-align: right;\">\n",
       "      <th></th>\n",
       "      <th>Name of Member</th>\n",
       "      <th>Party Name</th>\n",
       "      <th>Constituency</th>\n",
       "      <th>State</th>\n",
       "      <th>UT</th>\n",
       "      <th>Category</th>\n",
       "      <th>Woman</th>\n",
       "      <th>First time</th>\n",
       "      <th>DoB</th>\n",
       "    </tr>\n",
       "  </thead>\n",
       "  <tbody>\n",
       "    <tr>\n",
       "      <th>0</th>\n",
       "      <td>Sharma, Shri Kuldeep Rai</td>\n",
       "      <td>Indian National Congress</td>\n",
       "      <td>Andaman and Nicobar Islands</td>\n",
       "      <td>Andaman and Nicobar Islands</td>\n",
       "      <td>1</td>\n",
       "      <td>General</td>\n",
       "      <td>0</td>\n",
       "      <td>1</td>\n",
       "      <td>1967-10-09</td>\n",
       "    </tr>\n",
       "    <tr>\n",
       "      <th>1</th>\n",
       "      <td>Beesetti , Dr. Venkata Satyavathi</td>\n",
       "      <td>Yuvajana Sramika Rythu Congress Party</td>\n",
       "      <td>Anakapalle</td>\n",
       "      <td>Andhra Pradesh</td>\n",
       "      <td>0</td>\n",
       "      <td>General</td>\n",
       "      <td>1</td>\n",
       "      <td>1</td>\n",
       "      <td>1966-04-28</td>\n",
       "    </tr>\n",
       "    <tr>\n",
       "      <th>2</th>\n",
       "      <td>Bellana, Shri Chandra Sekhar</td>\n",
       "      <td>Yuvajana Sramika Rythu Congress Party</td>\n",
       "      <td>Vizianagaram</td>\n",
       "      <td>Andhra Pradesh</td>\n",
       "      <td>0</td>\n",
       "      <td>General</td>\n",
       "      <td>0</td>\n",
       "      <td>1</td>\n",
       "      <td>1961-11-08</td>\n",
       "    </tr>\n",
       "    <tr>\n",
       "      <th>3</th>\n",
       "      <td>Chinta Anuradha, Smt.</td>\n",
       "      <td>Yuvajana Sramika Rythu Congress Party</td>\n",
       "      <td>Amalapuram</td>\n",
       "      <td>Andhra Pradesh</td>\n",
       "      <td>0</td>\n",
       "      <td>SC</td>\n",
       "      <td>1</td>\n",
       "      <td>1</td>\n",
       "      <td>1972-10-18</td>\n",
       "    </tr>\n",
       "    <tr>\n",
       "      <th>4</th>\n",
       "      <td>Galla, Shri Jayadev</td>\n",
       "      <td>Telugu Desam Party</td>\n",
       "      <td>Guntur</td>\n",
       "      <td>Andhra Pradesh</td>\n",
       "      <td>0</td>\n",
       "      <td>General</td>\n",
       "      <td>0</td>\n",
       "      <td>0</td>\n",
       "      <td>1966-03-24</td>\n",
       "    </tr>\n",
       "  </tbody>\n",
       "</table>\n",
       "</div>"
      ],
      "text/plain": [
       "                      Name of Member                             Party Name  \\\n",
       "0           Sharma, Shri Kuldeep Rai               Indian National Congress   \n",
       "1  Beesetti , Dr. Venkata Satyavathi  Yuvajana Sramika Rythu Congress Party   \n",
       "2       Bellana, Shri Chandra Sekhar  Yuvajana Sramika Rythu Congress Party   \n",
       "3              Chinta Anuradha, Smt.  Yuvajana Sramika Rythu Congress Party   \n",
       "4                Galla, Shri Jayadev                     Telugu Desam Party   \n",
       "\n",
       "                  Constituency                        State  UT Category  \\\n",
       "0  Andaman and Nicobar Islands  Andaman and Nicobar Islands   1  General   \n",
       "1                   Anakapalle               Andhra Pradesh   0  General   \n",
       "2                 Vizianagaram               Andhra Pradesh   0  General   \n",
       "3                   Amalapuram               Andhra Pradesh   0       SC   \n",
       "4                       Guntur               Andhra Pradesh   0  General   \n",
       "\n",
       "   Woman  First time        DoB  \n",
       "0      0           1 1967-10-09  \n",
       "1      1           1 1966-04-28  \n",
       "2      0           1 1961-11-08  \n",
       "3      1           1 1972-10-18  \n",
       "4      0           0 1966-03-24  "
      ]
     },
     "execution_count": 26,
     "metadata": {},
     "output_type": "execute_result"
    }
   ],
   "source": [
    "df.head()"
   ]
  },
  {
   "cell_type": "code",
   "execution_count": 40,
   "id": "98363abd",
   "metadata": {},
   "outputs": [],
   "source": [
    "df['Age'] = 2022 - df['DoB'].apply(lambda x: str(x).split('-')[0]).astype(int)"
   ]
  },
  {
   "cell_type": "code",
   "execution_count": 41,
   "id": "c85edd69",
   "metadata": {},
   "outputs": [
    {
     "data": {
      "text/html": [
       "<div>\n",
       "<style scoped>\n",
       "    .dataframe tbody tr th:only-of-type {\n",
       "        vertical-align: middle;\n",
       "    }\n",
       "\n",
       "    .dataframe tbody tr th {\n",
       "        vertical-align: top;\n",
       "    }\n",
       "\n",
       "    .dataframe thead th {\n",
       "        text-align: right;\n",
       "    }\n",
       "</style>\n",
       "<table border=\"1\" class=\"dataframe\">\n",
       "  <thead>\n",
       "    <tr style=\"text-align: right;\">\n",
       "      <th></th>\n",
       "      <th>Name of Member</th>\n",
       "      <th>Party Name</th>\n",
       "      <th>Constituency</th>\n",
       "      <th>State</th>\n",
       "      <th>UT</th>\n",
       "      <th>Category</th>\n",
       "      <th>Woman</th>\n",
       "      <th>First time</th>\n",
       "      <th>DoB</th>\n",
       "      <th>Age</th>\n",
       "    </tr>\n",
       "  </thead>\n",
       "  <tbody>\n",
       "    <tr>\n",
       "      <th>346</th>\n",
       "      <td>Meghwal, Shri Arjun Ram</td>\n",
       "      <td>Bharatiya Janata Party</td>\n",
       "      <td>Bikaner</td>\n",
       "      <td>Rajasthan</td>\n",
       "      <td>0</td>\n",
       "      <td>SC</td>\n",
       "      <td>0</td>\n",
       "      <td>0</td>\n",
       "      <td>1953-12-20</td>\n",
       "      <td>69</td>\n",
       "    </tr>\n",
       "  </tbody>\n",
       "</table>\n",
       "</div>"
      ],
      "text/plain": [
       "              Name of Member              Party Name Constituency      State  \\\n",
       "346  Meghwal, Shri Arjun Ram  Bharatiya Janata Party      Bikaner  Rajasthan   \n",
       "\n",
       "     UT Category  Woman  First time        DoB  Age  \n",
       "346   0       SC      0           0 1953-12-20   69  "
      ]
     },
     "execution_count": 41,
     "metadata": {},
     "output_type": "execute_result"
    }
   ],
   "source": [
    "df.sample()"
   ]
  },
  {
   "cell_type": "code",
   "execution_count": 45,
   "id": "af7a1fef",
   "metadata": {},
   "outputs": [
    {
     "data": {
      "text/plain": [
       "array(['General', 'SC', 'ST'], dtype=object)"
      ]
     },
     "execution_count": 45,
     "metadata": {},
     "output_type": "execute_result"
    }
   ],
   "source": [
    "df.Category.unique()"
   ]
  },
  {
   "cell_type": "code",
   "execution_count": 47,
   "id": "8a9fdb2d",
   "metadata": {},
   "outputs": [],
   "source": [
    "df.Woman = df.Woman.apply(lambda x: 'Male' if(x==1) else 'Female')"
   ]
  },
  {
   "cell_type": "code",
   "execution_count": 48,
   "id": "26a6a975",
   "metadata": {},
   "outputs": [],
   "source": [
    "df.rename(columns={'Woman':'Gender'},inplace =True)"
   ]
  },
  {
   "cell_type": "code",
   "execution_count": 49,
   "id": "737a631e",
   "metadata": {},
   "outputs": [
    {
     "data": {
      "text/html": [
       "<div>\n",
       "<style scoped>\n",
       "    .dataframe tbody tr th:only-of-type {\n",
       "        vertical-align: middle;\n",
       "    }\n",
       "\n",
       "    .dataframe tbody tr th {\n",
       "        vertical-align: top;\n",
       "    }\n",
       "\n",
       "    .dataframe thead th {\n",
       "        text-align: right;\n",
       "    }\n",
       "</style>\n",
       "<table border=\"1\" class=\"dataframe\">\n",
       "  <thead>\n",
       "    <tr style=\"text-align: right;\">\n",
       "      <th></th>\n",
       "      <th>Name of Member</th>\n",
       "      <th>Party Name</th>\n",
       "      <th>Constituency</th>\n",
       "      <th>State</th>\n",
       "      <th>UT</th>\n",
       "      <th>Category</th>\n",
       "      <th>Gender</th>\n",
       "      <th>First time</th>\n",
       "      <th>DoB</th>\n",
       "      <th>Age</th>\n",
       "    </tr>\n",
       "  </thead>\n",
       "  <tbody>\n",
       "    <tr>\n",
       "      <th>517</th>\n",
       "      <td>Hembram, Shri Kunar</td>\n",
       "      <td>Bharatiya Janata Party</td>\n",
       "      <td>Jhargram</td>\n",
       "      <td>West Bengal</td>\n",
       "      <td>0</td>\n",
       "      <td>ST</td>\n",
       "      <td>Female</td>\n",
       "      <td>1</td>\n",
       "      <td>1962-09-23</td>\n",
       "      <td>60</td>\n",
       "    </tr>\n",
       "  </tbody>\n",
       "</table>\n",
       "</div>"
      ],
      "text/plain": [
       "          Name of Member              Party Name Constituency        State  \\\n",
       "517  Hembram, Shri Kunar  Bharatiya Janata Party     Jhargram  West Bengal   \n",
       "\n",
       "     UT Category  Gender  First time        DoB  Age  \n",
       "517   0       ST  Female           1 1962-09-23   60  "
      ]
     },
     "execution_count": 49,
     "metadata": {},
     "output_type": "execute_result"
    }
   ],
   "source": [
    "df.sample()"
   ]
  },
  {
   "cell_type": "code",
   "execution_count": 51,
   "id": "134e7381",
   "metadata": {},
   "outputs": [],
   "source": [
    "df.Gender = df.Gender.apply(lambda x:'Male' if(x=='Female') else 'Female')"
   ]
  },
  {
   "cell_type": "code",
   "execution_count": 60,
   "id": "38bf03e0",
   "metadata": {},
   "outputs": [
    {
     "data": {
      "text/html": [
       "<div>\n",
       "<style scoped>\n",
       "    .dataframe tbody tr th:only-of-type {\n",
       "        vertical-align: middle;\n",
       "    }\n",
       "\n",
       "    .dataframe tbody tr th {\n",
       "        vertical-align: top;\n",
       "    }\n",
       "\n",
       "    .dataframe thead tr th {\n",
       "        text-align: left;\n",
       "    }\n",
       "\n",
       "    .dataframe thead tr:last-of-type th {\n",
       "        text-align: right;\n",
       "    }\n",
       "</style>\n",
       "<table border=\"1\" class=\"dataframe\">\n",
       "  <thead>\n",
       "    <tr>\n",
       "      <th></th>\n",
       "      <th colspan=\"2\" halign=\"left\">mean</th>\n",
       "      <th colspan=\"2\" halign=\"left\">count</th>\n",
       "      <th colspan=\"2\" halign=\"left\">min</th>\n",
       "      <th colspan=\"2\" halign=\"left\">max</th>\n",
       "    </tr>\n",
       "    <tr>\n",
       "      <th>Gender</th>\n",
       "      <th>Female</th>\n",
       "      <th>Male</th>\n",
       "      <th>Female</th>\n",
       "      <th>Male</th>\n",
       "      <th>Female</th>\n",
       "      <th>Male</th>\n",
       "      <th>Female</th>\n",
       "      <th>Male</th>\n",
       "    </tr>\n",
       "    <tr>\n",
       "      <th>Party Name</th>\n",
       "      <th></th>\n",
       "      <th></th>\n",
       "      <th></th>\n",
       "      <th></th>\n",
       "      <th></th>\n",
       "      <th></th>\n",
       "      <th></th>\n",
       "      <th></th>\n",
       "    </tr>\n",
       "  </thead>\n",
       "  <tbody>\n",
       "    <tr>\n",
       "      <th>AJSU Party</th>\n",
       "      <td>0.000000</td>\n",
       "      <td>55.000000</td>\n",
       "      <td>0.0</td>\n",
       "      <td>1.0</td>\n",
       "      <td>0.0</td>\n",
       "      <td>55.0</td>\n",
       "      <td>0.0</td>\n",
       "      <td>55.0</td>\n",
       "    </tr>\n",
       "    <tr>\n",
       "      <th>Aam Aadmi Party</th>\n",
       "      <td>0.000000</td>\n",
       "      <td>49.000000</td>\n",
       "      <td>0.0</td>\n",
       "      <td>1.0</td>\n",
       "      <td>0.0</td>\n",
       "      <td>49.0</td>\n",
       "      <td>0.0</td>\n",
       "      <td>49.0</td>\n",
       "    </tr>\n",
       "    <tr>\n",
       "      <th>All India Anna Dravida Munnetra Kazhagam</th>\n",
       "      <td>0.000000</td>\n",
       "      <td>42.000000</td>\n",
       "      <td>0.0</td>\n",
       "      <td>1.0</td>\n",
       "      <td>0.0</td>\n",
       "      <td>42.0</td>\n",
       "      <td>0.0</td>\n",
       "      <td>42.0</td>\n",
       "    </tr>\n",
       "    <tr>\n",
       "      <th>All India Majlis-E-Ittehadul Muslimeen</th>\n",
       "      <td>0.000000</td>\n",
       "      <td>53.500000</td>\n",
       "      <td>0.0</td>\n",
       "      <td>2.0</td>\n",
       "      <td>0.0</td>\n",
       "      <td>53.0</td>\n",
       "      <td>0.0</td>\n",
       "      <td>54.0</td>\n",
       "    </tr>\n",
       "    <tr>\n",
       "      <th>All India Trinamool Congress</th>\n",
       "      <td>49.555556</td>\n",
       "      <td>62.846154</td>\n",
       "      <td>9.0</td>\n",
       "      <td>13.0</td>\n",
       "      <td>32.0</td>\n",
       "      <td>35.0</td>\n",
       "      <td>65.0</td>\n",
       "      <td>84.0</td>\n",
       "    </tr>\n",
       "    <tr>\n",
       "      <th>All India United Democratic Front</th>\n",
       "      <td>0.000000</td>\n",
       "      <td>66.000000</td>\n",
       "      <td>0.0</td>\n",
       "      <td>1.0</td>\n",
       "      <td>0.0</td>\n",
       "      <td>66.0</td>\n",
       "      <td>0.0</td>\n",
       "      <td>66.0</td>\n",
       "    </tr>\n",
       "    <tr>\n",
       "      <th>Apna Dal</th>\n",
       "      <td>41.000000</td>\n",
       "      <td>70.000000</td>\n",
       "      <td>1.0</td>\n",
       "      <td>1.0</td>\n",
       "      <td>41.0</td>\n",
       "      <td>70.0</td>\n",
       "      <td>41.0</td>\n",
       "      <td>70.0</td>\n",
       "    </tr>\n",
       "    <tr>\n",
       "      <th>Bahujan Samaj Party</th>\n",
       "      <td>41.000000</td>\n",
       "      <td>55.444444</td>\n",
       "      <td>1.0</td>\n",
       "      <td>9.0</td>\n",
       "      <td>41.0</td>\n",
       "      <td>40.0</td>\n",
       "      <td>41.0</td>\n",
       "      <td>71.0</td>\n",
       "    </tr>\n",
       "    <tr>\n",
       "      <th>Bharatiya Janata Party</th>\n",
       "      <td>54.523810</td>\n",
       "      <td>58.926641</td>\n",
       "      <td>42.0</td>\n",
       "      <td>259.0</td>\n",
       "      <td>34.0</td>\n",
       "      <td>32.0</td>\n",
       "      <td>75.0</td>\n",
       "      <td>81.0</td>\n",
       "    </tr>\n",
       "    <tr>\n",
       "      <th>Biju Janata Dal</th>\n",
       "      <td>51.000000</td>\n",
       "      <td>57.714286</td>\n",
       "      <td>5.0</td>\n",
       "      <td>7.0</td>\n",
       "      <td>29.0</td>\n",
       "      <td>41.0</td>\n",
       "      <td>74.0</td>\n",
       "      <td>72.0</td>\n",
       "    </tr>\n",
       "    <tr>\n",
       "      <th>Communist Party of India</th>\n",
       "      <td>0.000000</td>\n",
       "      <td>70.000000</td>\n",
       "      <td>0.0</td>\n",
       "      <td>2.0</td>\n",
       "      <td>0.0</td>\n",
       "      <td>65.0</td>\n",
       "      <td>0.0</td>\n",
       "      <td>75.0</td>\n",
       "    </tr>\n",
       "    <tr>\n",
       "      <th>Communist Party of India (Marxist)</th>\n",
       "      <td>0.000000</td>\n",
       "      <td>60.666667</td>\n",
       "      <td>0.0</td>\n",
       "      <td>3.0</td>\n",
       "      <td>0.0</td>\n",
       "      <td>52.0</td>\n",
       "      <td>0.0</td>\n",
       "      <td>72.0</td>\n",
       "    </tr>\n",
       "    <tr>\n",
       "      <th>Dravida Munnetra Kazhagam</th>\n",
       "      <td>57.000000</td>\n",
       "      <td>59.090909</td>\n",
       "      <td>2.0</td>\n",
       "      <td>22.0</td>\n",
       "      <td>54.0</td>\n",
       "      <td>45.0</td>\n",
       "      <td>60.0</td>\n",
       "      <td>81.0</td>\n",
       "    </tr>\n",
       "    <tr>\n",
       "      <th>Independent</th>\n",
       "      <td>48.000000</td>\n",
       "      <td>53.000000</td>\n",
       "      <td>2.0</td>\n",
       "      <td>1.0</td>\n",
       "      <td>37.0</td>\n",
       "      <td>53.0</td>\n",
       "      <td>59.0</td>\n",
       "      <td>53.0</td>\n",
       "    </tr>\n",
       "    <tr>\n",
       "      <th>Indian National Congress</th>\n",
       "      <td>57.500000</td>\n",
       "      <td>58.869565</td>\n",
       "      <td>6.0</td>\n",
       "      <td>46.0</td>\n",
       "      <td>36.0</td>\n",
       "      <td>39.0</td>\n",
       "      <td>78.0</td>\n",
       "      <td>83.0</td>\n",
       "    </tr>\n",
       "    <tr>\n",
       "      <th>Indian Union Muslim League</th>\n",
       "      <td>0.000000</td>\n",
       "      <td>60.666667</td>\n",
       "      <td>0.0</td>\n",
       "      <td>3.0</td>\n",
       "      <td>0.0</td>\n",
       "      <td>43.0</td>\n",
       "      <td>0.0</td>\n",
       "      <td>76.0</td>\n",
       "    </tr>\n",
       "    <tr>\n",
       "      <th>Jammu and Kashmir National Conference</th>\n",
       "      <td>0.000000</td>\n",
       "      <td>76.000000</td>\n",
       "      <td>0.0</td>\n",
       "      <td>3.0</td>\n",
       "      <td>0.0</td>\n",
       "      <td>68.0</td>\n",
       "      <td>0.0</td>\n",
       "      <td>85.0</td>\n",
       "    </tr>\n",
       "    <tr>\n",
       "      <th>Janata Dal (Secular)</th>\n",
       "      <td>0.000000</td>\n",
       "      <td>32.000000</td>\n",
       "      <td>0.0</td>\n",
       "      <td>1.0</td>\n",
       "      <td>0.0</td>\n",
       "      <td>32.0</td>\n",
       "      <td>0.0</td>\n",
       "      <td>32.0</td>\n",
       "    </tr>\n",
       "    <tr>\n",
       "      <th>Janata Dal (United)</th>\n",
       "      <td>37.000000</td>\n",
       "      <td>60.666667</td>\n",
       "      <td>1.0</td>\n",
       "      <td>15.0</td>\n",
       "      <td>37.0</td>\n",
       "      <td>38.0</td>\n",
       "      <td>37.0</td>\n",
       "      <td>76.0</td>\n",
       "    </tr>\n",
       "    <tr>\n",
       "      <th>Jharkhand Mukti Morcha</th>\n",
       "      <td>0.000000</td>\n",
       "      <td>40.000000</td>\n",
       "      <td>0.0</td>\n",
       "      <td>1.0</td>\n",
       "      <td>0.0</td>\n",
       "      <td>40.0</td>\n",
       "      <td>0.0</td>\n",
       "      <td>40.0</td>\n",
       "    </tr>\n",
       "    <tr>\n",
       "      <th>Kerala Congress (M)</th>\n",
       "      <td>0.000000</td>\n",
       "      <td>70.000000</td>\n",
       "      <td>0.0</td>\n",
       "      <td>1.0</td>\n",
       "      <td>0.0</td>\n",
       "      <td>70.0</td>\n",
       "      <td>0.0</td>\n",
       "      <td>70.0</td>\n",
       "    </tr>\n",
       "    <tr>\n",
       "      <th>Lok Jan Shakti Party</th>\n",
       "      <td>55.000000</td>\n",
       "      <td>48.800000</td>\n",
       "      <td>1.0</td>\n",
       "      <td>5.0</td>\n",
       "      <td>55.0</td>\n",
       "      <td>33.0</td>\n",
       "      <td>55.0</td>\n",
       "      <td>70.0</td>\n",
       "    </tr>\n",
       "    <tr>\n",
       "      <th>Mizo National Front</th>\n",
       "      <td>0.000000</td>\n",
       "      <td>65.000000</td>\n",
       "      <td>0.0</td>\n",
       "      <td>1.0</td>\n",
       "      <td>0.0</td>\n",
       "      <td>65.0</td>\n",
       "      <td>0.0</td>\n",
       "      <td>65.0</td>\n",
       "    </tr>\n",
       "    <tr>\n",
       "      <th>Naga Peoples Front</th>\n",
       "      <td>0.000000</td>\n",
       "      <td>62.000000</td>\n",
       "      <td>0.0</td>\n",
       "      <td>1.0</td>\n",
       "      <td>0.0</td>\n",
       "      <td>62.0</td>\n",
       "      <td>0.0</td>\n",
       "      <td>62.0</td>\n",
       "    </tr>\n",
       "    <tr>\n",
       "      <th>National People's Party</th>\n",
       "      <td>42.000000</td>\n",
       "      <td>0.000000</td>\n",
       "      <td>1.0</td>\n",
       "      <td>0.0</td>\n",
       "      <td>42.0</td>\n",
       "      <td>0.0</td>\n",
       "      <td>42.0</td>\n",
       "      <td>0.0</td>\n",
       "    </tr>\n",
       "    <tr>\n",
       "      <th>Nationalist Congress Party</th>\n",
       "      <td>53.000000</td>\n",
       "      <td>59.250000</td>\n",
       "      <td>1.0</td>\n",
       "      <td>4.0</td>\n",
       "      <td>53.0</td>\n",
       "      <td>42.0</td>\n",
       "      <td>53.0</td>\n",
       "      <td>81.0</td>\n",
       "    </tr>\n",
       "    <tr>\n",
       "      <th>Nationalist Democratic Progressive Party</th>\n",
       "      <td>0.000000</td>\n",
       "      <td>66.000000</td>\n",
       "      <td>0.0</td>\n",
       "      <td>1.0</td>\n",
       "      <td>0.0</td>\n",
       "      <td>66.0</td>\n",
       "      <td>0.0</td>\n",
       "      <td>66.0</td>\n",
       "    </tr>\n",
       "    <tr>\n",
       "      <th>Rashtriya Loktantrik Party</th>\n",
       "      <td>0.000000</td>\n",
       "      <td>50.000000</td>\n",
       "      <td>0.0</td>\n",
       "      <td>1.0</td>\n",
       "      <td>0.0</td>\n",
       "      <td>50.0</td>\n",
       "      <td>0.0</td>\n",
       "      <td>50.0</td>\n",
       "    </tr>\n",
       "    <tr>\n",
       "      <th>Revolutionary Socialist Party</th>\n",
       "      <td>0.000000</td>\n",
       "      <td>62.000000</td>\n",
       "      <td>0.0</td>\n",
       "      <td>1.0</td>\n",
       "      <td>0.0</td>\n",
       "      <td>62.0</td>\n",
       "      <td>0.0</td>\n",
       "      <td>62.0</td>\n",
       "    </tr>\n",
       "    <tr>\n",
       "      <th>Samajwadi Party</th>\n",
       "      <td>0.000000</td>\n",
       "      <td>72.400000</td>\n",
       "      <td>0.0</td>\n",
       "      <td>5.0</td>\n",
       "      <td>0.0</td>\n",
       "      <td>49.0</td>\n",
       "      <td>0.0</td>\n",
       "      <td>92.0</td>\n",
       "    </tr>\n",
       "    <tr>\n",
       "      <th>Shiromani Akali Dal</th>\n",
       "      <td>56.000000</td>\n",
       "      <td>60.000000</td>\n",
       "      <td>1.0</td>\n",
       "      <td>1.0</td>\n",
       "      <td>56.0</td>\n",
       "      <td>60.0</td>\n",
       "      <td>56.0</td>\n",
       "      <td>60.0</td>\n",
       "    </tr>\n",
       "    <tr>\n",
       "      <th>Shiv Sena</th>\n",
       "      <td>49.000000</td>\n",
       "      <td>56.058824</td>\n",
       "      <td>1.0</td>\n",
       "      <td>17.0</td>\n",
       "      <td>49.0</td>\n",
       "      <td>35.0</td>\n",
       "      <td>49.0</td>\n",
       "      <td>79.0</td>\n",
       "    </tr>\n",
       "    <tr>\n",
       "      <th>Sikkim Krantikari Morcha</th>\n",
       "      <td>0.000000</td>\n",
       "      <td>33.000000</td>\n",
       "      <td>0.0</td>\n",
       "      <td>1.0</td>\n",
       "      <td>0.0</td>\n",
       "      <td>33.0</td>\n",
       "      <td>0.0</td>\n",
       "      <td>33.0</td>\n",
       "    </tr>\n",
       "    <tr>\n",
       "      <th>Telangana Rashtra Samithi</th>\n",
       "      <td>42.000000</td>\n",
       "      <td>60.000000</td>\n",
       "      <td>1.0</td>\n",
       "      <td>8.0</td>\n",
       "      <td>42.0</td>\n",
       "      <td>46.0</td>\n",
       "      <td>42.0</td>\n",
       "      <td>70.0</td>\n",
       "    </tr>\n",
       "    <tr>\n",
       "      <th>Telugu Desam Party</th>\n",
       "      <td>0.000000</td>\n",
       "      <td>49.000000</td>\n",
       "      <td>0.0</td>\n",
       "      <td>3.0</td>\n",
       "      <td>0.0</td>\n",
       "      <td>35.0</td>\n",
       "      <td>0.0</td>\n",
       "      <td>56.0</td>\n",
       "    </tr>\n",
       "    <tr>\n",
       "      <th>Viduthalai Chiruthaigal Katchi</th>\n",
       "      <td>0.000000</td>\n",
       "      <td>60.000000</td>\n",
       "      <td>0.0</td>\n",
       "      <td>1.0</td>\n",
       "      <td>0.0</td>\n",
       "      <td>60.0</td>\n",
       "      <td>0.0</td>\n",
       "      <td>60.0</td>\n",
       "    </tr>\n",
       "    <tr>\n",
       "      <th>Yuvajana Sramika Rythu Congress Party</th>\n",
       "      <td>48.500000</td>\n",
       "      <td>53.500000</td>\n",
       "      <td>4.0</td>\n",
       "      <td>18.0</td>\n",
       "      <td>30.0</td>\n",
       "      <td>37.0</td>\n",
       "      <td>58.0</td>\n",
       "      <td>74.0</td>\n",
       "    </tr>\n",
       "  </tbody>\n",
       "</table>\n",
       "</div>"
      ],
      "text/plain": [
       "                                               mean             count         \\\n",
       "Gender                                       Female       Male Female   Male   \n",
       "Party Name                                                                     \n",
       "AJSU Party                                 0.000000  55.000000    0.0    1.0   \n",
       "Aam Aadmi Party                            0.000000  49.000000    0.0    1.0   \n",
       "All India Anna Dravida Munnetra Kazhagam   0.000000  42.000000    0.0    1.0   \n",
       "All India Majlis-E-Ittehadul Muslimeen     0.000000  53.500000    0.0    2.0   \n",
       "All India Trinamool Congress              49.555556  62.846154    9.0   13.0   \n",
       "All India United Democratic Front          0.000000  66.000000    0.0    1.0   \n",
       "Apna Dal                                  41.000000  70.000000    1.0    1.0   \n",
       "Bahujan Samaj Party                       41.000000  55.444444    1.0    9.0   \n",
       "Bharatiya Janata Party                    54.523810  58.926641   42.0  259.0   \n",
       "Biju Janata Dal                           51.000000  57.714286    5.0    7.0   \n",
       "Communist Party of India                   0.000000  70.000000    0.0    2.0   \n",
       "Communist Party of India (Marxist)         0.000000  60.666667    0.0    3.0   \n",
       "Dravida Munnetra Kazhagam                 57.000000  59.090909    2.0   22.0   \n",
       "Independent                               48.000000  53.000000    2.0    1.0   \n",
       "Indian National Congress                  57.500000  58.869565    6.0   46.0   \n",
       "Indian Union Muslim League                 0.000000  60.666667    0.0    3.0   \n",
       "Jammu and Kashmir National Conference      0.000000  76.000000    0.0    3.0   \n",
       "Janata Dal (Secular)                       0.000000  32.000000    0.0    1.0   \n",
       "Janata Dal (United)                       37.000000  60.666667    1.0   15.0   \n",
       "Jharkhand Mukti Morcha                     0.000000  40.000000    0.0    1.0   \n",
       "Kerala Congress (M)                        0.000000  70.000000    0.0    1.0   \n",
       "Lok Jan Shakti Party                      55.000000  48.800000    1.0    5.0   \n",
       "Mizo National Front                        0.000000  65.000000    0.0    1.0   \n",
       "Naga Peoples Front                         0.000000  62.000000    0.0    1.0   \n",
       "National People's Party                   42.000000   0.000000    1.0    0.0   \n",
       "Nationalist Congress Party                53.000000  59.250000    1.0    4.0   \n",
       "Nationalist Democratic Progressive Party   0.000000  66.000000    0.0    1.0   \n",
       "Rashtriya Loktantrik Party                 0.000000  50.000000    0.0    1.0   \n",
       "Revolutionary Socialist Party              0.000000  62.000000    0.0    1.0   \n",
       "Samajwadi Party                            0.000000  72.400000    0.0    5.0   \n",
       "Shiromani Akali Dal                       56.000000  60.000000    1.0    1.0   \n",
       "Shiv Sena                                 49.000000  56.058824    1.0   17.0   \n",
       "Sikkim Krantikari Morcha                   0.000000  33.000000    0.0    1.0   \n",
       "Telangana Rashtra Samithi                 42.000000  60.000000    1.0    8.0   \n",
       "Telugu Desam Party                         0.000000  49.000000    0.0    3.0   \n",
       "Viduthalai Chiruthaigal Katchi             0.000000  60.000000    0.0    1.0   \n",
       "Yuvajana Sramika Rythu Congress Party     48.500000  53.500000    4.0   18.0   \n",
       "\n",
       "                                            min          max        \n",
       "Gender                                   Female  Male Female  Male  \n",
       "Party Name                                                          \n",
       "AJSU Party                                  0.0  55.0    0.0  55.0  \n",
       "Aam Aadmi Party                             0.0  49.0    0.0  49.0  \n",
       "All India Anna Dravida Munnetra Kazhagam    0.0  42.0    0.0  42.0  \n",
       "All India Majlis-E-Ittehadul Muslimeen      0.0  53.0    0.0  54.0  \n",
       "All India Trinamool Congress               32.0  35.0   65.0  84.0  \n",
       "All India United Democratic Front           0.0  66.0    0.0  66.0  \n",
       "Apna Dal                                   41.0  70.0   41.0  70.0  \n",
       "Bahujan Samaj Party                        41.0  40.0   41.0  71.0  \n",
       "Bharatiya Janata Party                     34.0  32.0   75.0  81.0  \n",
       "Biju Janata Dal                            29.0  41.0   74.0  72.0  \n",
       "Communist Party of India                    0.0  65.0    0.0  75.0  \n",
       "Communist Party of India (Marxist)          0.0  52.0    0.0  72.0  \n",
       "Dravida Munnetra Kazhagam                  54.0  45.0   60.0  81.0  \n",
       "Independent                                37.0  53.0   59.0  53.0  \n",
       "Indian National Congress                   36.0  39.0   78.0  83.0  \n",
       "Indian Union Muslim League                  0.0  43.0    0.0  76.0  \n",
       "Jammu and Kashmir National Conference       0.0  68.0    0.0  85.0  \n",
       "Janata Dal (Secular)                        0.0  32.0    0.0  32.0  \n",
       "Janata Dal (United)                        37.0  38.0   37.0  76.0  \n",
       "Jharkhand Mukti Morcha                      0.0  40.0    0.0  40.0  \n",
       "Kerala Congress (M)                         0.0  70.0    0.0  70.0  \n",
       "Lok Jan Shakti Party                       55.0  33.0   55.0  70.0  \n",
       "Mizo National Front                         0.0  65.0    0.0  65.0  \n",
       "Naga Peoples Front                          0.0  62.0    0.0  62.0  \n",
       "National People's Party                    42.0   0.0   42.0   0.0  \n",
       "Nationalist Congress Party                 53.0  42.0   53.0  81.0  \n",
       "Nationalist Democratic Progressive Party    0.0  66.0    0.0  66.0  \n",
       "Rashtriya Loktantrik Party                  0.0  50.0    0.0  50.0  \n",
       "Revolutionary Socialist Party               0.0  62.0    0.0  62.0  \n",
       "Samajwadi Party                             0.0  49.0    0.0  92.0  \n",
       "Shiromani Akali Dal                        56.0  60.0   56.0  60.0  \n",
       "Shiv Sena                                  49.0  35.0   49.0  79.0  \n",
       "Sikkim Krantikari Morcha                    0.0  33.0    0.0  33.0  \n",
       "Telangana Rashtra Samithi                  42.0  46.0   42.0  70.0  \n",
       "Telugu Desam Party                          0.0  35.0    0.0  56.0  \n",
       "Viduthalai Chiruthaigal Katchi              0.0  60.0    0.0  60.0  \n",
       "Yuvajana Sramika Rythu Congress Party      30.0  37.0   58.0  74.0  "
      ]
     },
     "execution_count": 60,
     "metadata": {},
     "output_type": "execute_result"
    }
   ],
   "source": [
    "df.pivot_table(values='Age',columns='Gender',index='Party Name',aggfunc=['mean','count','min','max']).fillna(0)"
   ]
  },
  {
   "cell_type": "markdown",
   "id": "35d07519",
   "metadata": {},
   "source": [
    "### Conclusions:\n",
    "\n",
    "* We can be clearly seen that for every party avg age of male candidates is **greater than** that for female candidates.\n",
    "* Senior most *Male* MP is from **Samajwadi party** with the age of **92**.\n",
    "* Senior most *Female* MP is from **Indian National Congress** with the age of **78**.\n",
    "* Yongest *Male* MP is from **Janta Dal (Secular)** with the age of **32**.\n",
    "* Yongest *Female* MP if from **Biju Janata Dal** with the age of **29**."
   ]
  },
  {
   "cell_type": "code",
   "execution_count": 71,
   "id": "dc0e5ee3",
   "metadata": {},
   "outputs": [
    {
     "data": {
      "text/plain": [
       "Male      461\n",
       "Female     79\n",
       "Name: Gender, dtype: int64"
      ]
     },
     "execution_count": 71,
     "metadata": {},
     "output_type": "execute_result"
    }
   ],
   "source": [
    "df.Gender.value_counts()"
   ]
  },
  {
   "cell_type": "code",
   "execution_count": 94,
   "id": "f0205385",
   "metadata": {},
   "outputs": [
    {
     "data": {
      "image/png": "[encoded data removed]",
      "text/plain": [
       "<Figure size 432x288 with 1 Axes>"
      ]
     },
     "metadata": {},
     "output_type": "display_data"
    }
   ],
   "source": [
    "plt.pie(df.Gender.value_counts().values,labels=df.Gender.value_counts().index,autopct='%.2f')\n",
    "plt.show()"
   ]
  },
  {
   "cell_type": "markdown",
   "id": "243efded",
   "metadata": {},
   "source": [
    "**In total there are 461 Male MPs and 79 Female MP in Parliament.**"
   ]
  },
  {
   "cell_type": "code",
   "execution_count": 109,
   "id": "9b6d3c3d",
   "metadata": {},
   "outputs": [],
   "source": [
    "count_gender = df.groupby(['State','Gender'])['Name of Member'].count().reset_index()"
   ]
  },
  {
   "cell_type": "code",
   "execution_count": 115,
   "id": "7d50fce5",
   "metadata": {},
   "outputs": [
    {
     "name": "stderr",
     "output_type": "stream",
     "text": [
      "F:\\Python 38\\lib\\site-packages\\seaborn\\_decorators.py:36: FutureWarning: Pass the following variables as keyword args: x, y. From version 0.12, the only valid positional argument will be `data`, and passing other arguments without an explicit keyword will result in an error or misinterpretation.\n",
      "  warnings.warn(\n"
     ]
    },
    {
     "data": {
      "image/png": "[encoded data removed]",
      "text/plain": [
       "<Figure size 1440x720 with 1 Axes>"
      ]
     },
     "metadata": {
      "needs_background": "light"
     },
     "output_type": "display_data"
    }
   ],
   "source": [
    "plt.figure(figsize=(20,10))\n",
    "sns.barplot('State','Name of Member',data=count_gender,hue='Gender')\n",
    "plt.xticks(rotation =90)\n",
    "plt.title('Gender wise MPs across the states',fontsize=16)\n",
    "plt.ylabel('No.of MPs')\n",
    "plt.show()"
   ]
  },
  {
   "cell_type": "code",
   "execution_count": 116,
   "id": "024acb96",
   "metadata": {},
   "outputs": [],
   "source": [
    "count_Cate = df.groupby(['State','Category'])['Name of Member'].count().reset_index()"
   ]
  },
  {
   "cell_type": "code",
   "execution_count": 123,
   "id": "647a80d9",
   "metadata": {},
   "outputs": [
    {
     "name": "stderr",
     "output_type": "stream",
     "text": [
      "F:\\Python 38\\lib\\site-packages\\seaborn\\_decorators.py:36: FutureWarning: Pass the following variables as keyword args: x, y. From version 0.12, the only valid positional argument will be `data`, and passing other arguments without an explicit keyword will result in an error or misinterpretation.\n",
      "  warnings.warn(\n"
     ]
    },
    {
     "data": {
      "image/png": "[encoded data removed]",
      "text/plain": [
       "<Figure size 2160x720 with 1 Axes>"
      ]
     },
     "metadata": {
      "needs_background": "light"
     },
     "output_type": "display_data"
    }
   ],
   "source": [
    "plt.figure(figsize=(30,10))\n",
    "sns.barplot('State','Name of Member',data=count_Cate,hue='Category')\n",
    "plt.xticks(rotation =90)\n",
    "plt.title('Category wise MPs across the states',fontsize=25)\n",
    "plt.ylabel('No.of MPs')\n",
    "plt.show()"
   ]
  },
  {
   "cell_type": "markdown",
   "id": "0306f5ab",
   "metadata": {},
   "source": [
    "### AGE DISTRIBUTION OF MPs"
   ]
  },
  {
   "cell_type": "code",
   "execution_count": 125,
   "id": "30d69317",
   "metadata": {},
   "outputs": [
    {
     "data": {
      "text/plain": [
       "<AxesSubplot:xlabel='Age', ylabel='Count'>"
      ]
     },
     "execution_count": 125,
     "metadata": {},
     "output_type": "execute_result"
    },
    {
     "data": {
      "image/png": "[encoded data removed]",
      "text/plain": [
       "<Figure size 432x288 with 1 Axes>"
      ]
     },
     "metadata": {
      "needs_background": "light"
     },
     "output_type": "display_data"
    }
   ],
   "source": [
    "sns.histplot(df['Age'],kde=True)"
   ]
  },
  {
   "cell_type": "code",
   "execution_count": 131,
   "id": "59721299",
   "metadata": {},
   "outputs": [
    {
     "data": {
      "image/png": "[encoded data removed]",
      "text/plain": [
       "<Figure size 432x288 with 1 Axes>"
      ]
     },
     "metadata": {},
     "output_type": "display_data"
    }
   ],
   "source": [
    "plt.pie(df['First time'].value_counts().values,labels=['No','Yes'],autopct='%.2f')\n",
    "plt.show()"
   ]
  },
  {
   "cell_type": "code",
   "execution_count": 139,
   "id": "e7210828",
   "metadata": {},
   "outputs": [
    {
     "data": {
      "image/png": "[encoded data removed]",
      "text/plain": [
       "<Figure size 432x288 with 1 Axes>"
      ]
     },
     "metadata": {},
     "output_type": "display_data"
    }
   ],
   "source": [
    "plt.pie(df['Category'].value_counts().values,labels=['General','SC','ST'],autopct='%.3f',shadow=True)\n",
    "plt.show()"
   ]
  }
 ],
 "metadata": {
  "kernelspec": {
   "display_name": "Python 3 (ipykernel)",
   "language": "python",
   "name": "python3"
  },
  "language_info": {
   "codemirror_mode": {
    "name": "ipython",
    "version": 3
   },
   "file_extension": ".py",
   "mimetype": "text/x-python",
   "name": "python",
   "nbconvert_exporter": "python",
   "pygments_lexer": "ipython3",
   "version": "3.8.0"
  }
 },
 "nbformat": 4,
 "nbformat_minor": 5
}
